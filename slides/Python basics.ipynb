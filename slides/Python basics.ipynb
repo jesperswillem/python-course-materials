{
 "cells": [
  {
   "cell_type": "markdown",
   "metadata": {
    "slideshow": {
     "slide_type": "slide"
    }
   },
   "source": [
    "# Aim of these slides\n",
    "\n",
    "* Show what is possible\n",
    "* Introduce concepts of (Python) programming\n",
    "* No need to memorize everything!"
   ]
  },
  {
   "cell_type": "markdown",
   "metadata": {
    "slideshow": {
     "slide_type": "slide"
    }
   },
   "source": [
    "# Using jupyter\n",
    "\n",
    "* Two main cell types: code and markdown\n",
    "* Two modes: edit mode (cursor visible) and command mode\n",
    "* Enter command mode: select cell and press enter\n",
    "* Execute cell: `ctrl+enter`"
   ]
  },
  {
   "cell_type": "code",
   "execution_count": 2,
   "metadata": {},
   "outputs": [
    {
     "name": "stdout",
     "output_type": "stream",
     "text": [
      "3.7.3 | packaged by conda-forge | (default, Jul  1 2019, 21:52:21) \n",
      "[GCC 7.3.0]\n"
     ]
    }
   ],
   "source": [
    "import sys\n",
    "print(sys.version)"
   ]
  },
  {
   "cell_type": "markdown",
   "metadata": {
    "slideshow": {
     "slide_type": "subslide"
    }
   },
   "source": [
    "# Accessing help \n",
    "\n",
    "* `?print`\n",
    "* Type command and use `shift+tab` \n",
    "    * once: basic doc string\n",
    "    * twice: extended doc string\n",
    "    * lots: same as `?`"
   ]
  },
  {
   "cell_type": "code",
   "execution_count": 3,
   "metadata": {
    "slideshow": {
     "slide_type": "-"
    }
   },
   "outputs": [
    {
     "data": {
      "text/plain": [
       "\u001b[0;31mDocstring:\u001b[0m\n",
       "print(value, ..., sep=' ', end='\\n', file=sys.stdout, flush=False)\n",
       "\n",
       "Prints the values to a stream, or to sys.stdout by default.\n",
       "Optional keyword arguments:\n",
       "file:  a file-like object (stream); defaults to the current sys.stdout.\n",
       "sep:   string inserted between values, default a space.\n",
       "end:   string appended after the last value, default a newline.\n",
       "flush: whether to forcibly flush the stream.\n",
       "\u001b[0;31mType:\u001b[0m      builtin_function_or_method\n"
      ]
     },
     "metadata": {},
     "output_type": "display_data"
    }
   ],
   "source": [
    "?print"
   ]
  },
  {
   "cell_type": "markdown",
   "metadata": {
    "slideshow": {
     "slide_type": "slide"
    }
   },
   "source": [
    "# Our very first program - terminology"
   ]
  },
  {
   "cell_type": "code",
   "execution_count": 4,
   "metadata": {},
   "outputs": [
    {
     "name": "stdout",
     "output_type": "stream",
     "text": [
      "3\n"
     ]
    }
   ],
   "source": [
    "x = 1+2\n",
    "print(x) "
   ]
  },
  {
   "cell_type": "markdown",
   "metadata": {},
   "source": [
    "* Each line is an *statement*\n",
    "* `+` and `=` are *operators*\n",
    "    * The *assignment* operator `=` assigns a *value* to a *variable* `x`\n",
    "* Function call: `print(x)`"
   ]
  },
  {
   "cell_type": "markdown",
   "metadata": {
    "slideshow": {
     "slide_type": "subslide"
    }
   },
   "source": [
    "# Understanding error messages\n",
    "\n",
    "* When something is wrong, Python will show the exact problem."
   ]
  },
  {
   "cell_type": "code",
   "execution_count": 5,
   "metadata": {
    "slideshow": {
     "slide_type": "-"
    }
   },
   "outputs": [
    {
     "ename": "NameError",
     "evalue": "name 'nothing' is not defined",
     "output_type": "error",
     "traceback": [
      "\u001b[0;31m---------------------------------------------------------------------------\u001b[0m",
      "\u001b[0;31mNameError\u001b[0m                                 Traceback (most recent call last)",
      "\u001b[0;32m<ipython-input-5-d4083a8b6a8c>\u001b[0m in \u001b[0;36m<module>\u001b[0;34m\u001b[0m\n\u001b[1;32m      1\u001b[0m \u001b[0ma\u001b[0m \u001b[0;34m=\u001b[0m \u001b[0;36m2\u001b[0m\u001b[0;34m\u001b[0m\u001b[0;34m\u001b[0m\u001b[0m\n\u001b[0;32m----> 2\u001b[0;31m \u001b[0mprint\u001b[0m\u001b[0;34m(\u001b[0m\u001b[0mnothing\u001b[0m\u001b[0;34m)\u001b[0m\u001b[0;34m\u001b[0m\u001b[0;34m\u001b[0m\u001b[0m\n\u001b[0m",
      "\u001b[0;31mNameError\u001b[0m: name 'nothing' is not defined"
     ]
    }
   ],
   "source": [
    "a = 2\n",
    "print(nothing)"
   ]
  },
  {
   "cell_type": "markdown",
   "metadata": {
    "slideshow": {
     "slide_type": "subslide"
    }
   },
   "source": [
    "# Variable names\n",
    "\n",
    "* first character **must** be a letter\n",
    "    * or a `_`, but this is reserved for specific usages\n",
    "* second character (if used) can be a letter, digit, or `_`\n",
    "* variable names are **case sensitive**\n",
    "* no special characters, such as `! @ # $ % ^ & * .....`"
   ]
  },
  {
   "cell_type": "code",
   "execution_count": 7,
   "metadata": {},
   "outputs": [
    {
     "ename": "AttributeError",
     "evalue": "'int' object has no attribute 'x'",
     "output_type": "error",
     "traceback": [
      "\u001b[0;31m---------------------------------------------------------------------------\u001b[0m",
      "\u001b[0;31mAttributeError\u001b[0m                            Traceback (most recent call last)",
      "\u001b[0;32m<ipython-input-7-ab9dfe429e45>\u001b[0m in \u001b[0;36m<module>\u001b[0;34m\u001b[0m\n\u001b[1;32m      2\u001b[0m \u001b[0;31m#0a = 1\u001b[0m\u001b[0;34m\u001b[0m\u001b[0;34m\u001b[0m\u001b[0;34m\u001b[0m\u001b[0m\n\u001b[1;32m      3\u001b[0m \u001b[0ma\u001b[0m \u001b[0;34m=\u001b[0m \u001b[0;36m1\u001b[0m\u001b[0;34m\u001b[0m\u001b[0;34m\u001b[0m\u001b[0m\n\u001b[0;32m----> 4\u001b[0;31m \u001b[0ma\u001b[0m\u001b[0;34m.\u001b[0m\u001b[0mx\u001b[0m \u001b[0;34m=\u001b[0m \u001b[0;36m1\u001b[0m\u001b[0;34m\u001b[0m\u001b[0;34m\u001b[0m\u001b[0m\n\u001b[0m\u001b[1;32m      5\u001b[0m \u001b[0;31m#c = 1\u001b[0m\u001b[0;34m\u001b[0m\u001b[0;34m\u001b[0m\u001b[0;34m\u001b[0m\u001b[0m\n\u001b[1;32m      6\u001b[0m \u001b[0;31m#c.x = 1\u001b[0m\u001b[0;34m\u001b[0m\u001b[0;34m\u001b[0m\u001b[0;34m\u001b[0m\u001b[0m\n",
      "\u001b[0;31mAttributeError\u001b[0m: 'int' object has no attribute 'x'"
     ]
    }
   ],
   "source": [
    "# describe your code\n",
    "#0a = 1\n",
    "a = 1\n",
    "a.x = 1\n",
    "#c = 1\n",
    "#c.x = 1\n",
    "#A*B = 1"
   ]
  },
  {
   "cell_type": "markdown",
   "metadata": {
    "slideshow": {
     "slide_type": "subslide"
    }
   },
   "source": [
    "# Keywords cannot be used as variable names\n",
    "\n",
    "* Using any of these as variable names will break stuff!\n",
    "\n",
    "<table border=\"0\" width=\"1000\" style=\"font-size:1em\">\n",
    "\t<tbody>\n",
    "\t\t<tr>\n",
    "\t\t\t<td>False</td>\n",
    "\t\t\t<td>class</td>\n",
    "\t\t\t<td>finally</td>\n",
    "\t\t\t<td>is</td>\n",
    "\t\t\t<td>return</td>\n",
    "\t\t</tr>\n",
    "\t\t<tr>\n",
    "\t\t\t<td>None</td>\n",
    "\t\t\t<td>continue</td>\n",
    "\t\t\t<td>for</td>\n",
    "\t\t\t<td>lambda</td>\n",
    "\t\t\t<td>try</td>\n",
    "\t\t</tr>\n",
    "\t\t<tr>\n",
    "\t\t\t<td>True</td>\n",
    "\t\t\t<td>def</td>\n",
    "\t\t\t<td>from</td>\n",
    "\t\t\t<td>nonlocal</td>\n",
    "\t\t\t<td>while</td>\n",
    "\t\t</tr>\n",
    "\t\t<tr>\n",
    "\t\t\t<td>and</td>\n",
    "\t\t\t<td>del</td>\n",
    "\t\t\t<td>global</td>\n",
    "\t\t\t<td>not</td>\n",
    "\t\t\t<td>with</td>\n",
    "\t\t</tr>\n",
    "\t\t<tr>\n",
    "\t\t\t<td>as</td>\n",
    "\t\t\t<td>elif</td>\n",
    "\t\t\t<td>if</td>\n",
    "\t\t\t<td>or</td>\n",
    "\t\t\t<td>yield</td>\n",
    "\t\t</tr>\n",
    "\t\t<tr>\n",
    "\t\t\t<td>assert</td>\n",
    "\t\t\t<td>else</td>\n",
    "\t\t\t<td>import</td>\n",
    "\t\t\t<td>pass</td>\n",
    "\t\t\t<td>&nbsp;</td>\n",
    "\t\t</tr>\n",
    "\t\t<tr>\n",
    "\t\t\t<td>break</td>\n",
    "\t\t\t<td>except</td>\n",
    "\t\t\t<td>in</td>\n",
    "\t\t\t<td>raise</td>\n",
    "\t\t\t<td>&nbsp;</td>\n",
    "\t\t</tr>\n",
    "\t</tbody>\n",
    "</table>"
   ]
  },
  {
   "cell_type": "markdown",
   "metadata": {
    "slideshow": {
     "slide_type": "subslide"
    }
   },
   "source": [
    "# How to choose variable names\n",
    "\n",
    "* Avoid confusing characters, such as `l` and `O`\n",
    "* Use descriptive names\n",
    "* Python guidelines `lower_case_with_underscores`:\n",
    "    * use lower case\n",
    "    * separate multiple words with underscores"
   ]
  },
  {
   "cell_type": "code",
   "execution_count": 13,
   "metadata": {
    "slideshow": {
     "slide_type": "fragment"
    }
   },
   "outputs": [],
   "source": [
    "# Bad variable names\n",
    "import math\n",
    "x = 10; a = 10; b = .5\n",
    "y = a*math.exp(b*x)"
   ]
  },
  {
   "cell_type": "code",
   "execution_count": 14,
   "metadata": {
    "slideshow": {
     "slide_type": "fragment"
    }
   },
   "outputs": [],
   "source": [
    "# Good variable names\n",
    "import math\n",
    "dt = 10; pop_size_0 = 10; growth_rate = .5\n",
    "pop_size = pop_size_0*math.exp(growth_rate*dt)"
   ]
  },
  {
   "cell_type": "markdown",
   "metadata": {
    "slideshow": {
     "slide_type": "subslide"
    }
   },
   "source": [
    "# Python Syntax - floats and integers\n",
    "\n",
    "* Variables have types and those determine how they can be used with other variables.\n",
    "* Numbers are either integers (whole numbers) or floats.\n"
   ]
  },
  {
   "cell_type": "code",
   "execution_count": 15,
   "metadata": {},
   "outputs": [
    {
     "name": "stdout",
     "output_type": "stream",
     "text": [
      "<class 'float'>\n",
      "<class 'float'>\n"
     ]
    }
   ],
   "source": [
    "x = 1.\n",
    "y = 2.5\n",
    "print(type(x))\n",
    "print(type(y))"
   ]
  },
  {
   "cell_type": "markdown",
   "metadata": {
    "slideshow": {
     "slide_type": "subslide"
    }
   },
   "source": [
    "# Python Syntax - combining floats and integers\n",
    "\n",
    "* Create two variables and make 1 a float and 1 an integer\n",
    "* Use `type` to test what happens if you:\n",
    "    * take the sum or difference of 2 floats, 2 integers, or one of each\n",
    "    * multiply 2 floats, 2 integers, or one of each\n",
    "    * divide 2 floats, 2 integers, or one of each"
   ]
  },
  {
   "cell_type": "markdown",
   "metadata": {
    "slideshow": {
     "slide_type": "subslide"
    }
   },
   "source": [
    "# Python Syntax - combining floats and integers\n",
    "\n",
    "* `a + b`, `a - b`, and `a * b`\n",
    "    * if a and b are of the same type, returns that type\n",
    "    * if a or b is a float, returns float\n",
    "* `a / b`: always a float!"
   ]
  },
  {
   "cell_type": "code",
   "execution_count": 16,
   "metadata": {
    "slideshow": {
     "slide_type": "-"
    }
   },
   "outputs": [
    {
     "name": "stdout",
     "output_type": "stream",
     "text": [
      "<class 'float'>\n",
      "<class 'float'>\n",
      "<class 'int'>\n",
      "0\n"
     ]
    }
   ],
   "source": [
    "x = 1; y = 2.5; z = 1.\n",
    "print(type(x/x))\n",
    "print(type(x/z))\n",
    "print(type(1//3))\n",
    "print(1//3)\n",
    "#print(type(x/z))\n",
    " "
   ]
  },
  {
   "cell_type": "markdown",
   "metadata": {
    "slideshow": {
     "slide_type": "subslide"
    }
   },
   "source": [
    "# Python Syntax - strings\n"
   ]
  },
  {
   "cell_type": "code",
   "execution_count": 17,
   "metadata": {},
   "outputs": [
    {
     "ename": "TypeError",
     "evalue": "unsupported operand type(s) for +: 'int' and 'str'",
     "output_type": "error",
     "traceback": [
      "\u001b[0;31m---------------------------------------------------------------------------\u001b[0m",
      "\u001b[0;31mTypeError\u001b[0m                                 Traceback (most recent call last)",
      "\u001b[0;32m<ipython-input-17-78c9f069bf12>\u001b[0m in \u001b[0;36m<module>\u001b[0;34m\u001b[0m\n\u001b[1;32m      1\u001b[0m \u001b[0mx\u001b[0m \u001b[0;34m=\u001b[0m \u001b[0;36m1\u001b[0m\u001b[0;34m;\u001b[0m \u001b[0mz\u001b[0m \u001b[0;34m=\u001b[0m \u001b[0;36m2.\u001b[0m\u001b[0;34m;\u001b[0m \u001b[0ms\u001b[0m \u001b[0;34m=\u001b[0m \u001b[0;34m'hello world'\u001b[0m\u001b[0;34m\u001b[0m\u001b[0;34m\u001b[0m\u001b[0m\n\u001b[0;32m----> 2\u001b[0;31m \u001b[0mprint\u001b[0m\u001b[0;34m(\u001b[0m\u001b[0mx\u001b[0m\u001b[0;34m+\u001b[0m\u001b[0ms\u001b[0m\u001b[0;34m)\u001b[0m\u001b[0;34m\u001b[0m\u001b[0;34m\u001b[0m\u001b[0m\n\u001b[0m",
      "\u001b[0;31mTypeError\u001b[0m: unsupported operand type(s) for +: 'int' and 'str'"
     ]
    }
   ],
   "source": [
    "x = 1; z = 2.; s = 'hello world'\n",
    "print(x+s)"
   ]
  },
  {
   "cell_type": "markdown",
   "metadata": {
    "slideshow": {
     "slide_type": "subslide"
    }
   },
   "source": [
    "# Python Syntax - creating strings\n",
    "\n",
    "* Generate filenames based on variables\n",
    "* Generate messages based on variables\n",
    "\n",
    "Strings are generated with the format function:"
   ]
  },
  {
   "cell_type": "code",
   "execution_count": 18,
   "metadata": {
    "slideshow": {
     "slide_type": "-"
    }
   },
   "outputs": [
    {
     "name": "stdout",
     "output_type": "stream",
     "text": [
      "x = 1\n"
     ]
    }
   ],
   "source": [
    "a = 1   \n",
    "s = 'x'\n",
    "print('{} = {}'.format(s,a))"
   ]
  },
  {
   "cell_type": "markdown",
   "metadata": {
    "slideshow": {
     "slide_type": "-"
    }
   },
   "source": [
    "Generate the following string using variables `x`, `y`, `z`, and `s`: \n",
    "\n",
    "```hello world: x = 1, y = 2, z = 2.```"
   ]
  },
  {
   "cell_type": "code",
   "execution_count": 19,
   "metadata": {
    "slideshow": {
     "slide_type": "fragment"
    }
   },
   "outputs": [
    {
     "name": "stdout",
     "output_type": "stream",
     "text": [
      "hello class: x = 1, y = 2, z = 2\n"
     ]
    }
   ],
   "source": [
    "thingy = 'hello class'; x = 1; y = 2; z = 2\n",
    "base = '{}: x = {}, y = {}, z = {}'\n",
    "s = base.format(thingy,x,y,z)\n",
    "print(s)"
   ]
  },
  {
   "cell_type": "markdown",
   "metadata": {
    "slideshow": {
     "slide_type": "subslide"
    }
   },
   "source": [
    "# Python Syntax - Lists\n",
    "\n",
    "* A list stores multiple values\n",
    "* Items in a list can have different types\n",
    "* Lists can be combined with `+`\n",
    "* List length: `len(l)`"
   ]
  },
  {
   "cell_type": "code",
   "execution_count": 20,
   "metadata": {},
   "outputs": [
    {
     "name": "stdout",
     "output_type": "stream",
     "text": [
      "[1, 'x', 1.2] 3\n"
     ]
    }
   ],
   "source": [
    "l = [1,'x',1.2]\n",
    "print(l,len(l))"
   ]
  },
  {
   "cell_type": "markdown",
   "metadata": {
    "slideshow": {
     "slide_type": "subslide"
    }
   },
   "source": [
    "# Python Syntax - List indexing\n",
    "\n",
    "* Access element `i`: `l[i]`\n",
    "* Access range of elements: `l[start:stop:step]`\n",
    "* **First element has index 0!**\n",
    "* **Last element has index `len(l)-1`!**\n",
    "* Negative indexing: -1 = len(l)-1; -2 = len(l)-2; etc."
   ]
  },
  {
   "cell_type": "code",
   "execution_count": 21,
   "metadata": {},
   "outputs": [
    {
     "name": "stdout",
     "output_type": "stream",
     "text": [
      "1\n",
      "5\n",
      "5\n"
     ]
    }
   ],
   "source": [
    "l = [1,2,3,4,5]\n",
    "print(l[0])\n",
    "print(l[len(l)-1])\n",
    "print(l[-1])"
   ]
  },
  {
   "cell_type": "markdown",
   "metadata": {
    "slideshow": {
     "slide_type": "subslide"
    }
   },
   "source": [
    "# Python Syntax - Lists\n",
    "\n",
    "* Creating a list: `l = [1,2,3,4,5]`\n",
    "* Access element `i`: `l[i]` or a range of elements: `l[start:stop:step]`\n",
    "* List length: `len(l)`\n",
    "\n",
    "Assignment:\n",
    "\n",
    "* Generate the list `l` \n",
    "* Print the first and last element\n",
    "* Print every second element"
   ]
  },
  {
   "cell_type": "code",
   "execution_count": 27,
   "metadata": {
    "slideshow": {
     "slide_type": "fragment"
    }
   },
   "outputs": [
    {
     "name": "stdout",
     "output_type": "stream",
     "text": [
      "the first element of l is 1\n",
      "the last element of l is 5\n",
      "[1, 3, 5]\n"
     ]
    },
    {
     "data": {
      "text/plain": [
       "5"
      ]
     },
     "execution_count": 27,
     "metadata": {},
     "output_type": "execute_result"
    }
   ],
   "source": [
    "l = [1,2,3,4,5]\n",
    "print('the first element of l is {}'.format(l[0]))\n",
    "print('the last element of l is {}'.format(l[-1]))\n",
    "print(l[0:len(l):2]) \n",
    "i = 1\n",
    "l[4]\n"
   ]
  },
  {
   "cell_type": "markdown",
   "metadata": {
    "slideshow": {
     "slide_type": "slide"
    }
   },
   "source": [
    "# Control flow - loops\n",
    "\n",
    "Simple loop over a list"
   ]
  },
  {
   "cell_type": "code",
   "execution_count": 28,
   "metadata": {},
   "outputs": [
    {
     "name": "stdout",
     "output_type": "stream",
     "text": [
      "in loop 1\n",
      "in loop 2\n",
      "in loop 3\n",
      "loop finished 3\n"
     ]
    }
   ],
   "source": [
    "l = [1,2,3]\n",
    "for i in l:\n",
    "    print('in loop',i)\n",
    "print('loop finished',i)"
   ]
  },
  {
   "cell_type": "markdown",
   "metadata": {},
   "source": [
    "* Note that in Python **WHITE SPACE MATTERS**"
   ]
  },
  {
   "cell_type": "code",
   "execution_count": 29,
   "metadata": {
    "slideshow": {
     "slide_type": "-"
    }
   },
   "outputs": [
    {
     "name": "stdout",
     "output_type": "stream",
     "text": [
      "1\n",
      "2\n",
      "3\n",
      "2\n",
      "4\n",
      "6\n"
     ]
    }
   ],
   "source": [
    "for i in [1,2,3]:\n",
    "    print(i)\n",
    "for i in [1,2,3]:\n",
    "    print(i*2)"
   ]
  },
  {
   "cell_type": "markdown",
   "metadata": {
    "slideshow": {
     "slide_type": "subslide"
    }
   },
   "source": [
    "# Control flow - loops\n",
    "\n",
    "Loop from start to stop:"
   ]
  },
  {
   "cell_type": "code",
   "execution_count": 30,
   "metadata": {},
   "outputs": [
    {
     "name": "stdout",
     "output_type": "stream",
     "text": [
      "[0, 1, 2]\n"
     ]
    },
    {
     "data": {
      "text/plain": [
       "range"
      ]
     },
     "execution_count": 30,
     "metadata": {},
     "output_type": "execute_result"
    }
   ],
   "source": [
    "print(list(range(0,3,1)))\n",
    "range   "
   ]
  },
  {
   "cell_type": "code",
   "execution_count": 31,
   "metadata": {},
   "outputs": [
    {
     "name": "stdout",
     "output_type": "stream",
     "text": [
      "0\n",
      "1\n",
      "2\n"
     ]
    }
   ],
   "source": [
    "for i in range(0,3,1):\n",
    "    print(i)"
   ]
  },
  {
   "cell_type": "markdown",
   "metadata": {},
   "source": [
    "Create a list `l`, loop over that list using the `range` function and print the index and value of each item in a nicely formatted string (using `format`)."
   ]
  },
  {
   "cell_type": "code",
   "execution_count": 32,
   "metadata": {
    "slideshow": {
     "slide_type": "fragment"
    }
   },
   "outputs": [
    {
     "name": "stdout",
     "output_type": "stream",
     "text": [
      "index = 0 - value = 10\n",
      "index = 1 - value = 20\n",
      "index = 2 - value = 30\n"
     ]
    }
   ],
   "source": [
    "l = [10,20,30]\n",
    "for i in range(0,len(l),1):\n",
    "    print('index = {} - value = {}'.format(i,l[i]))"
   ]
  },
  {
   "cell_type": "markdown",
   "metadata": {
    "slideshow": {
     "slide_type": "subslide"
    }
   },
   "source": [
    "# Control flow - conditionals\n",
    "\n",
    "* Comparison operators - `==`, `!=`, `>`, `>=`, `<`, and `<=` - test a condition and return a *boolean* value.\n",
    "* Create three variables: `a = 1`, `b = 2`, `c = 1`; and use them to explore the boolean operators."
   ]
  },
  {
   "cell_type": "code",
   "execution_count": 33,
   "metadata": {
    "slideshow": {
     "slide_type": "fragment"
    }
   },
   "outputs": [
    {
     "name": "stdout",
     "output_type": "stream",
     "text": [
      "False\n",
      "True\n"
     ]
    }
   ],
   "source": [
    "a = 1\n",
    "b = 2\n",
    "c = 1\n",
    "x = False\n",
    "print(x)\n",
    "print(not x )\n",
    "#print(a==b,a!=b,a>b,a>=b,a<b,a<=b)\n",
    "#print(a==c,a!=c,a>c,a>=c,a<c,a<=c)"
   ]
  },
  {
   "cell_type": "markdown",
   "metadata": {
    "slideshow": {
     "slide_type": "subslide"
    }
   },
   "source": [
    "# Control flow - conditionals\n",
    "\n",
    "* `not a` inverses the state of `a`\n",
    "* `a==1 and b==1`: returns `True` when a is 1 *and* b is 1\n",
    "* `a==1 or b==1`: returns `True` when a is 1 *and/or* b is 1\n",
    "\n",
    "Implement tests for:\n",
    "* $0 < a < 2$\n",
    "* $a > 1$ and $b \\neq 1$\n",
    "* $a = 1$ and $0 < b \\leq 3$\n"
   ]
  },
  {
   "cell_type": "code",
   "execution_count": 34,
   "metadata": {
    "slideshow": {
     "slide_type": "fragment"
    }
   },
   "outputs": [
    {
     "name": "stdout",
     "output_type": "stream",
     "text": [
      "True\n",
      "False\n",
      "True\n"
     ]
    }
   ],
   "source": [
    "a = 1\n",
    "b = 2\n",
    "print((a>0) and (a<2))\n",
    "print(a>1 and not b==1)\n",
    "print(a==1 and b>0 and b <= 3)"
   ]
  },
  {
   "cell_type": "markdown",
   "metadata": {
    "slideshow": {
     "slide_type": "subslide"
    }
   },
   "source": [
    "# Control flow - conditionals\n",
    "\n",
    "Conditional statements are used to selectively execute code."
   ]
  },
  {
   "cell_type": "code",
   "execution_count": 35,
   "metadata": {
    "slideshow": {
     "slide_type": "-"
    }
   },
   "outputs": [
    {
     "name": "stdout",
     "output_type": "stream",
     "text": [
      "1 == 1\n",
      "2 != 1\n",
      "boeh\n"
     ]
    }
   ],
   "source": [
    "for a in [1,2,3]:\n",
    "    if a == 1:\n",
    "        print('{} == 1'.format(a))\n",
    "    elif a==3:\n",
    "        print('boeh')\n",
    "    else:\n",
    "        print('{} != 1'.format(a))"
   ]
  },
  {
   "cell_type": "markdown",
   "metadata": {
    "slideshow": {
     "slide_type": "-"
    }
   },
   "source": [
    "Iterate over a range from 0 to 10 and print per value whether it is greater than 4."
   ]
  },
  {
   "cell_type": "markdown",
   "metadata": {
    "slideshow": {
     "slide_type": "subslide"
    }
   },
   "source": [
    "# Control flow - conditionals\n",
    "\n",
    "Iterate over a range from 0 to 10 and print per value whether it is greater than 4."
   ]
  },
  {
   "cell_type": "code",
   "execution_count": 36,
   "metadata": {
    "slideshow": {
     "slide_type": "-"
    }
   },
   "outputs": [
    {
     "name": "stdout",
     "output_type": "stream",
     "text": [
      "0 < 4\n",
      "1 < 4\n",
      "2 < 4\n",
      "3 < 4\n",
      "4 == 4\n",
      "5 > 4\n",
      "6 > 4\n",
      "7 > 4\n",
      "8 > 4\n",
      "9 > 4\n"
     ]
    }
   ],
   "source": [
    "for i in range(10):\n",
    "    if i > 4:\n",
    "        print('{} > 4'.format(i))\n",
    "    elif i < 4:\n",
    "        print('{} < 4'.format(i))\n",
    "    else:  \n",
    "        print('{} == 4'.format(i))"
   ]
  },
  {
   "cell_type": "markdown",
   "metadata": {
    "slideshow": {
     "slide_type": "slide"
    }
   },
   "source": [
    "# Functions\n",
    "\n",
    "* A function is code block that performs a specific task:\n",
    "\n",
    "```\n",
    "def func(arg1,arg2=0,arg3=1):\n",
    "    print('{} {} {}'.format(arg1,arg2,arg3))\n",
    "```\n",
    "\n",
    "* This function has 2 arguments:\n",
    "    * `arg1` is a mandatory argument\n",
    "    * `arg2` and `arg3` are optional and will be zero if not specifified\n",
    "* Copy the function and run the following calls; explain the output\n",
    "\n",
    "```\n",
    "func(1,2,3)\n",
    "func(1)\n",
    "func(1,2)\n",
    "func(1,3)\n",
    "func(1,arg2=2,arg3=3)\n",
    "func(1,arg3=3,arg2=2)\n",
    "func(1,arg2=2,3)\n",
    "```"
   ]
  },
  {
   "cell_type": "markdown",
   "metadata": {
    "slideshow": {
     "slide_type": "subslide"
    }
   },
   "source": [
    "# Functions\n",
    "\n",
    "```\n",
    "func(1,2,3)\n",
    "func(1)\n",
    "func(1,2)\n",
    "func(1,3)\n",
    "func(1,arg2=2,arg3=3)\n",
    "func(1,arg3=3,arg2=2)\n",
    "func(1,arg2=2,3)\n",
    "```"
   ]
  },
  {
   "cell_type": "code",
   "execution_count": 37,
   "metadata": {},
   "outputs": [
    {
     "name": "stdout",
     "output_type": "stream",
     "text": [
      "1 0 3\n"
     ]
    }
   ],
   "source": [
    "def func(arg1,arg2=0,arg3=1):\n",
    "    print(arg1,arg2,arg3,)\n",
    "    #print('{} {} {}'.format(arg1,arg2,arg3))\n",
    "    \n",
    "func(1,arg3=3)\n"
   ]
  },
  {
   "cell_type": "markdown",
   "metadata": {
    "slideshow": {
     "slide_type": "fragment"
    }
   },
   "source": [
    "* Mandatory arguments **must** be given in the correct order\n",
    "* Optional arguments may be given in order, or should be associated with their name:"
   ]
  },
  {
   "cell_type": "markdown",
   "metadata": {
    "slideshow": {
     "slide_type": "subslide"
    }
   },
   "source": [
    "# Functions\n",
    "\n",
    "The `return` statement is used to *return* results"
   ]
  },
  {
   "cell_type": "code",
   "execution_count": 38,
   "metadata": {},
   "outputs": [
    {
     "name": "stdout",
     "output_type": "stream",
     "text": [
      "1 2 3\n"
     ]
    }
   ],
   "source": [
    "def func(arg1,arg2=0,arg3=1):\n",
    "    s = '{} {} {}'.format(arg1,arg2,arg3)\n",
    "    return s\n",
    "\n",
    "a = func(1,2,3)\n",
    "print(a)"
   ]
  },
  {
   "cell_type": "markdown",
   "metadata": {
    "slideshow": {
     "slide_type": "subslide"
    }
   },
   "source": [
    "# Functions\n",
    "\n",
    "The `return` statement is used to *return* results"
   ]
  },
  {
   "cell_type": "code",
   "execution_count": 39,
   "metadata": {
    "slideshow": {
     "slide_type": "-"
    }
   },
   "outputs": [
    {
     "name": "stdout",
     "output_type": "stream",
     "text": [
      "6 1 2 3\n"
     ]
    }
   ],
   "source": [
    "def func(arg1,arg2=0,arg3=1):\n",
    "    total = arg1+arg2+arg3\n",
    "    s = '{} {} {}'.format(arg1,arg2,arg3)\n",
    "    return total,s\n",
    "\n",
    "total,s = func(1,2,3)\n",
    "print(total,s)"
   ]
  },
  {
   "cell_type": "markdown",
   "metadata": {
    "slideshow": {
     "slide_type": "subslide"
    }
   },
   "source": [
    "# Functions - exercise\n",
    "\n",
    "* Write a function that computes and returns en minimum, maximum, sum, and mean of a list\n",
    "    * Make use of the function `sum`, `min`, and `max` (and use the help function)\n",
    "    * Note that you cannot use `sum`, `min`, and `max` as variable names!"
   ]
  },
  {
   "cell_type": "code",
   "execution_count": 40,
   "metadata": {
    "slideshow": {
     "slide_type": "fragment"
    }
   },
   "outputs": [
    {
     "name": "stdout",
     "output_type": "stream",
     "text": [
      "(1, 3, 6, 2.0)\n"
     ]
    }
   ],
   "source": [
    "def get_stats(l):\n",
    "    lmin = min(l)\n",
    "    lmax = max(l)\n",
    "    lsum = sum(l)\n",
    "    lmean = lsum/len(l)\n",
    "    return lmin,lmax,lsum,lmean\n",
    "\n",
    "print(get_stats([1,2,3]))"
   ]
  },
  {
   "cell_type": "code",
   "execution_count": 41,
   "metadata": {
    "slideshow": {
     "slide_type": "fragment"
    }
   },
   "outputs": [
    {
     "name": "stdout",
     "output_type": "stream",
     "text": [
      "(1, 3, 6, 2.0)\n"
     ]
    }
   ],
   "source": [
    "def get_stats(l):\n",
    "    return min(l),max(l),sum(l),sum(l)/len(l)\n",
    "\n",
    "print(get_stats([1,2,3]))"
   ]
  },
  {
   "cell_type": "markdown",
   "metadata": {
    "slideshow": {
     "slide_type": "subslide"
    }
   },
   "source": [
    "# Functions - some theory\n",
    "\n",
    "1. Use functions when lines of code are repeated\n",
    "2. Use functions to organize programs:\n",
    "\n",
    "```\n",
    "def load_data(fn):\n",
    "    ...\n",
    "   \n",
    "def plot_data(data):\n",
    "    ...\n",
    "\n",
    "fn = 'file.txt'\n",
    "data = load_data(fn)\n",
    "plot_data(data)\n",
    "```"
   ]
  },
  {
   "cell_type": "markdown",
   "metadata": {
    "slideshow": {
     "slide_type": "subslide"
    }
   },
   "source": [
    "# Function scope - where do variables exist"
   ]
  },
  {
   "cell_type": "code",
   "execution_count": 42,
   "metadata": {},
   "outputs": [
    {
     "ename": "SyntaxError",
     "evalue": "invalid syntax (<ipython-input-42-1be79f837cdd>, line 3)",
     "output_type": "error",
     "traceback": [
      "\u001b[0;36m  File \u001b[0;32m\"<ipython-input-42-1be79f837cdd>\"\u001b[0;36m, line \u001b[0;32m3\u001b[0m\n\u001b[0;31m    return re sult\u001b[0m\n\u001b[0m                 ^\u001b[0m\n\u001b[0;31mSyntaxError\u001b[0m\u001b[0;31m:\u001b[0m invalid syntax\n"
     ]
    }
   ],
   "source": [
    "def add(x,y):\n",
    "    result = x+y\n",
    "    return re sult\n",
    "\n",
    "s = add(1,2)\n",
    "print(s)\n",
    "print(result)"
   ]
  },
  {
   "cell_type": "markdown",
   "metadata": {
    "slideshow": {
     "slide_type": "slide"
    }
   },
   "source": [
    "# Libraries - where functions come from\n",
    "\n",
    "* Libraries add specific functionalities to Python\n",
    "* Standard libraries are included in every Python installation\n",
    "    * for example `random`, `math`, \n",
    "    * (https://docs.python.org/3/library/)[https://docs.python.org/3/library/]\n",
    "* External libraries add even more functionality\n",
    "    * data analysis: numpy, pandas\n",
    "    * mathematical functions: numpy and scipy\n",
    "    * plotting: matplotlib\n",
    "    * lots, lots, lots more\n",
    "* **Look for a library before you implement something yourself**"
   ]
  },
  {
   "cell_type": "markdown",
   "metadata": {
    "slideshow": {
     "slide_type": "subslide"
    }
   },
   "source": [
    "# Using libraries\n",
    "\n",
    "* Importing the full library:\n",
    "  * **good**: `import numpy as np`; and use as: `np.array`\n",
    "  * **bad**: `from numpy import *`; and use as: `array`\n",
    "  * **ugly**: `import numpy`; and use as: `numpy.array`\n"
   ]
  },
  {
   "cell_type": "code",
   "execution_count": 43,
   "metadata": {},
   "outputs": [
    {
     "name": "stdout",
     "output_type": "stream",
     "text": [
      "[1 2 3]\n"
     ]
    }
   ],
   "source": [
    "import numpy as np\n",
    "\n",
    "a = np.array([1,2,3])\n",
    "print(a)"
   ]
  },
  {
   "cell_type": "markdown",
   "metadata": {
    "slideshow": {
     "slide_type": "subslide"
    }
   },
   "source": [
    "# Using libraries\n",
    "\n",
    "* Import specific functionality\n",
    "  * `from library import module.submodule.function`"
   ]
  },
  {
   "cell_type": "code",
   "execution_count": 44,
   "metadata": {},
   "outputs": [
    {
     "name": "stdout",
     "output_type": "stream",
     "text": [
      "<scipy.stats._continuous_distns.norm_gen object at 0x7fc600659c88>\n",
      "<scipy.stats._continuous_distns.norm_gen object at 0x7fc600659c88>\n"
     ]
    }
   ],
   "source": [
    "from scipy import stats\n",
    "print(stats.norm)\n",
    "\n",
    "from scipy.stats import norm\n",
    "print(norm)"
   ]
  }
 ],
 "metadata": {
  "celltoolbar": "Slideshow",
  "hide_input": false,
  "kernelspec": {
   "display_name": "python3",
   "language": "python",
   "name": "python3"
  },
  "language_info": {
   "codemirror_mode": {
    "name": "ipython",
    "version": 3
   },
   "file_extension": ".py",
   "mimetype": "text/x-python",
   "name": "python",
   "nbconvert_exporter": "python",
   "pygments_lexer": "ipython3",
   "version": "3.7.3"
  },
  "livereveal": {
   "auto_select": "code",
   "auto_select_fragment": true,
   "controls": false,
   "minScale": 0.2
  },
  "toc": {
   "base_numbering": 1,
   "nav_menu": {},
   "number_sections": false,
   "sideBar": false,
   "skip_h1_title": false,
   "title_cell": "Table of Contents",
   "title_sidebar": "Contents",
   "toc_cell": false,
   "toc_position": {},
   "toc_section_display": "block",
   "toc_window_display": false
  }
 },
 "nbformat": 4,
 "nbformat_minor": 4
}
