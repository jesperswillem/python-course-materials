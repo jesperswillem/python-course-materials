{
 "cells": [
  {
   "cell_type": "code",
   "execution_count": 1,
   "metadata": {
    "slideshow": {
     "slide_type": "skip"
    }
   },
   "outputs": [
    {
     "name": "stdout",
     "output_type": "stream",
     "text": [
      "Populating the interactive namespace from numpy and matplotlib\n"
     ]
    }
   ],
   "source": [
    "import numpy as np\n",
    "import seaborn as sns\n",
    "%pylab inline\n",
    "import matplotlib.pyplot as plt\n",
    "import pandas as pd\n",
    "pd.options.display.max_rows = 6"
   ]
  },
  {
   "cell_type": "markdown",
   "metadata": {
    "slideshow": {
     "slide_type": "slide"
    }
   },
   "source": [
    "# Recap - what can we do now\n",
    "\n",
    "* Make variables and lists\n",
    "* Build strings from variables\n",
    "* Read and write basic text files\n",
    "* Use existing functions"
   ]
  },
  {
   "cell_type": "markdown",
   "metadata": {
    "slideshow": {
     "slide_type": "subslide"
    }
   },
   "source": [
    "# This lecture\n",
    "\n",
    "* Learn how to use *numpy* - \"the fundamental package for scientific computing with Python\"\n",
    "* Learn how to use *matplotlib* - a plotting package that works very well with numpy "
   ]
  },
  {
   "cell_type": "markdown",
   "metadata": {
    "slideshow": {
     "slide_type": "slide"
    }
   },
   "source": [
    "# Numpy\n",
    "\n",
    "* Library for numeric computations\n",
    "* Supports mathematical operations on arrays\n",
    "* Works well in combination with Matplotlib, Pandas, and Scipy (not covered)"
   ]
  },
  {
   "cell_type": "markdown",
   "metadata": {
    "slideshow": {
     "slide_type": "subslide"
    }
   },
   "source": [
    "# Numpy arrays\n",
    "\n",
    "Python lists do not support mathematical operations:"
   ]
  },
  {
   "cell_type": "code",
   "execution_count": 2,
   "metadata": {},
   "outputs": [
    {
     "data": {
      "text/plain": [
       "[1, 2, 3, 1, 2, 3]"
      ]
     },
     "execution_count": 2,
     "metadata": {},
     "output_type": "execute_result"
    }
   ],
   "source": [
    "[1,2,3]+[1,2,3]"
   ]
  },
  {
   "cell_type": "markdown",
   "metadata": {},
   "source": [
    "Numpy arrays support math; try the following:"
   ]
  },
  {
   "cell_type": "code",
   "execution_count": 3,
   "metadata": {},
   "outputs": [
    {
     "name": "stdout",
     "output_type": "stream",
     "text": [
      "[ 2.  4.  6.  8. 10.]\n",
      "[0. 0. 0. 0. 0.]\n",
      "[ 1.  4.  9. 16. 25.]\n",
      "[1. 1. 1. 1. 1.]\n"
     ]
    }
   ],
   "source": [
    "import numpy as np\n",
    "\n",
    "a = np.array([1,2,3,4,5.])\n",
    "\n",
    "print(a+a)\n",
    "print(a-a)\n",
    "print(a*a)\n",
    "print(a/a)"
   ]
  },
  {
   "cell_type": "markdown",
   "metadata": {
    "slideshow": {
     "slide_type": "subslide"
    }
   },
   "source": [
    "# Numpy arrays - basic syntax similar to Python lists"
   ]
  },
  {
   "cell_type": "code",
   "execution_count": 4,
   "metadata": {},
   "outputs": [
    {
     "name": "stdout",
     "output_type": "stream",
     "text": [
      "a has 5 elements\n",
      "the first element of a is 1\n",
      "the last element of a is 5\n"
     ]
    }
   ],
   "source": [
    "a = np.array([1,2,3,4,5])\n",
    "print('a has {} elements'.format(len(a)))\n",
    "print('the first element of a is {}'.format(a[0]))\n",
    "print('the last element of a is {}'.format(a[-1]))  "
   ]
  },
  {
   "cell_type": "markdown",
   "metadata": {
    "slideshow": {
     "slide_type": "subslide"
    }
   },
   "source": [
    "# Numpy arrays - contains a single type"
   ]
  },
  {
   "cell_type": "code",
   "execution_count": 5,
   "metadata": {},
   "outputs": [
    {
     "name": "stdout",
     "output_type": "stream",
     "text": [
      "['1' '2' '3']\n"
     ]
    }
   ],
   "source": [
    "l = [1,'2',3] \n",
    "print(np.array(l))"
   ]
  },
  {
   "cell_type": "markdown",
   "metadata": {
    "slideshow": {
     "slide_type": "subslide"
    }
   },
   "source": [
    "# Numpy arrays - more functionality\n"
   ]
  },
  {
   "cell_type": "markdown",
   "metadata": {},
   "source": [
    "* Compute the mean, minimum, maximum, standard deviation and sum of `a`\n",
    "    * Use the functions `np.mean`, `np.min`, `np.max`, `np.std`, and `np.sum`"
   ]
  },
  {
   "cell_type": "code",
   "execution_count": 6,
   "metadata": {},
   "outputs": [],
   "source": [
    "a = np.array([1,2,3,4,5])"
   ]
  },
  {
   "cell_type": "code",
   "execution_count": 7,
   "metadata": {
    "slideshow": {
     "slide_type": "fragment"
    }
   },
   "outputs": [
    {
     "data": {
      "text/plain": [
       "1.4142135623730951"
      ]
     },
     "execution_count": 7,
     "metadata": {},
     "output_type": "execute_result"
    }
   ],
   "source": [
    "np.std(a)"
   ]
  },
  {
   "cell_type": "markdown",
   "metadata": {
    "slideshow": {
     "slide_type": "subslide"
    }
   },
   "source": [
    "# Numpy arrays - mathematical operations\n",
    "\n",
    "1. Create an array: `a = np.array([1,2,3,4,5]`\n",
    "2. Use `np.power(base,exponent)`, `np.exp(base)`, and `np.log(base)` to compute the following for each array element $x$:\n",
    "    * $2x^4+3$\n",
    "    * $\\exp(x+2)$\n",
    "    * $\\log(x/2)$\n",
    "    \n",
    "* `?` for help also works with numpy functions: `?np.power`"
   ]
  },
  {
   "cell_type": "code",
   "execution_count": 8,
   "metadata": {
    "slideshow": {
     "slide_type": "fragment"
    }
   },
   "outputs": [
    {
     "data": {
      "text/plain": [
       "array([-0.69314718,  0.        ,  0.40546511,  0.69314718,  0.91629073])"
      ]
     },
     "execution_count": 8,
     "metadata": {},
     "output_type": "execute_result"
    }
   ],
   "source": [
    "a = np.array([1,2,3,4,5])\n",
    "2*np.power(a,4)+3\n",
    "np.exp(a+2)\n",
    "np.log(a/2)"
   ]
  },
  {
   "cell_type": "markdown",
   "metadata": {
    "slideshow": {
     "slide_type": "subslide"
    }
   },
   "source": [
    "# Numpy arrays - generating arrays\n",
    "\n",
    "* `np.zeros`, `np.ones`, `np.random.random`\n",
    "* `np.arange`, `np.linspace`\n",
    "\n",
    "\n",
    "1. Find out what these functions do (remember you can get help via `?` or `shift`+`tab`)\n",
    "2. Create the following arrays:\n",
    "    * 25 zeros\n",
    "    * 25 ones\n",
    "    * 10 random numbers\n",
    "    * 0 and 100 with steps of 5 (use `np.arange` and `np.linspace`)"
   ]
  },
  {
   "cell_type": "markdown",
   "metadata": {
    "slideshow": {
     "slide_type": "subslide"
    }
   },
   "source": [
    "# Numpy arrays - generating arrays"
   ]
  },
  {
   "cell_type": "code",
   "execution_count": 9,
   "metadata": {
    "slideshow": {
     "slide_type": "-"
    }
   },
   "outputs": [
    {
     "data": {
      "text/plain": [
       "array([0., 0., 0., 0., 0., 0., 0., 0., 0., 0., 0., 0., 0., 0., 0., 0., 0.,\n",
       "       0., 0., 0., 0., 0., 0., 0., 0.])"
      ]
     },
     "execution_count": 9,
     "metadata": {},
     "output_type": "execute_result"
    }
   ],
   "source": [
    "np.zeros(25)"
   ]
  },
  {
   "cell_type": "code",
   "execution_count": 10,
   "metadata": {
    "slideshow": {
     "slide_type": "-"
    }
   },
   "outputs": [
    {
     "data": {
      "text/plain": [
       "array([10., 10., 10., 10., 10., 10., 10., 10., 10., 10., 10., 10., 10.,\n",
       "       10., 10., 10., 10., 10., 10., 10., 10., 10., 10., 10., 10.])"
      ]
     },
     "execution_count": 10,
     "metadata": {},
     "output_type": "execute_result"
    }
   ],
   "source": [
    "np.ones(25)*10"
   ]
  },
  {
   "cell_type": "code",
   "execution_count": 11,
   "metadata": {},
   "outputs": [
    {
     "data": {
      "text/plain": [
       "array([0.99576551, 0.91495326, 0.10150755, 0.20780702, 0.76218514,\n",
       "       0.05109661, 0.80326672, 0.71519437, 0.09750194, 0.63275992])"
      ]
     },
     "execution_count": 11,
     "metadata": {},
     "output_type": "execute_result"
    }
   ],
   "source": [
    "np.random.random(10)"
   ]
  },
  {
   "cell_type": "markdown",
   "metadata": {
    "slideshow": {
     "slide_type": "subslide"
    }
   },
   "source": [
    "# Numpy arrays - generating arrays"
   ]
  },
  {
   "cell_type": "code",
   "execution_count": 12,
   "metadata": {},
   "outputs": [
    {
     "data": {
      "text/plain": [
       "array([  0,   5,  10,  15,  20,  25,  30,  35,  40,  45,  50,  55,  60,\n",
       "        65,  70,  75,  80,  85,  90,  95, 100])"
      ]
     },
     "execution_count": 12,
     "metadata": {},
     "output_type": "execute_result"
    }
   ],
   "source": [
    "np.arange(0,101,5)"
   ]
  },
  {
   "cell_type": "code",
   "execution_count": 13,
   "metadata": {},
   "outputs": [
    {
     "data": {
      "text/plain": [
       "array([  0.,   5.,  10.,  15.,  20.,  25.,  30.,  35.,  40.,  45.,  50.,\n",
       "        55.,  60.,  65.,  70.,  75.,  80.,  85.,  90.,  95., 100.])"
      ]
     },
     "execution_count": 13,
     "metadata": {},
     "output_type": "execute_result"
    }
   ],
   "source": [
    "np.linspace(0,100,21)"
   ]
  },
  {
   "cell_type": "markdown",
   "metadata": {
    "slideshow": {
     "slide_type": "subslide"
    }
   },
   "source": [
    "#  Numpy arrays - Multi-dimensional arrays"
   ]
  },
  {
   "cell_type": "code",
   "execution_count": 14,
   "metadata": {},
   "outputs": [
    {
     "name": "stdout",
     "output_type": "stream",
     "text": [
      "[[2 8 4 7 3]\n",
      " [4 2 4 6 6]\n",
      " [9 9 7 2 4]]\n",
      "(3, 5)\n"
     ]
    }
   ],
   "source": [
    "a = np.random.randint(0,10,(3,5))\n",
    "print(a)\n",
    "print(a.shape)"
   ]
  },
  {
   "cell_type": "markdown",
   "metadata": {},
   "source": [
    "* Same functionality as 1D numpy arrays, with extra `axis` argument. \n",
    "    * Compute mean for of `a`, of each column of `a` and each row of `a"
   ]
  },
  {
   "cell_type": "code",
   "execution_count": 16,
   "metadata": {
    "slideshow": {
     "slide_type": "fragment"
    }
   },
   "outputs": [
    {
     "name": "stdout",
     "output_type": "stream",
     "text": [
      "5.133333333333334\n",
      "[5.         6.33333333 5.         5.         4.33333333]\n",
      "[4.8 4.4 6.2]\n"
     ]
    }
   ],
   "source": [
    "print(np.mean(a))\n",
    "print(np.mean(a,axis=0))\n",
    "print(np.mean(a,axis=1))"
   ]
  },
  {
   "cell_type": "markdown",
   "metadata": {
    "slideshow": {
     "slide_type": "subslide"
    }
   },
   "source": [
    "# Numpy arrays - accessing elements by index\n",
    "\n",
    "Accessing elements:\n",
    "* `a[i,j]`: element on row i, in column j\n",
    "* `a[:,j]`: j-th column\n",
    "* `a[i,:]`: i-th row\n",
    "\n",
    "Exercise:\n",
    "* Generate a 4 by 10 array with random values\n",
    "* Print the 3rd row\n",
    "* Print the last row\n",
    "* Print the 2nd column\n",
    "* Print the last column"
   ]
  },
  {
   "cell_type": "markdown",
   "metadata": {
    "slideshow": {
     "slide_type": "subslide"
    }
   },
   "source": [
    "# Numpy arrays - accessing elements by index"
   ]
  },
  {
   "cell_type": "code",
   "execution_count": 17,
   "metadata": {
    "slideshow": {
     "slide_type": "-"
    }
   },
   "outputs": [
    {
     "name": "stdout",
     "output_type": "stream",
     "text": [
      "[[9 3 9 1 0 2 3 2 8 7]\n",
      " [9 5 6 1 7 6 7 6 2 8]\n",
      " [0 0 1 0 3 3 1 6 7 1]\n",
      " [8 9 5 9 9 9 6 4 2 8]]\n"
     ]
    }
   ],
   "source": [
    "# generate array\n",
    "a = np.random.randint(0,10,(4,10))\n",
    "print(a)"
   ]
  },
  {
   "cell_type": "code",
   "execution_count": 18,
   "metadata": {},
   "outputs": [
    {
     "name": "stdout",
     "output_type": "stream",
     "text": [
      "[0 0 1 0 3 3 1 6 7 1]\n",
      "[8 9 5 9 9 9 6 4 2 8]\n"
     ]
    }
   ],
   "source": [
    "# print rows\n",
    "print(a[2,:])\n",
    "print(a[-1,:])"
   ]
  },
  {
   "cell_type": "code",
   "execution_count": 19,
   "metadata": {},
   "outputs": [
    {
     "name": "stdout",
     "output_type": "stream",
     "text": [
      "[3 5 0 9]\n",
      "[7 8 1 8]\n"
     ]
    }
   ],
   "source": [
    "# print columns\n",
    "print(a[:,1])\n",
    "print(a[:,-1])"
   ]
  },
  {
   "cell_type": "markdown",
   "metadata": {
    "slideshow": {
     "slide_type": "slide"
    }
   },
   "source": [
    "# Numpy - finding elements by value\n"
   ]
  },
  {
   "cell_type": "code",
   "execution_count": 20,
   "metadata": {},
   "outputs": [
    {
     "name": "stdout",
     "output_type": "stream",
     "text": [
      "[[0 7 5 9 8 7]\n",
      " [6 4 5 2 4 0]\n",
      " [4 2 1 2 4 9]]\n",
      "[[False  True  True  True  True  True]\n",
      " [ True False  True False False False]\n",
      " [False False False False False  True]]\n",
      "[7 5 9 8 7 6 5 9]\n",
      "(array([0, 0, 0, 0, 0, 1, 1, 2]), array([1, 2, 3, 4, 5, 0, 2, 5]))\n"
     ]
    }
   ],
   "source": [
    "a = np.random.randint(0,10,(3,6))\n",
    "print(a)\n",
    "# show which values are larger than 4\n",
    "print(a>4)\n",
    "# get all items larger then 4\n",
    "print(a[a>4])\n",
    "# get all locations of items larger than 4\n",
    "print(np.where(a>4))"
   ]
  },
  {
   "cell_type": "markdown",
   "metadata": {
    "slideshow": {
     "slide_type": "slide"
    }
   },
   "source": [
    "# Numpy - Data I/O\n",
    "\n",
    "* Write to text with `np.savetxt`\n",
    "* Load text file with `np.loadtxt`\n",
    "\n",
    "**Assignment**\n",
    "* Create array and save it to file\n",
    "* Load saved data and compare it to the original array"
   ]
  },
  {
   "cell_type": "code",
   "execution_count": 21,
   "metadata": {
    "slideshow": {
     "slide_type": "fragment"
    }
   },
   "outputs": [
    {
     "name": "stdout",
     "output_type": "stream",
     "text": [
      "[[ True  True  True  True  True]\n",
      " [ True  True  True  True  True]\n",
      " [ True  True  True  True  True]\n",
      " [ True  True  True  True  True]\n",
      " [ True  True  True  True  True]]\n",
      "True\n"
     ]
    }
   ],
   "source": [
    "a = np.random.randint(0,10,(5,5))\n",
    "np.savetxt('out.txt',a,delimiter='\\t')\n",
    "b = np.loadtxt('out.txt',delimiter='\\t')\n",
    "print(a==b)\n",
    "print(np.all(a==b))"
   ]
  },
  {
   "cell_type": "markdown",
   "metadata": {
    "slideshow": {
     "slide_type": "slide"
    }
   },
   "source": [
    "# Data visualization"
   ]
  },
  {
   "cell_type": "code",
   "execution_count": 22,
   "metadata": {
    "slideshow": {
     "slide_type": "-"
    }
   },
   "outputs": [],
   "source": [
    "%matplotlib inline\n",
    "import matplotlib.pyplot as plt"
   ]
  },
  {
   "cell_type": "code",
   "execution_count": 23,
   "metadata": {},
   "outputs": [
    {
     "data": {
      "image/png": "[encoded data removed]",
      "text/plain": [
       "<Figure size 432x288 with 1 Axes>"
      ]
     },
     "metadata": {
      "needs_background": "light"
     },
     "output_type": "display_data"
    }
   ],
   "source": [
    "x = np.linspace(0,10,11)\n",
    "y = np.exp(x)\n",
    "plt.plot(x,y);"
   ]
  },
  {
   "cell_type": "markdown",
   "metadata": {
    "slideshow": {
     "slide_type": "subslide"
    }
   },
   "source": [
    "# Intermezzo - Jupyter magic\n",
    "\n",
    "In Jupyter you can use *magic*. These *magic* commands start with a `%`:\n",
    "* `%matplotlib inline` makes matplotlib plots appear in line\n",
    "* `%who` or `whos` shows all variables in the notebook scope\n",
    "\n"
   ]
  },
  {
   "cell_type": "code",
   "execution_count": 24,
   "metadata": {},
   "outputs": [
    {
     "name": "stdout",
     "output_type": "stream",
     "text": [
      "Variable   Type       Data/Info\n",
      "-------------------------------\n",
      "a          ndarray    5x5: 25 elems, type `int64`, 200 bytes\n",
      "b          ndarray    5x5: 25 elems, type `float64`, 200 bytes\n",
      "l          list       n=3\n",
      "pd         module     <module 'pandas' from '/h<...>ages/pandas/__init__.py'>\n",
      "sns        module     <module 'seaborn' from '/<...>ges/seaborn/__init__.py'>\n",
      "x          ndarray    11: 11 elems, type `float64`, 88 bytes\n",
      "y          ndarray    11: 11 elems, type `float64`, 88 bytes\n"
     ]
    }
   ],
   "source": [
    "%whos"
   ]
  },
  {
   "cell_type": "markdown",
   "metadata": {
    "slideshow": {
     "slide_type": "subslide"
    }
   },
   "source": [
    "# Matplotlib plots - annotation"
   ]
  },
  {
   "cell_type": "code",
   "execution_count": 25,
   "metadata": {
    "scrolled": true,
    "slideshow": {
     "slide_type": "-"
    }
   },
   "outputs": [
    {
     "data": {
      "text/plain": [
       "Text(0, 0.5, 'y-axis')"
      ]
     },
     "execution_count": 25,
     "metadata": {},
     "output_type": "execute_result"
    },
    {
     "data": {
      "image/png": "[encoded data removed]",
      "text/plain": [
       "<Figure size 432x288 with 1 Axes>"
      ]
     },
     "metadata": {
      "needs_background": "light"
     },
     "output_type": "display_data"
    }
   ],
   "source": [
    "x = np.linspace(0,10,11)\n",
    "y = np.exp(x)\n",
    "plt.plot(x,y);\n",
    "plt.title('a plot')\n",
    "plt.xlabel('x-axis')\n",
    "plt.ylabel('y-axis')"
   ]
  },
  {
   "cell_type": "markdown",
   "metadata": {
    "slideshow": {
     "slide_type": "subslide"
    }
   },
   "source": [
    "# Matplotlib plots - axes\n",
    "\n",
    "* The `axes` *object* contains most elements of a single plots\n",
    "* Modifying plots via their `axes` is more precise and efficient"
   ]
  },
  {
   "cell_type": "code",
   "execution_count": 26,
   "metadata": {},
   "outputs": [
    {
     "data": {
      "image/png": "[encoded data removed]",
      "text/plain": [
       "<Figure size 432x288 with 1 Axes>"
      ]
     },
     "metadata": {
      "needs_background": "light"
     },
     "output_type": "display_data"
    }
   ],
   "source": [
    "x = np.linspace(0,10,11)\n",
    "y = np.exp(x)\n",
    "# get ax\n",
    "ax = plt.gca()\n",
    "ax.plot(x,y);\n",
    "ax.set(title='title',xlabel='x-axis',ylabel='y-axis');"
   ]
  },
  {
   "cell_type": "markdown",
   "metadata": {
    "slideshow": {
     "slide_type": "subslide"
    }
   },
   "source": [
    "# Matplotlib plots - figure\n",
    "\n",
    "* A figure contains one or more axes\n",
    "* A figure is automatically created when creating a new plot\n",
    "* Figure size can be controlled when the figure is explicitly created"
   ]
  },
  {
   "cell_type": "code",
   "execution_count": 27,
   "metadata": {},
   "outputs": [
    {
     "data": {
      "image/png": "[encoded data removed]",
      "text/plain": [
       "<Figure size 216x72 with 1 Axes>"
      ]
     },
     "metadata": {
      "needs_background": "light"
     },
     "output_type": "display_data"
    }
   ],
   "source": [
    "x = np.linspace(0,10,11)\n",
    "y = np.exp(x)\n",
    "# get ax\n",
    "fig = plt.figure(figsize=(3,1))\n",
    "ax = plt.gca()\n",
    "ax.plot(x,y);\n",
    "ax.set(title='title',xlabel='x-axis',ylabel='y-axis');"
   ]
  },
  {
   "cell_type": "markdown",
   "metadata": {
    "slideshow": {
     "slide_type": "subslide"
    }
   },
   "source": [
    "# Line plots - colors, patterns and markers\n",
    "\n",
    "`plot(x,y,color='color',marker='marker',linestyle='linestyle')`\n",
    "\n",
    "* colors: `'k' 'r' 'g' 'b' 'c' 'm' 'y' 'w'`\n",
    "* markers: `'.' ',' 'o' 'v' '^' '<' '>' 's' 'p' '*' '+' 'x' 'D'`\n",
    "* lines: `- -- : -.`\n"
   ]
  },
  {
   "cell_type": "code",
   "execution_count": 28,
   "metadata": {
    "scrolled": true,
    "slideshow": {
     "slide_type": "-"
    }
   },
   "outputs": [
    {
     "data": {
      "text/plain": [
       "[<matplotlib.lines.Line2D at 0x7f9ff4572668>]"
      ]
     },
     "execution_count": 28,
     "metadata": {},
     "output_type": "execute_result"
    },
    {
     "data": {
      "image/png": "[encoded data removed]",
      "text/plain": [
       "<Figure size 432x288 with 1 Axes>"
      ]
     },
     "metadata": {
      "needs_background": "light"
     },
     "output_type": "display_data"
    }
   ],
   "source": [
    "x = np.linspace(0,10,11)\n",
    "y = np.exp(x)\n",
    "ax = plt.gca()\n",
    "ax.plot(x,y,color='r',linestyle='--',marker='*')  "
   ]
  },
  {
   "cell_type": "markdown",
   "metadata": {
    "slideshow": {
     "slide_type": "subslide"
    }
   },
   "source": [
    "# Line plots - multiple lines"
   ]
  },
  {
   "cell_type": "code",
   "execution_count": 29,
   "metadata": {},
   "outputs": [
    {
     "data": {
      "text/plain": [
       "<matplotlib.legend.Legend at 0x7f9ff44fd198>"
      ]
     },
     "execution_count": 29,
     "metadata": {},
     "output_type": "execute_result"
    },
    {
     "data": {
      "image/png": "[encoded data removed]",
      "text/plain": [
       "<Figure size 432x288 with 1 Axes>"
      ]
     },
     "metadata": {
      "needs_background": "light"
     },
     "output_type": "display_data"
    }
   ],
   "source": [
    "x = np.linspace(0,10,11)\n",
    "y1 = np.exp(x)\n",
    "y2 = np.exp(1.05*x)\n",
    "ax = plt.gca()\n",
    "ax.plot(x,y1,label='line 1') \n",
    "ax.plot(x,y2,label='line 2')\n",
    "ax.legend()"
   ]
  },
  {
   "cell_type": "markdown",
   "metadata": {},
   "source": [
    "# Line plots - error bars"
   ]
  },
  {
   "cell_type": "code",
   "execution_count": 30,
   "metadata": {
    "slideshow": {
     "slide_type": "subslide"
    }
   },
   "outputs": [
    {
     "data": {
      "text/plain": [
       "<ErrorbarContainer object of 3 artists>"
      ]
     },
     "execution_count": 30,
     "metadata": {},
     "output_type": "execute_result"
    },
    {
     "data": {
      "image/png": "[encoded data removed]",
      "text/plain": [
       "<Figure size 432x288 with 1 Axes>"
      ]
     },
     "metadata": {
      "needs_background": "light"
     },
     "output_type": "display_data"
    }
   ],
   "source": [
    "x = np.linspace(0,10,11)\n",
    "y_mu = 10*x\n",
    "y_err = np.random.uniform(5,10,len(x))\n",
    "ax = plt.gca()\n",
    "ax.errorbar(x,y_mu,yerr=y_err,label='line 1',marker='o')"
   ]
  },
  {
   "cell_type": "markdown",
   "metadata": {
    "slideshow": {
     "slide_type": "slide"
    }
   },
   "source": [
    "# Bar chart"
   ]
  },
  {
   "cell_type": "code",
   "execution_count": 31,
   "metadata": {},
   "outputs": [
    {
     "data": {
      "text/plain": [
       "<BarContainer object of 10 artists>"
      ]
     },
     "execution_count": 31,
     "metadata": {},
     "output_type": "execute_result"
    },
    {
     "data": {
      "image/png": "[encoded data removed]",
      "text/plain": [
       "<Figure size 432x288 with 1 Axes>"
      ]
     },
     "metadata": {
      "needs_background": "light"
     },
     "output_type": "display_data"
    }
   ],
   "source": [
    "x = np.arange(10)\n",
    "y = np.random.uniform(5,15,10)\n",
    "y_err = np.random.uniform(1,3,10)\n",
    "w = .5\n",
    "plt.bar(x,y,w,yerr=y_err)"
   ]
  },
  {
   "cell_type": "markdown",
   "metadata": {
    "slideshow": {
     "slide_type": "subslide"
    }
   },
   "source": [
    "# Bar chart - multiple data sets"
   ]
  },
  {
   "cell_type": "code",
   "execution_count": 32,
   "metadata": {
    "slideshow": {
     "slide_type": "skip"
    }
   },
   "outputs": [
    {
     "data": {
      "image/png": "[encoded data removed]",
      "text/plain": [
       "<Figure size 432x288 with 1 Axes>"
      ]
     },
     "metadata": {
      "needs_background": "light"
     },
     "output_type": "display_data"
    }
   ],
   "source": [
    "x = np.arange(10)\n",
    "y = np.random.uniform(5,15,10)\n",
    "y2 = np.random.uniform(5,15,10)\n",
    "y_err = np.random.uniform(1,3,10)\n",
    "y2_err = np.random.uniform(1,3,10)    \n",
    "w = 0.4\n",
    "ax = plt.gca()\n",
    "ax.bar(x,y,w,yerr=y_err,label='set 1')    \n",
    "ax.bar(x+w,y2,w,yerr=y2_err,label='set 2')\n",
    "ax.legend()\n",
    "ax.set(xticks=x+.5*w,xticklabels=x);\n"
   ]
  },
  {
   "cell_type": "markdown",
   "metadata": {
    "slideshow": {
     "slide_type": "subslide"
    }
   },
   "source": [
    "# Histogram"
   ]
  },
  {
   "cell_type": "code",
   "execution_count": 33,
   "metadata": {},
   "outputs": [
    {
     "data": {
      "image/png": "[encoded data removed]",
      "text/plain": [
       "<Figure size 432x288 with 1 Axes>"
      ]
     },
     "metadata": {
      "needs_background": "light"
     },
     "output_type": "display_data"
    }
   ],
   "source": [
    "distr = np.random.normal(0,1,10000)\n",
    "fig = plt.figure(figsize=(6,4))\n",
    "ax = plt.gca()\n",
    "ax.hist(distr,bins=100);"
   ]
  },
  {
   "cell_type": "markdown",
   "metadata": {
    "slideshow": {
     "slide_type": "notes"
    }
   },
   "source": [
    "* Show how to change the number of bins"
   ]
  },
  {
   "cell_type": "markdown",
   "metadata": {
    "slideshow": {
     "slide_type": "slide"
    }
   },
   "source": [
    "# Subplots"
   ]
  },
  {
   "cell_type": "code",
   "execution_count": 34,
   "metadata": {},
   "outputs": [
    {
     "data": {
      "image/png": "[encoded data removed]",
      "text/plain": [
       "<Figure size 432x144 with 2 Axes>"
      ]
     },
     "metadata": {
      "needs_background": "light"
     },
     "output_type": "display_data"
    }
   ],
   "source": [
    "w = 3; h = 2\n",
    "fig,axes = plt.subplots(1,2,figsize=(2*w,h))\n",
    "x = np.linspace(-4,4,9)\n",
    "y = np.power(x,2)\n",
    "axes[0].plot(x,y)\n",
    "axes[1].bar(x,y)\n",
    "for ax in axes:\n",
    "    ax.set(xlabel='x',ylabel='y')\n",
    "plt.tight_layout()"
   ]
  },
  {
   "cell_type": "markdown",
   "metadata": {
    "slideshow": {
     "slide_type": "subslide"
    }
   },
   "source": [
    "# Subplots - rows and columns"
   ]
  },
  {
   "cell_type": "code",
   "execution_count": 35,
   "metadata": {},
   "outputs": [
    {
     "data": {
      "image/png": "[encoded data removed]",
      "text/plain": [
       "<Figure size 360x360 with 4 Axes>"
      ]
     },
     "metadata": {
      "needs_background": "light"
     },
     "output_type": "display_data"
    }
   ],
   "source": [
    "fig,axes = plt.subplots(2,2,figsize=(5,5))\n",
    "axes[0,0].set(title='first subplot');\n",
    "axes[0,1].set(title='second subplot');\n",
    "axes[1,0].set(title='third subplot');\n",
    "axes[1,1].set(title='fourth subplot');\n",
    "plt.tight_layout()"
   ]
  }
 ],
 "metadata": {
  "celltoolbar": "Slideshow",
  "hide_input": false,
  "kernelspec": {
   "display_name": "python3",
   "language": "python",
   "name": "python3"
  },
  "language_info": {
   "codemirror_mode": {
    "name": "ipython",
    "version": 3
   },
   "file_extension": ".py",
   "mimetype": "text/x-python",
   "name": "python",
   "nbconvert_exporter": "python",
   "pygments_lexer": "ipython3",
   "version": "3.7.3"
  },
  "livereveal": {
   "auto_select": "code",
   "auto_select_fragment": true,
   "controls": false,
   "minScale": 0.2
  },
  "toc": {
   "base_numbering": 1,
   "nav_menu": {},
   "number_sections": false,
   "sideBar": false,
   "skip_h1_title": false,
   "title_cell": "Table of Contents",
   "title_sidebar": "Contents",
   "toc_cell": false,
   "toc_position": {},
   "toc_section_display": "block",
   "toc_window_display": false
  }
 },
 "nbformat": 4,
 "nbformat_minor": 4
}
