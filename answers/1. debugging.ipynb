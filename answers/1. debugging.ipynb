{
 "cells": [
  {
   "cell_type": "markdown",
   "metadata": {},
   "source": [
    "# Let's play the lottery \n",
    "\n",
    "because writing grant proposals just doesn't work"
   ]
  },
  {
   "cell_type": "markdown",
   "metadata": {},
   "source": [
    "There are some bugs in the code below, and you have to fix them. Run the code and have a good look at the error message. Fix the bug and run the code again. In the end, you should be able to win the lottery every time (run your code multiple times), if you buy enough tickets."
   ]
  },
  {
   "cell_type": "code",
   "execution_count": 1,
   "metadata": {},
   "outputs": [
    {
     "ename": "SyntaxError",
     "evalue": "invalid syntax (<ipython-input-1-eca1d0537c03>, line 9)",
     "output_type": "error",
     "traceback": [
      "\u001b[0;36m  File \u001b[0;32m\"<ipython-input-1-eca1d0537c03>\"\u001b[0;36m, line \u001b[0;32m9\u001b[0m\n\u001b[0;31m    if winner in tickets:\u001b[0m\n\u001b[0m                        ^\u001b[0m\n\u001b[0;31mSyntaxError\u001b[0m\u001b[0;31m:\u001b[0m invalid syntax\n"
     ]
    }
   ],
   "source": [
    "def buy_tickets(n,nr_min=0,nr_max=1e9):\n",
    "    return np.random.randint(nr_min,nr_max,size=n)\n",
    "\n",
    "def draw_winner(nr_min=0,nr_max=1e9):\n",
    "    return np.random.randint(nr_min,1e9)\n",
    "\n",
    "def announce_results(tickets,winner):\n",
    "    print(\"Is one of your {} tickets a winner??\".format(len(tickets))\n",
    "    if winner in tickets:\n",
    "        print(\"Congratulations: you're a winner!!!!!\")\n",
    "    else\n",
    "        print(Sorry, better luck next time...\")\n",
    "\n",
    "def play_lottery(ntickets,nr_min=0,nr_max=1e9):\n",
    "    tickets = Buy_Tickets(nr_min,nr_max,ntickets)\n",
    "    winner = draw_winner(nr_min,nr_max)\n",
    "    announce_results(tickets,winner)\n",
    "\n",
    "play_lottery(ntickets,0,10)"
   ]
  },
  {
   "cell_type": "markdown",
   "metadata": {},
   "source": [
    "This line seems to be ok, so have a look at previous lines until you find an error. When you look carefully at the `print` statement in the previous line, you will see that there is a missing `)`."
   ]
  },
  {
   "cell_type": "code",
   "execution_count": 3,
   "metadata": {},
   "outputs": [
    {
     "ename": "SyntaxError",
     "evalue": "invalid syntax (<ipython-input-3-8e1ddd147d51>, line 11)",
     "output_type": "error",
     "traceback": [
      "\u001b[0;36m  File \u001b[0;32m\"<ipython-input-3-8e1ddd147d51>\"\u001b[0;36m, line \u001b[0;32m11\u001b[0m\n\u001b[0;31m    else\u001b[0m\n\u001b[0m        ^\u001b[0m\n\u001b[0;31mSyntaxError\u001b[0m\u001b[0;31m:\u001b[0m invalid syntax\n"
     ]
    }
   ],
   "source": [
    "def buy_tickets(n,nr_min=0,nr_max=1e9):\n",
    "    return np.random.randint(nr_min,nr_max,size=n)\n",
    "\n",
    "def draw_winner(nr_min=0,nr_max=1e9):\n",
    "    return np.random.randint(nr_min,1e9)\n",
    "\n",
    "def announce_results(tickets,winner):\n",
    "    print(\"Is one of your {} tickets a winner??\".format(len(tickets)))\n",
    "    if winner in tickets:\n",
    "        print(\"Congratulations: you're a winner!!!!!\")\n",
    "    else\n",
    "        print(Sorry, better luck next time...\")\n",
    "\n",
    "def play_lottery(ntickets,nr_min=0,nr_max=1e9):\n",
    "    tickets = Buy_Tickets(nr_min,nr_max,ntickets)\n",
    "    winner = draw_winner(nr_min,nr_max)\n",
    "    announce_results(tickets,winner)\n",
    "\n",
    "play_lottery(ntickets,0,10)"
   ]
  },
  {
   "cell_type": "markdown",
   "metadata": {},
   "source": [
    "There should be a `:` after `else`."
   ]
  },
  {
   "cell_type": "code",
   "execution_count": 4,
   "metadata": {},
   "outputs": [
    {
     "ename": "SyntaxError",
     "evalue": "invalid syntax (<ipython-input-4-a9997c87dd5c>, line 12)",
     "output_type": "error",
     "traceback": [
      "\u001b[0;36m  File \u001b[0;32m\"<ipython-input-4-a9997c87dd5c>\"\u001b[0;36m, line \u001b[0;32m12\u001b[0m\n\u001b[0;31m    print(Sorry, better luck next time...\")\u001b[0m\n\u001b[0m                           ^\u001b[0m\n\u001b[0;31mSyntaxError\u001b[0m\u001b[0;31m:\u001b[0m invalid syntax\n"
     ]
    }
   ],
   "source": [
    "def buy_tickets(n,nr_min=0,nr_max=1e9):\n",
    "    return np.random.randint(nr_min,nr_max,size=n)\n",
    "\n",
    "def draw_winner(nr_min=0,nr_max=1e9):\n",
    "    return np.random.randint(nr_min,1e9)\n",
    "\n",
    "def announce_results(tickets,winner):\n",
    "    print(\"Is one of your {} tickets a winner??\".format(len(tickets)))\n",
    "    if winner in tickets:\n",
    "        print(\"Congratulations: you're a winner!!!!!\")\n",
    "    else:\n",
    "        print(Sorry, better luck next time...\")\n",
    "\n",
    "def play_lottery(ntickets,nr_min=0,nr_max=1e9):\n",
    "    tickets = Buy_Tickets(nr_min,nr_max,ntickets)\n",
    "    winner = draw_winner(nr_min,nr_max)\n",
    "    announce_results(tickets,winner)\n",
    "\n",
    "play_lottery(ntickets,0,10)"
   ]
  },
  {
   "cell_type": "markdown",
   "metadata": {},
   "source": [
    "The opening `\"` is missing."
   ]
  },
  {
   "cell_type": "code",
   "execution_count": 5,
   "metadata": {},
   "outputs": [
    {
     "ename": "NameError",
     "evalue": "name 'ntickets' is not defined",
     "output_type": "error",
     "traceback": [
      "\u001b[0;31m---------------------------------------------------------------------------\u001b[0m",
      "\u001b[0;31mNameError\u001b[0m                                 Traceback (most recent call last)",
      "\u001b[0;32m<ipython-input-5-903a7e42c935>\u001b[0m in \u001b[0;36m<module>\u001b[0;34m\u001b[0m\n\u001b[1;32m     17\u001b[0m     \u001b[0mannounce_results\u001b[0m\u001b[0;34m(\u001b[0m\u001b[0mtickets\u001b[0m\u001b[0;34m,\u001b[0m\u001b[0mwinner\u001b[0m\u001b[0;34m)\u001b[0m\u001b[0;34m\u001b[0m\u001b[0;34m\u001b[0m\u001b[0m\n\u001b[1;32m     18\u001b[0m \u001b[0;34m\u001b[0m\u001b[0m\n\u001b[0;32m---> 19\u001b[0;31m \u001b[0mplay_lottery\u001b[0m\u001b[0;34m(\u001b[0m\u001b[0mntickets\u001b[0m\u001b[0;34m,\u001b[0m\u001b[0;36m0\u001b[0m\u001b[0;34m,\u001b[0m\u001b[0;36m10\u001b[0m\u001b[0;34m)\u001b[0m\u001b[0;34m\u001b[0m\u001b[0;34m\u001b[0m\u001b[0m\n\u001b[0m",
      "\u001b[0;31mNameError\u001b[0m: name 'ntickets' is not defined"
     ]
    }
   ],
   "source": [
    "def buy_tickets(n,nr_min=0,nr_max=1e9):\n",
    "    return np.random.randint(nr_min,nr_max,size=n)\n",
    "\n",
    "def draw_winner(nr_min=0,nr_max=1e9):\n",
    "    return np.random.randint(nr_min,1e9)\n",
    "\n",
    "def announce_results(tickets,winner):\n",
    "    print(\"Is one of your {} tickets a winner??\".format(len(tickets)))\n",
    "    if winner in tickets:\n",
    "        print(\"Congratulations: you're a winner!!!!!\")\n",
    "    else:\n",
    "        print(\"Sorry, better luck next time...\")\n",
    "\n",
    "def play_lottery(ntickets,nr_min=0,nr_max=1e9):\n",
    "    tickets = Buy_Tickets(nr_min,nr_max,ntickets)\n",
    "    winner = draw_winner(nr_min,nr_max)\n",
    "    announce_results(tickets,winner)\n",
    "\n",
    "play_lottery(ntickets,0,10)"
   ]
  },
  {
   "cell_type": "markdown",
   "metadata": {},
   "source": [
    "The variable `ntickets` does not exist"
   ]
  },
  {
   "cell_type": "code",
   "execution_count": 6,
   "metadata": {},
   "outputs": [
    {
     "ename": "NameError",
     "evalue": "name 'Buy_Tickets' is not defined",
     "output_type": "error",
     "traceback": [
      "\u001b[0;31m---------------------------------------------------------------------------\u001b[0m",
      "\u001b[0;31mNameError\u001b[0m                                 Traceback (most recent call last)",
      "\u001b[0;32m<ipython-input-6-a9c0b5603529>\u001b[0m in \u001b[0;36m<module>\u001b[0;34m\u001b[0m\n\u001b[1;32m     18\u001b[0m \u001b[0;34m\u001b[0m\u001b[0m\n\u001b[1;32m     19\u001b[0m \u001b[0mntickets\u001b[0m \u001b[0;34m=\u001b[0m \u001b[0;36m100\u001b[0m\u001b[0;34m\u001b[0m\u001b[0;34m\u001b[0m\u001b[0m\n\u001b[0;32m---> 20\u001b[0;31m \u001b[0mplay_lottery\u001b[0m\u001b[0;34m(\u001b[0m\u001b[0mntickets\u001b[0m\u001b[0;34m,\u001b[0m\u001b[0;36m0\u001b[0m\u001b[0;34m,\u001b[0m\u001b[0;36m10\u001b[0m\u001b[0;34m)\u001b[0m\u001b[0;34m\u001b[0m\u001b[0;34m\u001b[0m\u001b[0m\n\u001b[0m",
      "\u001b[0;32m<ipython-input-6-a9c0b5603529>\u001b[0m in \u001b[0;36mplay_lottery\u001b[0;34m(ntickets, nr_min, nr_max)\u001b[0m\n\u001b[1;32m     13\u001b[0m \u001b[0;34m\u001b[0m\u001b[0m\n\u001b[1;32m     14\u001b[0m \u001b[0;32mdef\u001b[0m \u001b[0mplay_lottery\u001b[0m\u001b[0;34m(\u001b[0m\u001b[0mntickets\u001b[0m\u001b[0;34m,\u001b[0m\u001b[0mnr_min\u001b[0m\u001b[0;34m=\u001b[0m\u001b[0;36m0\u001b[0m\u001b[0;34m,\u001b[0m\u001b[0mnr_max\u001b[0m\u001b[0;34m=\u001b[0m\u001b[0;36m1e9\u001b[0m\u001b[0;34m)\u001b[0m\u001b[0;34m:\u001b[0m\u001b[0;34m\u001b[0m\u001b[0;34m\u001b[0m\u001b[0m\n\u001b[0;32m---> 15\u001b[0;31m     \u001b[0mtickets\u001b[0m \u001b[0;34m=\u001b[0m \u001b[0mBuy_Tickets\u001b[0m\u001b[0;34m(\u001b[0m\u001b[0mnr_min\u001b[0m\u001b[0;34m,\u001b[0m\u001b[0mnr_max\u001b[0m\u001b[0;34m,\u001b[0m\u001b[0mntickets\u001b[0m\u001b[0;34m)\u001b[0m\u001b[0;34m\u001b[0m\u001b[0;34m\u001b[0m\u001b[0m\n\u001b[0m\u001b[1;32m     16\u001b[0m     \u001b[0mwinner\u001b[0m \u001b[0;34m=\u001b[0m \u001b[0mdraw_winner\u001b[0m\u001b[0;34m(\u001b[0m\u001b[0mnr_min\u001b[0m\u001b[0;34m,\u001b[0m\u001b[0mnr_max\u001b[0m\u001b[0;34m)\u001b[0m\u001b[0;34m\u001b[0m\u001b[0;34m\u001b[0m\u001b[0m\n\u001b[1;32m     17\u001b[0m     \u001b[0mannounce_results\u001b[0m\u001b[0;34m(\u001b[0m\u001b[0mtickets\u001b[0m\u001b[0;34m,\u001b[0m\u001b[0mwinner\u001b[0m\u001b[0;34m)\u001b[0m\u001b[0;34m\u001b[0m\u001b[0;34m\u001b[0m\u001b[0m\n",
      "\u001b[0;31mNameError\u001b[0m: name 'Buy_Tickets' is not defined"
     ]
    }
   ],
   "source": [
    "def buy_tickets(n,nr_min=0,nr_max=1e9):\n",
    "    return np.random.randint(nr_min,nr_max,size=n)\n",
    "\n",
    "def draw_winner(nr_min=0,nr_max=1e9):\n",
    "    return np.random.randint(nr_min,1e9)\n",
    "\n",
    "def announce_results(tickets,winner):\n",
    "    print(\"Is one of your {} tickets a winner??\".format(len(tickets)))\n",
    "    if winner in tickets:\n",
    "        print(\"Congratulations: you're a winner!!!!!\")\n",
    "    else:\n",
    "        print(\"Sorry, better luck next time...\")\n",
    "\n",
    "def play_lottery(ntickets,nr_min=0,nr_max=1e9):\n",
    "    tickets = Buy_Tickets(nr_min,nr_max,ntickets)\n",
    "    winner = draw_winner(nr_min,nr_max)\n",
    "    announce_results(tickets,winner)\n",
    "\n",
    "ntickets = 100\n",
    "play_lottery(ntickets,0,10)"
   ]
  },
  {
   "cell_type": "markdown",
   "metadata": {},
   "source": [
    "The name `Buy_Tickets` does not exist; the name `buy_tickets` does. Remember that Python is case sensitive!"
   ]
  },
  {
   "cell_type": "code",
   "execution_count": 7,
   "metadata": {},
   "outputs": [
    {
     "ename": "NameError",
     "evalue": "name 'np' is not defined",
     "output_type": "error",
     "traceback": [
      "\u001b[0;31m---------------------------------------------------------------------------\u001b[0m",
      "\u001b[0;31mNameError\u001b[0m                                 Traceback (most recent call last)",
      "\u001b[0;32m<ipython-input-7-1188d38828a5>\u001b[0m in \u001b[0;36m<module>\u001b[0;34m\u001b[0m\n\u001b[1;32m     18\u001b[0m \u001b[0;34m\u001b[0m\u001b[0m\n\u001b[1;32m     19\u001b[0m \u001b[0mntickets\u001b[0m \u001b[0;34m=\u001b[0m \u001b[0;36m100\u001b[0m\u001b[0;34m\u001b[0m\u001b[0;34m\u001b[0m\u001b[0m\n\u001b[0;32m---> 20\u001b[0;31m \u001b[0mplay_lottery\u001b[0m\u001b[0;34m(\u001b[0m\u001b[0mntickets\u001b[0m\u001b[0;34m,\u001b[0m\u001b[0;36m0\u001b[0m\u001b[0;34m,\u001b[0m\u001b[0;36m10\u001b[0m\u001b[0;34m)\u001b[0m\u001b[0;34m\u001b[0m\u001b[0;34m\u001b[0m\u001b[0m\n\u001b[0m",
      "\u001b[0;32m<ipython-input-7-1188d38828a5>\u001b[0m in \u001b[0;36mplay_lottery\u001b[0;34m(ntickets, nr_min, nr_max)\u001b[0m\n\u001b[1;32m     13\u001b[0m \u001b[0;34m\u001b[0m\u001b[0m\n\u001b[1;32m     14\u001b[0m \u001b[0;32mdef\u001b[0m \u001b[0mplay_lottery\u001b[0m\u001b[0;34m(\u001b[0m\u001b[0mntickets\u001b[0m\u001b[0;34m,\u001b[0m\u001b[0mnr_min\u001b[0m\u001b[0;34m=\u001b[0m\u001b[0;36m0\u001b[0m\u001b[0;34m,\u001b[0m\u001b[0mnr_max\u001b[0m\u001b[0;34m=\u001b[0m\u001b[0;36m1e9\u001b[0m\u001b[0;34m)\u001b[0m\u001b[0;34m:\u001b[0m\u001b[0;34m\u001b[0m\u001b[0;34m\u001b[0m\u001b[0m\n\u001b[0;32m---> 15\u001b[0;31m     \u001b[0mtickets\u001b[0m \u001b[0;34m=\u001b[0m \u001b[0mbuy_tickets\u001b[0m\u001b[0;34m(\u001b[0m\u001b[0mnr_min\u001b[0m\u001b[0;34m,\u001b[0m\u001b[0mnr_max\u001b[0m\u001b[0;34m,\u001b[0m\u001b[0mntickets\u001b[0m\u001b[0;34m)\u001b[0m\u001b[0;34m\u001b[0m\u001b[0;34m\u001b[0m\u001b[0m\n\u001b[0m\u001b[1;32m     16\u001b[0m     \u001b[0mwinner\u001b[0m \u001b[0;34m=\u001b[0m \u001b[0mdraw_winner\u001b[0m\u001b[0;34m(\u001b[0m\u001b[0mnr_min\u001b[0m\u001b[0;34m,\u001b[0m\u001b[0mnr_max\u001b[0m\u001b[0;34m)\u001b[0m\u001b[0;34m\u001b[0m\u001b[0;34m\u001b[0m\u001b[0m\n\u001b[1;32m     17\u001b[0m     \u001b[0mannounce_results\u001b[0m\u001b[0;34m(\u001b[0m\u001b[0mtickets\u001b[0m\u001b[0;34m,\u001b[0m\u001b[0mwinner\u001b[0m\u001b[0;34m)\u001b[0m\u001b[0;34m\u001b[0m\u001b[0;34m\u001b[0m\u001b[0m\n",
      "\u001b[0;32m<ipython-input-7-1188d38828a5>\u001b[0m in \u001b[0;36mbuy_tickets\u001b[0;34m(n, nr_min, nr_max)\u001b[0m\n\u001b[1;32m      1\u001b[0m \u001b[0;32mdef\u001b[0m \u001b[0mbuy_tickets\u001b[0m\u001b[0;34m(\u001b[0m\u001b[0mn\u001b[0m\u001b[0;34m,\u001b[0m\u001b[0mnr_min\u001b[0m\u001b[0;34m=\u001b[0m\u001b[0;36m0\u001b[0m\u001b[0;34m,\u001b[0m\u001b[0mnr_max\u001b[0m\u001b[0;34m=\u001b[0m\u001b[0;36m1e9\u001b[0m\u001b[0;34m)\u001b[0m\u001b[0;34m:\u001b[0m\u001b[0;34m\u001b[0m\u001b[0;34m\u001b[0m\u001b[0m\n\u001b[0;32m----> 2\u001b[0;31m     \u001b[0;32mreturn\u001b[0m \u001b[0mnp\u001b[0m\u001b[0;34m.\u001b[0m\u001b[0mrandom\u001b[0m\u001b[0;34m.\u001b[0m\u001b[0mrandint\u001b[0m\u001b[0;34m(\u001b[0m\u001b[0mnr_min\u001b[0m\u001b[0;34m,\u001b[0m\u001b[0mnr_max\u001b[0m\u001b[0;34m,\u001b[0m\u001b[0msize\u001b[0m\u001b[0;34m=\u001b[0m\u001b[0mn\u001b[0m\u001b[0;34m)\u001b[0m\u001b[0;34m\u001b[0m\u001b[0;34m\u001b[0m\u001b[0m\n\u001b[0m\u001b[1;32m      3\u001b[0m \u001b[0;34m\u001b[0m\u001b[0m\n\u001b[1;32m      4\u001b[0m \u001b[0;32mdef\u001b[0m \u001b[0mdraw_winner\u001b[0m\u001b[0;34m(\u001b[0m\u001b[0mnr_min\u001b[0m\u001b[0;34m=\u001b[0m\u001b[0;36m0\u001b[0m\u001b[0;34m,\u001b[0m\u001b[0mnr_max\u001b[0m\u001b[0;34m=\u001b[0m\u001b[0;36m1e9\u001b[0m\u001b[0;34m)\u001b[0m\u001b[0;34m:\u001b[0m\u001b[0;34m\u001b[0m\u001b[0;34m\u001b[0m\u001b[0m\n\u001b[1;32m      5\u001b[0m     \u001b[0;32mreturn\u001b[0m \u001b[0mnp\u001b[0m\u001b[0;34m.\u001b[0m\u001b[0mrandom\u001b[0m\u001b[0;34m.\u001b[0m\u001b[0mrandint\u001b[0m\u001b[0;34m(\u001b[0m\u001b[0mnr_min\u001b[0m\u001b[0;34m,\u001b[0m\u001b[0;36m1e9\u001b[0m\u001b[0;34m)\u001b[0m\u001b[0;34m\u001b[0m\u001b[0;34m\u001b[0m\u001b[0m\n",
      "\u001b[0;31mNameError\u001b[0m: name 'np' is not defined"
     ]
    }
   ],
   "source": [
    "def buy_tickets(n,nr_min=0,nr_max=1e9):\n",
    "    return np.random.randint(nr_min,nr_max,size=n)\n",
    "\n",
    "def draw_winner(nr_min=0,nr_max=1e9):\n",
    "    return np.random.randint(nr_min,1e9)\n",
    "\n",
    "def announce_results(tickets,winner):\n",
    "    print(\"Is one of your {} tickets a winner??\".format(len(tickets)))\n",
    "    if winner in tickets:\n",
    "        print(\"Congratulations: you're a winner!!!!!\")\n",
    "    else:\n",
    "        print(\"Sorry, better luck next time...\")\n",
    "\n",
    "def play_lottery(ntickets,nr_min=0,nr_max=1e9):\n",
    "    tickets = buy_tickets(nr_min,nr_max,ntickets)\n",
    "    winner = draw_winner(nr_min,nr_max)\n",
    "    announce_results(tickets,winner)\n",
    "\n",
    "ntickets = 100\n",
    "play_lottery(ntickets,0,10)"
   ]
  },
  {
   "cell_type": "markdown",
   "metadata": {},
   "source": [
    "Remember that `np` is commonly used as a shorthand for importing numpy. Numpy has not been imported in this notebook, so that is causing the problem."
   ]
  },
  {
   "cell_type": "code",
   "execution_count": 8,
   "metadata": {},
   "outputs": [
    {
     "name": "stdout",
     "output_type": "stream",
     "text": [
      "Is one of your 0 tickets a winner??\n",
      "Sorry, better luck next time...\n"
     ]
    }
   ],
   "source": [
    "import numpy as np\n",
    "\n",
    "def buy_tickets(n,nr_min=0,nr_max=1e9):\n",
    "    return np.random.randint(nr_min,nr_max,size=n)\n",
    "\n",
    "def draw_winner(nr_min=0,nr_max=1e9):\n",
    "    return np.random.randint(nr_min,1e9)\n",
    "\n",
    "def announce_results(tickets,winner):\n",
    "    print(\"Is one of your {} tickets a winner??\".format(len(tickets)))\n",
    "    if winner in tickets:\n",
    "        print(\"Congratulations: you're a winner!!!!!\")\n",
    "    else:\n",
    "        print(\"Sorry, better luck next time...\")\n",
    "\n",
    "def play_lottery(ntickets,nr_min=0,nr_max=1e9):\n",
    "    tickets = buy_tickets(nr_min,nr_max,ntickets)\n",
    "    winner = draw_winner(nr_min,nr_max)\n",
    "    announce_results(tickets,winner)\n",
    "\n",
    "ntickets = 100\n",
    "play_lottery(ntickets,0,10)"
   ]
  },
  {
   "cell_type": "markdown",
   "metadata": {},
   "source": [
    "Huh, we should be buying 100 tickets. When calling `buy_tickets`, the arguments are mixed up such that the number of tickets bought is set to `nr_min`. "
   ]
  },
  {
   "cell_type": "code",
   "execution_count": 9,
   "metadata": {},
   "outputs": [
    {
     "name": "stdout",
     "output_type": "stream",
     "text": [
      "Is one of your 100 tickets a winner??\n",
      "Sorry, better luck next time...\n"
     ]
    }
   ],
   "source": [
    "import numpy as np\n",
    "\n",
    "def buy_tickets(n,nr_min=0,nr_max=1e9):\n",
    "    return np.random.randint(nr_min,nr_max,size=n)\n",
    "\n",
    "def draw_winner(nr_min=0,nr_max=1e9):\n",
    "    return np.random.randint(nr_min,1e9)\n",
    "\n",
    "def announce_results(tickets,winner):\n",
    "    print(\"Is one of your {} tickets a winner??\".format(len(tickets)))\n",
    "    if winner in tickets:\n",
    "        print(\"Congratulations: you're a winner!!!!!\")\n",
    "    else:\n",
    "        print(\"Sorry, better luck next time...\")\n",
    "\n",
    "def play_lottery(ntickets,nr_min=0,nr_max=1e9):\n",
    "    tickets = buy_tickets(ntickets,nr_min,nr_max)\n",
    "    winner = draw_winner(nr_min,nr_max)\n",
    "    announce_results(tickets,winner)\n",
    "\n",
    "ntickets = 100\n",
    "play_lottery(ntickets,0,10)"
   ]
  },
  {
   "cell_type": "markdown",
   "metadata": {},
   "source": [
    "There are 10 lottery number and we do not win with 100 tickets, strange. Maybe we need to buy even more tickets."
   ]
  },
  {
   "cell_type": "code",
   "execution_count": 10,
   "metadata": {},
   "outputs": [
    {
     "name": "stdout",
     "output_type": "stream",
     "text": [
      "Is one of your 10000 tickets a winner??\n",
      "Sorry, better luck next time...\n"
     ]
    }
   ],
   "source": [
    "import numpy as np\n",
    "\n",
    "def buy_tickets(n,nr_min=0,nr_max=1e9):\n",
    "    return np.random.randint(nr_min,nr_max,size=n)\n",
    "\n",
    "def draw_winner(nr_min=0,nr_max=1e9):\n",
    "    return np.random.randint(nr_min,1e9)\n",
    "\n",
    "def announce_results(tickets,winner):\n",
    "    print(\"Is one of your {} tickets a winner??\".format(len(tickets)))\n",
    "    if winner in tickets:\n",
    "        print(\"Congratulations: you're a winner!!!!!\")\n",
    "    else:\n",
    "        print(\"Sorry, better luck next time...\")\n",
    "\n",
    "def play_lottery(ntickets,nr_min=0,nr_max=1e9):\n",
    "    tickets = buy_tickets(ntickets,nr_min,nr_max)\n",
    "    winner = draw_winner(nr_min,nr_max)\n",
    "    announce_results(tickets,winner)\n",
    "\n",
    "ntickets = 10000\n",
    "play_lottery(ntickets,0,10)"
   ]
  },
  {
   "cell_type": "markdown",
   "metadata": {},
   "source": [
    "Ok, this is not making any sense. Remember that with 10000 tickets we expect to with $.1 \\cdot 1000 = 100$ times. Looking at the code in more detail, we find an error in `draw_winner`; instead of using `nr_max` from the function arguments, the maximum value is set to 1e9."
   ]
  },
  {
   "cell_type": "code",
   "execution_count": 11,
   "metadata": {},
   "outputs": [
    {
     "name": "stdout",
     "output_type": "stream",
     "text": [
      "Is one of your 10000 tickets a winner??\n",
      "Congratulations: you're a winner!!!!!\n"
     ]
    }
   ],
   "source": [
    "import numpy as np\n",
    "\n",
    "def buy_tickets(n,nr_min=0,nr_max=1e9):\n",
    "    return np.random.randint(nr_min,nr_max,size=n)\n",
    "\n",
    "def draw_winner(nr_min=0,nr_max=1e9):\n",
    "    return np.random.randint(nr_min,nr_max)\n",
    "\n",
    "def announce_results(tickets,winner):\n",
    "    print(\"Is one of your {} tickets a winner??\".format(len(tickets)))\n",
    "    if winner in tickets:\n",
    "        print(\"Congratulations: you're a winner!!!!!\")\n",
    "    else:\n",
    "        print(\"Sorry, better luck next time...\")\n",
    "\n",
    "def play_lottery(ntickets,nr_min=0,nr_max=1e9):\n",
    "    tickets = buy_tickets(ntickets,nr_min,nr_max)\n",
    "    winner = draw_winner(nr_min,nr_max)\n",
    "    announce_results(tickets,winner)\n",
    "\n",
    "ntickets = 10000\n",
    "play_lottery(ntickets,0,10)"
   ]
  },
  {
   "cell_type": "markdown",
   "metadata": {},
   "source": [
    "Yes, we won!"
   ]
  }
 ],
 "metadata": {
  "hide_input": false,
  "jupytext_formats": "ipynb,py",
  "kernelspec": {
   "display_name": "Python [conda env:BPiDD]",
   "language": "python",
   "name": "conda-env-BPiDD-py"
  },
  "language_info": {
   "codemirror_mode": {
    "name": "ipython",
    "version": 3
   },
   "file_extension": ".py",
   "mimetype": "text/x-python",
   "name": "python",
   "nbconvert_exporter": "python",
   "pygments_lexer": "ipython3",
   "version": "3.7.3"
  },
  "toc": {
   "base_numbering": 1,
   "nav_menu": {},
   "number_sections": false,
   "sideBar": true,
   "skip_h1_title": false,
   "title_cell": "Table of Contents",
   "title_sidebar": "Contents",
   "toc_cell": false,
   "toc_position": {},
   "toc_section_display": true,
   "toc_window_display": true
  }
 },
 "nbformat": 4,
 "nbformat_minor": 4
}
