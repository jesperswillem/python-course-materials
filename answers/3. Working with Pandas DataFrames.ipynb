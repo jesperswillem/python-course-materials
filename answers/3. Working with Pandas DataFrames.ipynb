{
 "cells": [
  {
   "cell_type": "code",
   "execution_count": 1,
   "metadata": {},
   "outputs": [],
   "source": [
    "import numpy as np\n",
    "import pandas as pd\n",
    "pd.options.display.max_rows = 20"
   ]
  },
  {
   "cell_type": "markdown",
   "metadata": {},
   "source": [
    "# Loading data"
   ]
  },
  {
   "cell_type": "markdown",
   "metadata": {},
   "source": [
    "Pandas has several function for loading data, two of the most commonly used are `read_excel` and `read_csv` that respectively read data from excel files or data from a plain text file. \n",
    "\n",
    "Use `pd.read_excel` to read the sheet *Cellscreens* from `datafiles/Cellscreens.xls`"
   ]
  },
  {
   "cell_type": "code",
   "execution_count": 2,
   "metadata": {},
   "outputs": [],
   "source": [
    "df = pd.read_excel('../exercises/datafiles/Cellscreens.xls')"
   ]
  },
  {
   "cell_type": "markdown",
   "metadata": {},
   "source": [
    "Use `pd.read_csv` to read the data from `datafiles/Cellscreens.csv` and `datafiles/Cellscreens.tsv`. Can you load both files correctly? If not, compare the two files (note that Jupyter can open text files) and look through the documentation of `pd.read_csv` to find the correction options.\n",
    "    * "
   ]
  },
  {
   "cell_type": "code",
   "execution_count": 3,
   "metadata": {
    "scrolled": true
   },
   "outputs": [
    {
     "data": {
      "text/html": [
       "<div>\n",
       "<style scoped>\n",
       "    .dataframe tbody tr th:only-of-type {\n",
       "        vertical-align: middle;\n",
       "    }\n",
       "\n",
       "    .dataframe tbody tr th {\n",
       "        vertical-align: top;\n",
       "    }\n",
       "\n",
       "    .dataframe thead th {\n",
       "        text-align: right;\n",
       "    }\n",
       "</style>\n",
       "<table border=\"1\" class=\"dataframe\">\n",
       "  <thead>\n",
       "    <tr style=\"text-align: right;\">\n",
       "      <th></th>\n",
       "      <th>Compound_name</th>\n",
       "      <th>Disease</th>\n",
       "      <th>Pain_rating</th>\n",
       "      <th>Concentration</th>\n",
       "    </tr>\n",
       "  </thead>\n",
       "  <tbody>\n",
       "    <tr>\n",
       "      <td>0</td>\n",
       "      <td>Morphine</td>\n",
       "      <td>BRCA</td>\n",
       "      <td>5</td>\n",
       "      <td>10</td>\n",
       "    </tr>\n",
       "    <tr>\n",
       "      <td>1</td>\n",
       "      <td>Morphine</td>\n",
       "      <td>BRCA</td>\n",
       "      <td>5</td>\n",
       "      <td>15</td>\n",
       "    </tr>\n",
       "    <tr>\n",
       "      <td>2</td>\n",
       "      <td>Morphine</td>\n",
       "      <td>BRCA</td>\n",
       "      <td>4</td>\n",
       "      <td>20</td>\n",
       "    </tr>\n",
       "    <tr>\n",
       "      <td>3</td>\n",
       "      <td>Morphine</td>\n",
       "      <td>BRCA</td>\n",
       "      <td>4</td>\n",
       "      <td>25</td>\n",
       "    </tr>\n",
       "    <tr>\n",
       "      <td>4</td>\n",
       "      <td>Morphine</td>\n",
       "      <td>BRCA</td>\n",
       "      <td>4</td>\n",
       "      <td>30</td>\n",
       "    </tr>\n",
       "    <tr>\n",
       "      <td>...</td>\n",
       "      <td>...</td>\n",
       "      <td>...</td>\n",
       "      <td>...</td>\n",
       "      <td>...</td>\n",
       "    </tr>\n",
       "    <tr>\n",
       "      <td>67</td>\n",
       "      <td>Meperidine</td>\n",
       "      <td>GBM</td>\n",
       "      <td>6</td>\n",
       "      <td>15</td>\n",
       "    </tr>\n",
       "    <tr>\n",
       "      <td>68</td>\n",
       "      <td>Meperidine</td>\n",
       "      <td>GBM</td>\n",
       "      <td>5</td>\n",
       "      <td>20</td>\n",
       "    </tr>\n",
       "    <tr>\n",
       "      <td>69</td>\n",
       "      <td>Meperidine</td>\n",
       "      <td>GBM</td>\n",
       "      <td>5</td>\n",
       "      <td>25</td>\n",
       "    </tr>\n",
       "    <tr>\n",
       "      <td>70</td>\n",
       "      <td>Meperidine</td>\n",
       "      <td>GBM</td>\n",
       "      <td>4</td>\n",
       "      <td>30</td>\n",
       "    </tr>\n",
       "    <tr>\n",
       "      <td>71</td>\n",
       "      <td>Meperidine</td>\n",
       "      <td>GBM</td>\n",
       "      <td>4</td>\n",
       "      <td>35</td>\n",
       "    </tr>\n",
       "  </tbody>\n",
       "</table>\n",
       "<p>72 rows × 4 columns</p>\n",
       "</div>"
      ],
      "text/plain": [
       "   Compound_name  Disease   Pain_rating   Concentration\n",
       "0       Morphine     BRCA             5              10\n",
       "1       Morphine     BRCA             5              15\n",
       "2       Morphine     BRCA             4              20\n",
       "3       Morphine     BRCA             4              25\n",
       "4       Morphine     BRCA             4              30\n",
       "..           ...      ...           ...             ...\n",
       "67    Meperidine      GBM             6              15\n",
       "68    Meperidine      GBM             5              20\n",
       "69    Meperidine      GBM             5              25\n",
       "70    Meperidine      GBM             4              30\n",
       "71    Meperidine      GBM             4              35\n",
       "\n",
       "[72 rows x 4 columns]"
      ]
     },
     "metadata": {},
     "output_type": "display_data"
    },
    {
     "data": {
      "text/html": [
       "<div>\n",
       "<style scoped>\n",
       "    .dataframe tbody tr th:only-of-type {\n",
       "        vertical-align: middle;\n",
       "    }\n",
       "\n",
       "    .dataframe tbody tr th {\n",
       "        vertical-align: top;\n",
       "    }\n",
       "\n",
       "    .dataframe thead th {\n",
       "        text-align: right;\n",
       "    }\n",
       "</style>\n",
       "<table border=\"1\" class=\"dataframe\">\n",
       "  <thead>\n",
       "    <tr style=\"text-align: right;\">\n",
       "      <th></th>\n",
       "      <th>Compound_name\\tDisease\\tPain_rating\\tConcentration</th>\n",
       "    </tr>\n",
       "  </thead>\n",
       "  <tbody>\n",
       "    <tr>\n",
       "      <td>0</td>\n",
       "      <td>Morphine\\tBRCA\\t5\\t10</td>\n",
       "    </tr>\n",
       "    <tr>\n",
       "      <td>1</td>\n",
       "      <td>Morphine\\tBRCA\\t5\\t15</td>\n",
       "    </tr>\n",
       "    <tr>\n",
       "      <td>2</td>\n",
       "      <td>Morphine\\tBRCA\\t4\\t20</td>\n",
       "    </tr>\n",
       "    <tr>\n",
       "      <td>3</td>\n",
       "      <td>Morphine\\tBRCA\\t4\\t25</td>\n",
       "    </tr>\n",
       "    <tr>\n",
       "      <td>4</td>\n",
       "      <td>Morphine\\tBRCA\\t4\\t30</td>\n",
       "    </tr>\n",
       "    <tr>\n",
       "      <td>...</td>\n",
       "      <td>...</td>\n",
       "    </tr>\n",
       "    <tr>\n",
       "      <td>67</td>\n",
       "      <td>Meperidine\\tGBM\\t6\\t15</td>\n",
       "    </tr>\n",
       "    <tr>\n",
       "      <td>68</td>\n",
       "      <td>Meperidine\\tGBM\\t5\\t20</td>\n",
       "    </tr>\n",
       "    <tr>\n",
       "      <td>69</td>\n",
       "      <td>Meperidine\\tGBM\\t5\\t25</td>\n",
       "    </tr>\n",
       "    <tr>\n",
       "      <td>70</td>\n",
       "      <td>Meperidine\\tGBM\\t4\\t30</td>\n",
       "    </tr>\n",
       "    <tr>\n",
       "      <td>71</td>\n",
       "      <td>Meperidine\\tGBM\\t4\\t35</td>\n",
       "    </tr>\n",
       "  </tbody>\n",
       "</table>\n",
       "<p>72 rows × 1 columns</p>\n",
       "</div>"
      ],
      "text/plain": [
       "   Compound_name\\tDisease\\tPain_rating\\tConcentration\n",
       "0                               Morphine\\tBRCA\\t5\\t10\n",
       "1                               Morphine\\tBRCA\\t5\\t15\n",
       "2                               Morphine\\tBRCA\\t4\\t20\n",
       "3                               Morphine\\tBRCA\\t4\\t25\n",
       "4                               Morphine\\tBRCA\\t4\\t30\n",
       "..                                                ...\n",
       "67                             Meperidine\\tGBM\\t6\\t15\n",
       "68                             Meperidine\\tGBM\\t5\\t20\n",
       "69                             Meperidine\\tGBM\\t5\\t25\n",
       "70                             Meperidine\\tGBM\\t4\\t30\n",
       "71                             Meperidine\\tGBM\\t4\\t35\n",
       "\n",
       "[72 rows x 1 columns]"
      ]
     },
     "metadata": {},
     "output_type": "display_data"
    }
   ],
   "source": [
    "pd_csv = pd.read_csv('../exercises/datafiles/Cellscreens.csv')\n",
    "pd_tsv = pd.read_csv('../exercises/datafiles/Cellscreens.tsv')\n",
    "display(pd_csv)\n",
    "display(pd_tsv)"
   ]
  },
  {
   "cell_type": "markdown",
   "metadata": {},
   "source": [
    "The columns in the `.tsv` file are separated by tabs (`\\t`) while in `.csv` comma's are used. By default, `pd.read_csv` expects the separator, also called the *delimiter*, to be a comma, but this can be changed with the *delimiter* argument:"
   ]
  },
  {
   "cell_type": "code",
   "execution_count": 4,
   "metadata": {},
   "outputs": [
    {
     "data": {
      "text/html": [
       "<div>\n",
       "<style scoped>\n",
       "    .dataframe tbody tr th:only-of-type {\n",
       "        vertical-align: middle;\n",
       "    }\n",
       "\n",
       "    .dataframe tbody tr th {\n",
       "        vertical-align: top;\n",
       "    }\n",
       "\n",
       "    .dataframe thead th {\n",
       "        text-align: right;\n",
       "    }\n",
       "</style>\n",
       "<table border=\"1\" class=\"dataframe\">\n",
       "  <thead>\n",
       "    <tr style=\"text-align: right;\">\n",
       "      <th></th>\n",
       "      <th>Compound_name</th>\n",
       "      <th>Disease</th>\n",
       "      <th>Pain_rating</th>\n",
       "      <th>Concentration</th>\n",
       "    </tr>\n",
       "  </thead>\n",
       "  <tbody>\n",
       "    <tr>\n",
       "      <td>0</td>\n",
       "      <td>Morphine</td>\n",
       "      <td>BRCA</td>\n",
       "      <td>5</td>\n",
       "      <td>10</td>\n",
       "    </tr>\n",
       "    <tr>\n",
       "      <td>1</td>\n",
       "      <td>Morphine</td>\n",
       "      <td>BRCA</td>\n",
       "      <td>5</td>\n",
       "      <td>15</td>\n",
       "    </tr>\n",
       "    <tr>\n",
       "      <td>2</td>\n",
       "      <td>Morphine</td>\n",
       "      <td>BRCA</td>\n",
       "      <td>4</td>\n",
       "      <td>20</td>\n",
       "    </tr>\n",
       "    <tr>\n",
       "      <td>3</td>\n",
       "      <td>Morphine</td>\n",
       "      <td>BRCA</td>\n",
       "      <td>4</td>\n",
       "      <td>25</td>\n",
       "    </tr>\n",
       "    <tr>\n",
       "      <td>4</td>\n",
       "      <td>Morphine</td>\n",
       "      <td>BRCA</td>\n",
       "      <td>4</td>\n",
       "      <td>30</td>\n",
       "    </tr>\n",
       "    <tr>\n",
       "      <td>...</td>\n",
       "      <td>...</td>\n",
       "      <td>...</td>\n",
       "      <td>...</td>\n",
       "      <td>...</td>\n",
       "    </tr>\n",
       "    <tr>\n",
       "      <td>67</td>\n",
       "      <td>Meperidine</td>\n",
       "      <td>GBM</td>\n",
       "      <td>6</td>\n",
       "      <td>15</td>\n",
       "    </tr>\n",
       "    <tr>\n",
       "      <td>68</td>\n",
       "      <td>Meperidine</td>\n",
       "      <td>GBM</td>\n",
       "      <td>5</td>\n",
       "      <td>20</td>\n",
       "    </tr>\n",
       "    <tr>\n",
       "      <td>69</td>\n",
       "      <td>Meperidine</td>\n",
       "      <td>GBM</td>\n",
       "      <td>5</td>\n",
       "      <td>25</td>\n",
       "    </tr>\n",
       "    <tr>\n",
       "      <td>70</td>\n",
       "      <td>Meperidine</td>\n",
       "      <td>GBM</td>\n",
       "      <td>4</td>\n",
       "      <td>30</td>\n",
       "    </tr>\n",
       "    <tr>\n",
       "      <td>71</td>\n",
       "      <td>Meperidine</td>\n",
       "      <td>GBM</td>\n",
       "      <td>4</td>\n",
       "      <td>35</td>\n",
       "    </tr>\n",
       "  </tbody>\n",
       "</table>\n",
       "<p>72 rows × 4 columns</p>\n",
       "</div>"
      ],
      "text/plain": [
       "   Compound_name  Disease   Pain_rating   Concentration\n",
       "0       Morphine     BRCA             5              10\n",
       "1       Morphine     BRCA             5              15\n",
       "2       Morphine     BRCA             4              20\n",
       "3       Morphine     BRCA             4              25\n",
       "4       Morphine     BRCA             4              30\n",
       "..           ...      ...           ...             ...\n",
       "67    Meperidine      GBM             6              15\n",
       "68    Meperidine      GBM             5              20\n",
       "69    Meperidine      GBM             5              25\n",
       "70    Meperidine      GBM             4              30\n",
       "71    Meperidine      GBM             4              35\n",
       "\n",
       "[72 rows x 4 columns]"
      ]
     },
     "metadata": {},
     "output_type": "display_data"
    },
    {
     "data": {
      "text/html": [
       "<div>\n",
       "<style scoped>\n",
       "    .dataframe tbody tr th:only-of-type {\n",
       "        vertical-align: middle;\n",
       "    }\n",
       "\n",
       "    .dataframe tbody tr th {\n",
       "        vertical-align: top;\n",
       "    }\n",
       "\n",
       "    .dataframe thead th {\n",
       "        text-align: right;\n",
       "    }\n",
       "</style>\n",
       "<table border=\"1\" class=\"dataframe\">\n",
       "  <thead>\n",
       "    <tr style=\"text-align: right;\">\n",
       "      <th></th>\n",
       "      <th>Compound_name</th>\n",
       "      <th>Disease</th>\n",
       "      <th>Pain_rating</th>\n",
       "      <th>Concentration</th>\n",
       "    </tr>\n",
       "  </thead>\n",
       "  <tbody>\n",
       "    <tr>\n",
       "      <td>0</td>\n",
       "      <td>Morphine</td>\n",
       "      <td>BRCA</td>\n",
       "      <td>5</td>\n",
       "      <td>10</td>\n",
       "    </tr>\n",
       "    <tr>\n",
       "      <td>1</td>\n",
       "      <td>Morphine</td>\n",
       "      <td>BRCA</td>\n",
       "      <td>5</td>\n",
       "      <td>15</td>\n",
       "    </tr>\n",
       "    <tr>\n",
       "      <td>2</td>\n",
       "      <td>Morphine</td>\n",
       "      <td>BRCA</td>\n",
       "      <td>4</td>\n",
       "      <td>20</td>\n",
       "    </tr>\n",
       "    <tr>\n",
       "      <td>3</td>\n",
       "      <td>Morphine</td>\n",
       "      <td>BRCA</td>\n",
       "      <td>4</td>\n",
       "      <td>25</td>\n",
       "    </tr>\n",
       "    <tr>\n",
       "      <td>4</td>\n",
       "      <td>Morphine</td>\n",
       "      <td>BRCA</td>\n",
       "      <td>4</td>\n",
       "      <td>30</td>\n",
       "    </tr>\n",
       "    <tr>\n",
       "      <td>...</td>\n",
       "      <td>...</td>\n",
       "      <td>...</td>\n",
       "      <td>...</td>\n",
       "      <td>...</td>\n",
       "    </tr>\n",
       "    <tr>\n",
       "      <td>67</td>\n",
       "      <td>Meperidine</td>\n",
       "      <td>GBM</td>\n",
       "      <td>6</td>\n",
       "      <td>15</td>\n",
       "    </tr>\n",
       "    <tr>\n",
       "      <td>68</td>\n",
       "      <td>Meperidine</td>\n",
       "      <td>GBM</td>\n",
       "      <td>5</td>\n",
       "      <td>20</td>\n",
       "    </tr>\n",
       "    <tr>\n",
       "      <td>69</td>\n",
       "      <td>Meperidine</td>\n",
       "      <td>GBM</td>\n",
       "      <td>5</td>\n",
       "      <td>25</td>\n",
       "    </tr>\n",
       "    <tr>\n",
       "      <td>70</td>\n",
       "      <td>Meperidine</td>\n",
       "      <td>GBM</td>\n",
       "      <td>4</td>\n",
       "      <td>30</td>\n",
       "    </tr>\n",
       "    <tr>\n",
       "      <td>71</td>\n",
       "      <td>Meperidine</td>\n",
       "      <td>GBM</td>\n",
       "      <td>4</td>\n",
       "      <td>35</td>\n",
       "    </tr>\n",
       "  </tbody>\n",
       "</table>\n",
       "<p>72 rows × 4 columns</p>\n",
       "</div>"
      ],
      "text/plain": [
       "   Compound_name Disease  Pain_rating  Concentration\n",
       "0       Morphine    BRCA            5             10\n",
       "1       Morphine    BRCA            5             15\n",
       "2       Morphine    BRCA            4             20\n",
       "3       Morphine    BRCA            4             25\n",
       "4       Morphine    BRCA            4             30\n",
       "..           ...     ...          ...            ...\n",
       "67    Meperidine     GBM            6             15\n",
       "68    Meperidine     GBM            5             20\n",
       "69    Meperidine     GBM            5             25\n",
       "70    Meperidine     GBM            4             30\n",
       "71    Meperidine     GBM            4             35\n",
       "\n",
       "[72 rows x 4 columns]"
      ]
     },
     "metadata": {},
     "output_type": "display_data"
    }
   ],
   "source": [
    "pd_csv = pd.read_csv('../exercises/datafiles/Cellscreens.csv')\n",
    "pd_tsv = pd.read_csv('../exercises/datafiles/Cellscreens.tsv',delimiter='\\t')\n",
    "display(pd_csv)\n",
    "display(pd_tsv)"
   ]
  },
  {
   "cell_type": "markdown",
   "metadata": {},
   "source": [
    "# Writing data \n",
    "\n",
    "A DataFrame can be exported with the function `DataFrame.to_csv()`, where `DataFrame` is replaced with the name of the DataFrame you want to export. \n",
    "\n",
    "Use the documentation to save one of the DataFrames from the previous exercise to a comma separated text names `datafiles/out.txt`. "
   ]
  },
  {
   "cell_type": "code",
   "execution_count": 5,
   "metadata": {},
   "outputs": [],
   "source": [
    "df.to_csv('../exercises/datafiles/out.txt')"
   ]
  },
  {
   "cell_type": "markdown",
   "metadata": {},
   "source": [
    "Have a look at the file, do you notice the clutter? By default, Pandas adds the row numbers, which just messes up the output. Use the documentation to create a similar file without row numbers:"
   ]
  },
  {
   "cell_type": "code",
   "execution_count": 6,
   "metadata": {},
   "outputs": [],
   "source": [
    "df.to_csv('../exercises/datafiles/out_noindex.txt',index=False)"
   ]
  },
  {
   "cell_type": "markdown",
   "metadata": {},
   "source": [
    "Export the same data using *tab* as a delimiter."
   ]
  },
  {
   "cell_type": "markdown",
   "metadata": {},
   "source": [
    "# Data curation\n",
    "\n",
    "Sometimes you will have to manually curate your dataframe for things that did not load in correctly. For this we will first mess up the existing data frame, and then we make it nice again. But, before we do anything, we create a copy so that we do not really mess up the data:"
   ]
  },
  {
   "cell_type": "code",
   "execution_count": 7,
   "metadata": {},
   "outputs": [],
   "source": [
    "ndf = df.copy()"
   ]
  },
  {
   "cell_type": "markdown",
   "metadata": {},
   "source": [
    "Next, we generate some fake data of the same length as our dataframe:"
   ]
  },
  {
   "cell_type": "code",
   "execution_count": 8,
   "metadata": {},
   "outputs": [],
   "source": [
    "fake = np.zeros(len(ndf))\n",
    "fake[10] = np.nan\n",
    "fake[20] = -1\n",
    "fake[30] = np.nan"
   ]
  },
  {
   "cell_type": "markdown",
   "metadata": {},
   "source": [
    "A new column can be added to the data frame as follows: `ndf[name] = value`. Where `value` is either a single value  which is then assigned to each row, or a list or numpy array with the same length as the dataframe. Add a column 'Fake data' to `ndf` and set the values to `fake`:"
   ]
  },
  {
   "cell_type": "code",
   "execution_count": 9,
   "metadata": {},
   "outputs": [],
   "source": [
    "ndf['Fake data'] = fake"
   ]
  },
  {
   "cell_type": "markdown",
   "metadata": {},
   "source": [
    "In the fake data there are some missing value, which are set to `np.nan` (nan = not a number). With `ndf.fillna(replace)` you can change these values; set them to 0:"
   ]
  },
  {
   "cell_type": "code",
   "execution_count": 10,
   "metadata": {},
   "outputs": [
    {
     "data": {
      "text/html": [
       "<div>\n",
       "<style scoped>\n",
       "    .dataframe tbody tr th:only-of-type {\n",
       "        vertical-align: middle;\n",
       "    }\n",
       "\n",
       "    .dataframe tbody tr th {\n",
       "        vertical-align: top;\n",
       "    }\n",
       "\n",
       "    .dataframe thead th {\n",
       "        text-align: right;\n",
       "    }\n",
       "</style>\n",
       "<table border=\"1\" class=\"dataframe\">\n",
       "  <thead>\n",
       "    <tr style=\"text-align: right;\">\n",
       "      <th></th>\n",
       "      <th>Compound_name</th>\n",
       "      <th>Disease</th>\n",
       "      <th>Pain_rating</th>\n",
       "      <th>Concentration</th>\n",
       "      <th>Fake data</th>\n",
       "    </tr>\n",
       "  </thead>\n",
       "  <tbody>\n",
       "    <tr>\n",
       "      <td>0</td>\n",
       "      <td>Morphine</td>\n",
       "      <td>BRCA</td>\n",
       "      <td>5</td>\n",
       "      <td>10</td>\n",
       "      <td>0.0</td>\n",
       "    </tr>\n",
       "    <tr>\n",
       "      <td>1</td>\n",
       "      <td>Morphine</td>\n",
       "      <td>BRCA</td>\n",
       "      <td>5</td>\n",
       "      <td>15</td>\n",
       "      <td>0.0</td>\n",
       "    </tr>\n",
       "    <tr>\n",
       "      <td>2</td>\n",
       "      <td>Morphine</td>\n",
       "      <td>BRCA</td>\n",
       "      <td>4</td>\n",
       "      <td>20</td>\n",
       "      <td>0.0</td>\n",
       "    </tr>\n",
       "    <tr>\n",
       "      <td>3</td>\n",
       "      <td>Morphine</td>\n",
       "      <td>BRCA</td>\n",
       "      <td>4</td>\n",
       "      <td>25</td>\n",
       "      <td>0.0</td>\n",
       "    </tr>\n",
       "    <tr>\n",
       "      <td>4</td>\n",
       "      <td>Morphine</td>\n",
       "      <td>BRCA</td>\n",
       "      <td>4</td>\n",
       "      <td>30</td>\n",
       "      <td>0.0</td>\n",
       "    </tr>\n",
       "    <tr>\n",
       "      <td>...</td>\n",
       "      <td>...</td>\n",
       "      <td>...</td>\n",
       "      <td>...</td>\n",
       "      <td>...</td>\n",
       "      <td>...</td>\n",
       "    </tr>\n",
       "    <tr>\n",
       "      <td>67</td>\n",
       "      <td>Meperidine</td>\n",
       "      <td>GBM</td>\n",
       "      <td>6</td>\n",
       "      <td>15</td>\n",
       "      <td>0.0</td>\n",
       "    </tr>\n",
       "    <tr>\n",
       "      <td>68</td>\n",
       "      <td>Meperidine</td>\n",
       "      <td>GBM</td>\n",
       "      <td>5</td>\n",
       "      <td>20</td>\n",
       "      <td>0.0</td>\n",
       "    </tr>\n",
       "    <tr>\n",
       "      <td>69</td>\n",
       "      <td>Meperidine</td>\n",
       "      <td>GBM</td>\n",
       "      <td>5</td>\n",
       "      <td>25</td>\n",
       "      <td>0.0</td>\n",
       "    </tr>\n",
       "    <tr>\n",
       "      <td>70</td>\n",
       "      <td>Meperidine</td>\n",
       "      <td>GBM</td>\n",
       "      <td>4</td>\n",
       "      <td>30</td>\n",
       "      <td>0.0</td>\n",
       "    </tr>\n",
       "    <tr>\n",
       "      <td>71</td>\n",
       "      <td>Meperidine</td>\n",
       "      <td>GBM</td>\n",
       "      <td>4</td>\n",
       "      <td>35</td>\n",
       "      <td>0.0</td>\n",
       "    </tr>\n",
       "  </tbody>\n",
       "</table>\n",
       "<p>72 rows × 5 columns</p>\n",
       "</div>"
      ],
      "text/plain": [
       "   Compound_name  Disease   Pain_rating   Concentration  Fake data\n",
       "0       Morphine     BRCA             5              10        0.0\n",
       "1       Morphine     BRCA             5              15        0.0\n",
       "2       Morphine     BRCA             4              20        0.0\n",
       "3       Morphine     BRCA             4              25        0.0\n",
       "4       Morphine     BRCA             4              30        0.0\n",
       "..           ...      ...           ...             ...        ...\n",
       "67    Meperidine      GBM             6              15        0.0\n",
       "68    Meperidine      GBM             5              20        0.0\n",
       "69    Meperidine      GBM             5              25        0.0\n",
       "70    Meperidine      GBM             4              30        0.0\n",
       "71    Meperidine      GBM             4              35        0.0\n",
       "\n",
       "[72 rows x 5 columns]"
      ]
     },
     "execution_count": 10,
     "metadata": {},
     "output_type": "execute_result"
    }
   ],
   "source": [
    "ndf.fillna(0)"
   ]
  },
  {
   "cell_type": "markdown",
   "metadata": {},
   "source": [
    "Running `fillna` directly on `ndf` returns a new dataframe where all the *not a number* entries are replace, but it does not assign that new dataframe to ndf, therefore we must assign it (`ndf = ...`); do this:"
   ]
  },
  {
   "cell_type": "code",
   "execution_count": 11,
   "metadata": {},
   "outputs": [],
   "source": [
    "ndf = ndf.fillna(0)"
   ]
  },
  {
   "cell_type": "markdown",
   "metadata": {},
   "source": [
    "Fake data is not a very smart name. We can rename a column name with `ndf.rename(columns={old_name : new_name})`. Use this to make *fake data*, *real data*. Print the columns (`ndf.columns`) of `ndf` to check whether it worked (note that `rename` works similar to `fillna`)"
   ]
  },
  {
   "cell_type": "code",
   "execution_count": 12,
   "metadata": {},
   "outputs": [
    {
     "name": "stdout",
     "output_type": "stream",
     "text": [
      "Index(['Compound_name', ' Disease', ' Pain_rating', ' Concentration',\n",
      "       'Real data'],\n",
      "      dtype='object')\n"
     ]
    }
   ],
   "source": [
    "ndf = ndf.rename(columns={'Fake data':'Real data'})\n",
    "print(ndf.columns)"
   ]
  },
  {
   "cell_type": "markdown",
   "metadata": {},
   "source": [
    "Finally, let's just remove this column, which can be done with the `ndf.drop([list of column names],axis=1)`. Use this to remove the *real data* and use `ndf.columns` to test if it worked as expected."
   ]
  },
  {
   "cell_type": "code",
   "execution_count": 13,
   "metadata": {},
   "outputs": [
    {
     "name": "stdout",
     "output_type": "stream",
     "text": [
      "Index(['Compound_name', ' Disease', ' Pain_rating', ' Concentration',\n",
      "       'Real data'],\n",
      "      dtype='object')\n"
     ]
    }
   ],
   "source": [
    "ndf.drop(['Real data'],axis=1)\n",
    "print(ndf.columns)"
   ]
  },
  {
   "cell_type": "markdown",
   "metadata": {},
   "source": [
    "# Data selection"
   ]
  },
  {
   "cell_type": "code",
   "execution_count": 14,
   "metadata": {},
   "outputs": [],
   "source": [
    "df = pd.read_csv('../exercises/datafiles/Cellscreens.tsv',delimiter='\\t')"
   ]
  },
  {
   "cell_type": "markdown",
   "metadata": {},
   "source": [
    "You can display a DataFrame with the `display` function. "
   ]
  },
  {
   "cell_type": "code",
   "execution_count": 15,
   "metadata": {},
   "outputs": [
    {
     "data": {
      "text/html": [
       "<div>\n",
       "<style scoped>\n",
       "    .dataframe tbody tr th:only-of-type {\n",
       "        vertical-align: middle;\n",
       "    }\n",
       "\n",
       "    .dataframe tbody tr th {\n",
       "        vertical-align: top;\n",
       "    }\n",
       "\n",
       "    .dataframe thead th {\n",
       "        text-align: right;\n",
       "    }\n",
       "</style>\n",
       "<table border=\"1\" class=\"dataframe\">\n",
       "  <thead>\n",
       "    <tr style=\"text-align: right;\">\n",
       "      <th></th>\n",
       "      <th>Compound_name</th>\n",
       "      <th>Disease</th>\n",
       "      <th>Pain_rating</th>\n",
       "      <th>Concentration</th>\n",
       "    </tr>\n",
       "  </thead>\n",
       "  <tbody>\n",
       "    <tr>\n",
       "      <td>0</td>\n",
       "      <td>Morphine</td>\n",
       "      <td>BRCA</td>\n",
       "      <td>5</td>\n",
       "      <td>10</td>\n",
       "    </tr>\n",
       "    <tr>\n",
       "      <td>1</td>\n",
       "      <td>Morphine</td>\n",
       "      <td>BRCA</td>\n",
       "      <td>5</td>\n",
       "      <td>15</td>\n",
       "    </tr>\n",
       "    <tr>\n",
       "      <td>2</td>\n",
       "      <td>Morphine</td>\n",
       "      <td>BRCA</td>\n",
       "      <td>4</td>\n",
       "      <td>20</td>\n",
       "    </tr>\n",
       "    <tr>\n",
       "      <td>3</td>\n",
       "      <td>Morphine</td>\n",
       "      <td>BRCA</td>\n",
       "      <td>4</td>\n",
       "      <td>25</td>\n",
       "    </tr>\n",
       "    <tr>\n",
       "      <td>4</td>\n",
       "      <td>Morphine</td>\n",
       "      <td>BRCA</td>\n",
       "      <td>4</td>\n",
       "      <td>30</td>\n",
       "    </tr>\n",
       "    <tr>\n",
       "      <td>...</td>\n",
       "      <td>...</td>\n",
       "      <td>...</td>\n",
       "      <td>...</td>\n",
       "      <td>...</td>\n",
       "    </tr>\n",
       "    <tr>\n",
       "      <td>67</td>\n",
       "      <td>Meperidine</td>\n",
       "      <td>GBM</td>\n",
       "      <td>6</td>\n",
       "      <td>15</td>\n",
       "    </tr>\n",
       "    <tr>\n",
       "      <td>68</td>\n",
       "      <td>Meperidine</td>\n",
       "      <td>GBM</td>\n",
       "      <td>5</td>\n",
       "      <td>20</td>\n",
       "    </tr>\n",
       "    <tr>\n",
       "      <td>69</td>\n",
       "      <td>Meperidine</td>\n",
       "      <td>GBM</td>\n",
       "      <td>5</td>\n",
       "      <td>25</td>\n",
       "    </tr>\n",
       "    <tr>\n",
       "      <td>70</td>\n",
       "      <td>Meperidine</td>\n",
       "      <td>GBM</td>\n",
       "      <td>4</td>\n",
       "      <td>30</td>\n",
       "    </tr>\n",
       "    <tr>\n",
       "      <td>71</td>\n",
       "      <td>Meperidine</td>\n",
       "      <td>GBM</td>\n",
       "      <td>4</td>\n",
       "      <td>35</td>\n",
       "    </tr>\n",
       "  </tbody>\n",
       "</table>\n",
       "<p>72 rows × 4 columns</p>\n",
       "</div>"
      ],
      "text/plain": [
       "   Compound_name Disease  Pain_rating  Concentration\n",
       "0       Morphine    BRCA            5             10\n",
       "1       Morphine    BRCA            5             15\n",
       "2       Morphine    BRCA            4             20\n",
       "3       Morphine    BRCA            4             25\n",
       "4       Morphine    BRCA            4             30\n",
       "..           ...     ...          ...            ...\n",
       "67    Meperidine     GBM            6             15\n",
       "68    Meperidine     GBM            5             20\n",
       "69    Meperidine     GBM            5             25\n",
       "70    Meperidine     GBM            4             30\n",
       "71    Meperidine     GBM            4             35\n",
       "\n",
       "[72 rows x 4 columns]"
      ]
     },
     "metadata": {},
     "output_type": "display_data"
    }
   ],
   "source": [
    "display(df)"
   ]
  },
  {
   "cell_type": "markdown",
   "metadata": {},
   "source": [
    "## Columns"
   ]
  },
  {
   "cell_type": "markdown",
   "metadata": {},
   "source": [
    "However, you may not want to see, and use, all data. There are several ways to select data. First of all, you can select columns. For this, it can be practical to have a list of all columns:"
   ]
  },
  {
   "cell_type": "code",
   "execution_count": 16,
   "metadata": {},
   "outputs": [
    {
     "data": {
      "text/plain": [
       "Index(['Compound_name', 'Disease', 'Pain_rating', 'Concentration'], dtype='object')"
      ]
     },
     "execution_count": 16,
     "metadata": {},
     "output_type": "execute_result"
    }
   ],
   "source": [
    "df.columns"
   ]
  },
  {
   "cell_type": "markdown",
   "metadata": {},
   "source": [
    "You can access a column with:"
   ]
  },
  {
   "cell_type": "code",
   "execution_count": 17,
   "metadata": {},
   "outputs": [
    {
     "data": {
      "text/plain": [
       "0       Morphine\n",
       "1       Morphine\n",
       "2       Morphine\n",
       "3       Morphine\n",
       "4       Morphine\n",
       "         ...    \n",
       "67    Meperidine\n",
       "68    Meperidine\n",
       "69    Meperidine\n",
       "70    Meperidine\n",
       "71    Meperidine\n",
       "Name: Compound_name, Length: 72, dtype: object"
      ]
     },
     "execution_count": 17,
     "metadata": {},
     "output_type": "execute_result"
    }
   ],
   "source": [
    "df['Compound_name']"
   ]
  },
  {
   "cell_type": "markdown",
   "metadata": {},
   "source": [
    "Print the contents of the 2nd column ('Disease') without explicitly using the column name:"
   ]
  },
  {
   "cell_type": "code",
   "execution_count": 18,
   "metadata": {},
   "outputs": [
    {
     "data": {
      "text/plain": [
       "0     BRCA\n",
       "1     BRCA\n",
       "2     BRCA\n",
       "3     BRCA\n",
       "4     BRCA\n",
       "      ... \n",
       "67     GBM\n",
       "68     GBM\n",
       "69     GBM\n",
       "70     GBM\n",
       "71     GBM\n",
       "Name: Disease, Length: 72, dtype: object"
      ]
     },
     "execution_count": 18,
     "metadata": {},
     "output_type": "execute_result"
    }
   ],
   "source": [
    "df[df.columns[1]]"
   ]
  },
  {
   "cell_type": "markdown",
   "metadata": {},
   "source": [
    "In the example above we only see two values: BRCA and GBM. Using `df[column].unique()`, we can print all unique values in a column. Use this function to see all unique values in the Disease column."
   ]
  },
  {
   "cell_type": "code",
   "execution_count": 19,
   "metadata": {},
   "outputs": [
    {
     "data": {
      "text/plain": [
       "array(['BRCA', 'GBM'], dtype=object)"
      ]
     },
     "execution_count": 19,
     "metadata": {},
     "output_type": "execute_result"
    }
   ],
   "source": [
    "df[df.columns[1]].unique()"
   ]
  },
  {
   "cell_type": "markdown",
   "metadata": {},
   "source": [
    "Find out how many unique values each column has. Remember that you can get the length of a list with `len(list)`"
   ]
  },
  {
   "cell_type": "code",
   "execution_count": 20,
   "metadata": {},
   "outputs": [
    {
     "name": "stdout",
     "output_type": "stream",
     "text": [
      "6\n",
      "2\n",
      "10\n",
      "6\n"
     ]
    }
   ],
   "source": [
    "print(len(df[df.columns[0]].unique()))\n",
    "print(len(df[df.columns[1]].unique()))\n",
    "print(len(df[df.columns[2]].unique()))\n",
    "print(len(df[df.columns[3]].unique()))"
   ]
  },
  {
   "cell_type": "code",
   "execution_count": 21,
   "metadata": {},
   "outputs": [
    {
     "name": "stdout",
     "output_type": "stream",
     "text": [
      "Compound_name 6\n",
      "Disease 2\n",
      "Pain_rating 10\n",
      "Concentration 6\n"
     ]
    }
   ],
   "source": [
    "for i in range(len(df.columns)):\n",
    "    print(df.columns[i],len(df[df.columns[i]].unique()))"
   ]
  },
  {
   "cell_type": "code",
   "execution_count": 22,
   "metadata": {},
   "outputs": [
    {
     "name": "stdout",
     "output_type": "stream",
     "text": [
      "Compound_name 6\n",
      "Disease 2\n",
      "Pain_rating 10\n",
      "Concentration 6\n"
     ]
    }
   ],
   "source": [
    "for c in df.columns:\n",
    "    print(c,len(df[c].unique()))"
   ]
  },
  {
   "cell_type": "markdown",
   "metadata": {},
   "source": [
    "## Select rows based on values"
   ]
  },
  {
   "cell_type": "markdown",
   "metadata": {},
   "source": [
    "You can select rows based on the values of certain columns:"
   ]
  },
  {
   "cell_type": "code",
   "execution_count": 23,
   "metadata": {},
   "outputs": [
    {
     "data": {
      "text/html": [
       "<div>\n",
       "<style scoped>\n",
       "    .dataframe tbody tr th:only-of-type {\n",
       "        vertical-align: middle;\n",
       "    }\n",
       "\n",
       "    .dataframe tbody tr th {\n",
       "        vertical-align: top;\n",
       "    }\n",
       "\n",
       "    .dataframe thead th {\n",
       "        text-align: right;\n",
       "    }\n",
       "</style>\n",
       "<table border=\"1\" class=\"dataframe\">\n",
       "  <thead>\n",
       "    <tr style=\"text-align: right;\">\n",
       "      <th></th>\n",
       "      <th>Compound_name</th>\n",
       "      <th>Disease</th>\n",
       "      <th>Pain_rating</th>\n",
       "      <th>Concentration</th>\n",
       "    </tr>\n",
       "  </thead>\n",
       "  <tbody>\n",
       "    <tr>\n",
       "      <td>0</td>\n",
       "      <td>Morphine</td>\n",
       "      <td>BRCA</td>\n",
       "      <td>5</td>\n",
       "      <td>10</td>\n",
       "    </tr>\n",
       "    <tr>\n",
       "      <td>1</td>\n",
       "      <td>Morphine</td>\n",
       "      <td>BRCA</td>\n",
       "      <td>5</td>\n",
       "      <td>15</td>\n",
       "    </tr>\n",
       "    <tr>\n",
       "      <td>2</td>\n",
       "      <td>Morphine</td>\n",
       "      <td>BRCA</td>\n",
       "      <td>4</td>\n",
       "      <td>20</td>\n",
       "    </tr>\n",
       "    <tr>\n",
       "      <td>3</td>\n",
       "      <td>Morphine</td>\n",
       "      <td>BRCA</td>\n",
       "      <td>4</td>\n",
       "      <td>25</td>\n",
       "    </tr>\n",
       "    <tr>\n",
       "      <td>4</td>\n",
       "      <td>Morphine</td>\n",
       "      <td>BRCA</td>\n",
       "      <td>4</td>\n",
       "      <td>30</td>\n",
       "    </tr>\n",
       "    <tr>\n",
       "      <td>...</td>\n",
       "      <td>...</td>\n",
       "      <td>...</td>\n",
       "      <td>...</td>\n",
       "      <td>...</td>\n",
       "    </tr>\n",
       "    <tr>\n",
       "      <td>31</td>\n",
       "      <td>Meperidine</td>\n",
       "      <td>BRCA</td>\n",
       "      <td>9</td>\n",
       "      <td>15</td>\n",
       "    </tr>\n",
       "    <tr>\n",
       "      <td>32</td>\n",
       "      <td>Meperidine</td>\n",
       "      <td>BRCA</td>\n",
       "      <td>8</td>\n",
       "      <td>20</td>\n",
       "    </tr>\n",
       "    <tr>\n",
       "      <td>33</td>\n",
       "      <td>Meperidine</td>\n",
       "      <td>BRCA</td>\n",
       "      <td>7</td>\n",
       "      <td>25</td>\n",
       "    </tr>\n",
       "    <tr>\n",
       "      <td>34</td>\n",
       "      <td>Meperidine</td>\n",
       "      <td>BRCA</td>\n",
       "      <td>6</td>\n",
       "      <td>30</td>\n",
       "    </tr>\n",
       "    <tr>\n",
       "      <td>35</td>\n",
       "      <td>Meperidine</td>\n",
       "      <td>BRCA</td>\n",
       "      <td>5</td>\n",
       "      <td>35</td>\n",
       "    </tr>\n",
       "  </tbody>\n",
       "</table>\n",
       "<p>36 rows × 4 columns</p>\n",
       "</div>"
      ],
      "text/plain": [
       "   Compound_name Disease  Pain_rating  Concentration\n",
       "0       Morphine    BRCA            5             10\n",
       "1       Morphine    BRCA            5             15\n",
       "2       Morphine    BRCA            4             20\n",
       "3       Morphine    BRCA            4             25\n",
       "4       Morphine    BRCA            4             30\n",
       "..           ...     ...          ...            ...\n",
       "31    Meperidine    BRCA            9             15\n",
       "32    Meperidine    BRCA            8             20\n",
       "33    Meperidine    BRCA            7             25\n",
       "34    Meperidine    BRCA            6             30\n",
       "35    Meperidine    BRCA            5             35\n",
       "\n",
       "[36 rows x 4 columns]"
      ]
     },
     "execution_count": 23,
     "metadata": {},
     "output_type": "execute_result"
    }
   ],
   "source": [
    "df[df['Disease']=='BRCA']"
   ]
  },
  {
   "cell_type": "markdown",
   "metadata": {},
   "source": [
    "You can combine multiple conditions, e.g.:\n",
    "* and: `df[(df['x']=='y')&(df['y']=='x')]`\n",
    "* or: `df[(df['x']=='y')|(df['y']=='x')]`\n",
    "\n",
    "Select the rows for the following conditions:\n",
    "* Patients who received Tramadol\n",
    "* Patients with BRCA who received Tramadol\n",
    "* Patients with GBM who recieved Codein or Fentanyl\n",
    "* Patients with a pain rating larger than 6\n",
    "* Patients with a pain rating larger than 6 that received the maximum painkiller dose"
   ]
  },
  {
   "cell_type": "code",
   "execution_count": 24,
   "metadata": {},
   "outputs": [
    {
     "data": {
      "text/html": [
       "<div>\n",
       "<style scoped>\n",
       "    .dataframe tbody tr th:only-of-type {\n",
       "        vertical-align: middle;\n",
       "    }\n",
       "\n",
       "    .dataframe tbody tr th {\n",
       "        vertical-align: top;\n",
       "    }\n",
       "\n",
       "    .dataframe thead th {\n",
       "        text-align: right;\n",
       "    }\n",
       "</style>\n",
       "<table border=\"1\" class=\"dataframe\">\n",
       "  <thead>\n",
       "    <tr style=\"text-align: right;\">\n",
       "      <th></th>\n",
       "      <th>Compound_name</th>\n",
       "      <th>Disease</th>\n",
       "      <th>Pain_rating</th>\n",
       "      <th>Concentration</th>\n",
       "    </tr>\n",
       "  </thead>\n",
       "  <tbody>\n",
       "    <tr>\n",
       "      <td>18</td>\n",
       "      <td>Tramadol</td>\n",
       "      <td>BRCA</td>\n",
       "      <td>8</td>\n",
       "      <td>10</td>\n",
       "    </tr>\n",
       "    <tr>\n",
       "      <td>19</td>\n",
       "      <td>Tramadol</td>\n",
       "      <td>BRCA</td>\n",
       "      <td>8</td>\n",
       "      <td>15</td>\n",
       "    </tr>\n",
       "    <tr>\n",
       "      <td>20</td>\n",
       "      <td>Tramadol</td>\n",
       "      <td>BRCA</td>\n",
       "      <td>8</td>\n",
       "      <td>20</td>\n",
       "    </tr>\n",
       "    <tr>\n",
       "      <td>21</td>\n",
       "      <td>Tramadol</td>\n",
       "      <td>BRCA</td>\n",
       "      <td>8</td>\n",
       "      <td>25</td>\n",
       "    </tr>\n",
       "    <tr>\n",
       "      <td>22</td>\n",
       "      <td>Tramadol</td>\n",
       "      <td>BRCA</td>\n",
       "      <td>8</td>\n",
       "      <td>30</td>\n",
       "    </tr>\n",
       "    <tr>\n",
       "      <td>23</td>\n",
       "      <td>Tramadol</td>\n",
       "      <td>BRCA</td>\n",
       "      <td>8</td>\n",
       "      <td>35</td>\n",
       "    </tr>\n",
       "    <tr>\n",
       "      <td>54</td>\n",
       "      <td>Tramadol</td>\n",
       "      <td>GBM</td>\n",
       "      <td>7</td>\n",
       "      <td>10</td>\n",
       "    </tr>\n",
       "    <tr>\n",
       "      <td>55</td>\n",
       "      <td>Tramadol</td>\n",
       "      <td>GBM</td>\n",
       "      <td>7</td>\n",
       "      <td>15</td>\n",
       "    </tr>\n",
       "    <tr>\n",
       "      <td>56</td>\n",
       "      <td>Tramadol</td>\n",
       "      <td>GBM</td>\n",
       "      <td>7</td>\n",
       "      <td>20</td>\n",
       "    </tr>\n",
       "    <tr>\n",
       "      <td>57</td>\n",
       "      <td>Tramadol</td>\n",
       "      <td>GBM</td>\n",
       "      <td>7</td>\n",
       "      <td>25</td>\n",
       "    </tr>\n",
       "    <tr>\n",
       "      <td>58</td>\n",
       "      <td>Tramadol</td>\n",
       "      <td>GBM</td>\n",
       "      <td>7</td>\n",
       "      <td>30</td>\n",
       "    </tr>\n",
       "    <tr>\n",
       "      <td>59</td>\n",
       "      <td>Tramadol</td>\n",
       "      <td>GBM</td>\n",
       "      <td>7</td>\n",
       "      <td>35</td>\n",
       "    </tr>\n",
       "  </tbody>\n",
       "</table>\n",
       "</div>"
      ],
      "text/plain": [
       "   Compound_name Disease  Pain_rating  Concentration\n",
       "18      Tramadol    BRCA            8             10\n",
       "19      Tramadol    BRCA            8             15\n",
       "20      Tramadol    BRCA            8             20\n",
       "21      Tramadol    BRCA            8             25\n",
       "22      Tramadol    BRCA            8             30\n",
       "23      Tramadol    BRCA            8             35\n",
       "54      Tramadol     GBM            7             10\n",
       "55      Tramadol     GBM            7             15\n",
       "56      Tramadol     GBM            7             20\n",
       "57      Tramadol     GBM            7             25\n",
       "58      Tramadol     GBM            7             30\n",
       "59      Tramadol     GBM            7             35"
      ]
     },
     "metadata": {},
     "output_type": "display_data"
    },
    {
     "data": {
      "text/html": [
       "<div>\n",
       "<style scoped>\n",
       "    .dataframe tbody tr th:only-of-type {\n",
       "        vertical-align: middle;\n",
       "    }\n",
       "\n",
       "    .dataframe tbody tr th {\n",
       "        vertical-align: top;\n",
       "    }\n",
       "\n",
       "    .dataframe thead th {\n",
       "        text-align: right;\n",
       "    }\n",
       "</style>\n",
       "<table border=\"1\" class=\"dataframe\">\n",
       "  <thead>\n",
       "    <tr style=\"text-align: right;\">\n",
       "      <th></th>\n",
       "      <th>Compound_name</th>\n",
       "      <th>Disease</th>\n",
       "      <th>Pain_rating</th>\n",
       "      <th>Concentration</th>\n",
       "    </tr>\n",
       "  </thead>\n",
       "  <tbody>\n",
       "    <tr>\n",
       "      <td>18</td>\n",
       "      <td>Tramadol</td>\n",
       "      <td>BRCA</td>\n",
       "      <td>8</td>\n",
       "      <td>10</td>\n",
       "    </tr>\n",
       "    <tr>\n",
       "      <td>19</td>\n",
       "      <td>Tramadol</td>\n",
       "      <td>BRCA</td>\n",
       "      <td>8</td>\n",
       "      <td>15</td>\n",
       "    </tr>\n",
       "    <tr>\n",
       "      <td>20</td>\n",
       "      <td>Tramadol</td>\n",
       "      <td>BRCA</td>\n",
       "      <td>8</td>\n",
       "      <td>20</td>\n",
       "    </tr>\n",
       "    <tr>\n",
       "      <td>21</td>\n",
       "      <td>Tramadol</td>\n",
       "      <td>BRCA</td>\n",
       "      <td>8</td>\n",
       "      <td>25</td>\n",
       "    </tr>\n",
       "    <tr>\n",
       "      <td>22</td>\n",
       "      <td>Tramadol</td>\n",
       "      <td>BRCA</td>\n",
       "      <td>8</td>\n",
       "      <td>30</td>\n",
       "    </tr>\n",
       "    <tr>\n",
       "      <td>23</td>\n",
       "      <td>Tramadol</td>\n",
       "      <td>BRCA</td>\n",
       "      <td>8</td>\n",
       "      <td>35</td>\n",
       "    </tr>\n",
       "  </tbody>\n",
       "</table>\n",
       "</div>"
      ],
      "text/plain": [
       "   Compound_name Disease  Pain_rating  Concentration\n",
       "18      Tramadol    BRCA            8             10\n",
       "19      Tramadol    BRCA            8             15\n",
       "20      Tramadol    BRCA            8             20\n",
       "21      Tramadol    BRCA            8             25\n",
       "22      Tramadol    BRCA            8             30\n",
       "23      Tramadol    BRCA            8             35"
      ]
     },
     "metadata": {},
     "output_type": "display_data"
    },
    {
     "data": {
      "text/html": [
       "<div>\n",
       "<style scoped>\n",
       "    .dataframe tbody tr th:only-of-type {\n",
       "        vertical-align: middle;\n",
       "    }\n",
       "\n",
       "    .dataframe tbody tr th {\n",
       "        vertical-align: top;\n",
       "    }\n",
       "\n",
       "    .dataframe thead th {\n",
       "        text-align: right;\n",
       "    }\n",
       "</style>\n",
       "<table border=\"1\" class=\"dataframe\">\n",
       "  <thead>\n",
       "    <tr style=\"text-align: right;\">\n",
       "      <th></th>\n",
       "      <th>Compound_name</th>\n",
       "      <th>Disease</th>\n",
       "      <th>Pain_rating</th>\n",
       "      <th>Concentration</th>\n",
       "    </tr>\n",
       "  </thead>\n",
       "  <tbody>\n",
       "    <tr>\n",
       "      <td>48</td>\n",
       "      <td>Fentanyl</td>\n",
       "      <td>GBM</td>\n",
       "      <td>1</td>\n",
       "      <td>10</td>\n",
       "    </tr>\n",
       "    <tr>\n",
       "      <td>49</td>\n",
       "      <td>Fentanyl</td>\n",
       "      <td>GBM</td>\n",
       "      <td>1</td>\n",
       "      <td>15</td>\n",
       "    </tr>\n",
       "    <tr>\n",
       "      <td>50</td>\n",
       "      <td>Fentanyl</td>\n",
       "      <td>GBM</td>\n",
       "      <td>1</td>\n",
       "      <td>20</td>\n",
       "    </tr>\n",
       "    <tr>\n",
       "      <td>51</td>\n",
       "      <td>Fentanyl</td>\n",
       "      <td>GBM</td>\n",
       "      <td>1</td>\n",
       "      <td>25</td>\n",
       "    </tr>\n",
       "    <tr>\n",
       "      <td>52</td>\n",
       "      <td>Fentanyl</td>\n",
       "      <td>GBM</td>\n",
       "      <td>1</td>\n",
       "      <td>30</td>\n",
       "    </tr>\n",
       "    <tr>\n",
       "      <td>53</td>\n",
       "      <td>Fentanyl</td>\n",
       "      <td>GBM</td>\n",
       "      <td>1</td>\n",
       "      <td>35</td>\n",
       "    </tr>\n",
       "    <tr>\n",
       "      <td>54</td>\n",
       "      <td>Tramadol</td>\n",
       "      <td>GBM</td>\n",
       "      <td>7</td>\n",
       "      <td>10</td>\n",
       "    </tr>\n",
       "    <tr>\n",
       "      <td>55</td>\n",
       "      <td>Tramadol</td>\n",
       "      <td>GBM</td>\n",
       "      <td>7</td>\n",
       "      <td>15</td>\n",
       "    </tr>\n",
       "    <tr>\n",
       "      <td>56</td>\n",
       "      <td>Tramadol</td>\n",
       "      <td>GBM</td>\n",
       "      <td>7</td>\n",
       "      <td>20</td>\n",
       "    </tr>\n",
       "    <tr>\n",
       "      <td>57</td>\n",
       "      <td>Tramadol</td>\n",
       "      <td>GBM</td>\n",
       "      <td>7</td>\n",
       "      <td>25</td>\n",
       "    </tr>\n",
       "    <tr>\n",
       "      <td>58</td>\n",
       "      <td>Tramadol</td>\n",
       "      <td>GBM</td>\n",
       "      <td>7</td>\n",
       "      <td>30</td>\n",
       "    </tr>\n",
       "    <tr>\n",
       "      <td>59</td>\n",
       "      <td>Tramadol</td>\n",
       "      <td>GBM</td>\n",
       "      <td>7</td>\n",
       "      <td>35</td>\n",
       "    </tr>\n",
       "  </tbody>\n",
       "</table>\n",
       "</div>"
      ],
      "text/plain": [
       "   Compound_name Disease  Pain_rating  Concentration\n",
       "48      Fentanyl     GBM            1             10\n",
       "49      Fentanyl     GBM            1             15\n",
       "50      Fentanyl     GBM            1             20\n",
       "51      Fentanyl     GBM            1             25\n",
       "52      Fentanyl     GBM            1             30\n",
       "53      Fentanyl     GBM            1             35\n",
       "54      Tramadol     GBM            7             10\n",
       "55      Tramadol     GBM            7             15\n",
       "56      Tramadol     GBM            7             20\n",
       "57      Tramadol     GBM            7             25\n",
       "58      Tramadol     GBM            7             30\n",
       "59      Tramadol     GBM            7             35"
      ]
     },
     "metadata": {},
     "output_type": "display_data"
    },
    {
     "data": {
      "text/html": [
       "<div>\n",
       "<style scoped>\n",
       "    .dataframe tbody tr th:only-of-type {\n",
       "        vertical-align: middle;\n",
       "    }\n",
       "\n",
       "    .dataframe tbody tr th {\n",
       "        vertical-align: top;\n",
       "    }\n",
       "\n",
       "    .dataframe thead th {\n",
       "        text-align: right;\n",
       "    }\n",
       "</style>\n",
       "<table border=\"1\" class=\"dataframe\">\n",
       "  <thead>\n",
       "    <tr style=\"text-align: right;\">\n",
       "      <th></th>\n",
       "      <th>Compound_name</th>\n",
       "      <th>Disease</th>\n",
       "      <th>Pain_rating</th>\n",
       "      <th>Concentration</th>\n",
       "    </tr>\n",
       "  </thead>\n",
       "  <tbody>\n",
       "    <tr>\n",
       "      <td>18</td>\n",
       "      <td>Tramadol</td>\n",
       "      <td>BRCA</td>\n",
       "      <td>8</td>\n",
       "      <td>10</td>\n",
       "    </tr>\n",
       "    <tr>\n",
       "      <td>19</td>\n",
       "      <td>Tramadol</td>\n",
       "      <td>BRCA</td>\n",
       "      <td>8</td>\n",
       "      <td>15</td>\n",
       "    </tr>\n",
       "    <tr>\n",
       "      <td>20</td>\n",
       "      <td>Tramadol</td>\n",
       "      <td>BRCA</td>\n",
       "      <td>8</td>\n",
       "      <td>20</td>\n",
       "    </tr>\n",
       "    <tr>\n",
       "      <td>21</td>\n",
       "      <td>Tramadol</td>\n",
       "      <td>BRCA</td>\n",
       "      <td>8</td>\n",
       "      <td>25</td>\n",
       "    </tr>\n",
       "    <tr>\n",
       "      <td>22</td>\n",
       "      <td>Tramadol</td>\n",
       "      <td>BRCA</td>\n",
       "      <td>8</td>\n",
       "      <td>30</td>\n",
       "    </tr>\n",
       "    <tr>\n",
       "      <td>...</td>\n",
       "      <td>...</td>\n",
       "      <td>...</td>\n",
       "      <td>...</td>\n",
       "      <td>...</td>\n",
       "    </tr>\n",
       "    <tr>\n",
       "      <td>61</td>\n",
       "      <td>Oxycodone</td>\n",
       "      <td>GBM</td>\n",
       "      <td>9</td>\n",
       "      <td>15</td>\n",
       "    </tr>\n",
       "    <tr>\n",
       "      <td>62</td>\n",
       "      <td>Oxycodone</td>\n",
       "      <td>GBM</td>\n",
       "      <td>9</td>\n",
       "      <td>20</td>\n",
       "    </tr>\n",
       "    <tr>\n",
       "      <td>63</td>\n",
       "      <td>Oxycodone</td>\n",
       "      <td>GBM</td>\n",
       "      <td>8</td>\n",
       "      <td>25</td>\n",
       "    </tr>\n",
       "    <tr>\n",
       "      <td>64</td>\n",
       "      <td>Oxycodone</td>\n",
       "      <td>GBM</td>\n",
       "      <td>8</td>\n",
       "      <td>30</td>\n",
       "    </tr>\n",
       "    <tr>\n",
       "      <td>65</td>\n",
       "      <td>Oxycodone</td>\n",
       "      <td>GBM</td>\n",
       "      <td>7</td>\n",
       "      <td>35</td>\n",
       "    </tr>\n",
       "  </tbody>\n",
       "</table>\n",
       "<p>26 rows × 4 columns</p>\n",
       "</div>"
      ],
      "text/plain": [
       "   Compound_name Disease  Pain_rating  Concentration\n",
       "18      Tramadol    BRCA            8             10\n",
       "19      Tramadol    BRCA            8             15\n",
       "20      Tramadol    BRCA            8             20\n",
       "21      Tramadol    BRCA            8             25\n",
       "22      Tramadol    BRCA            8             30\n",
       "..           ...     ...          ...            ...\n",
       "61     Oxycodone     GBM            9             15\n",
       "62     Oxycodone     GBM            9             20\n",
       "63     Oxycodone     GBM            8             25\n",
       "64     Oxycodone     GBM            8             30\n",
       "65     Oxycodone     GBM            7             35\n",
       "\n",
       "[26 rows x 4 columns]"
      ]
     },
     "metadata": {},
     "output_type": "display_data"
    },
    {
     "data": {
      "text/html": [
       "<div>\n",
       "<style scoped>\n",
       "    .dataframe tbody tr th:only-of-type {\n",
       "        vertical-align: middle;\n",
       "    }\n",
       "\n",
       "    .dataframe tbody tr th {\n",
       "        vertical-align: top;\n",
       "    }\n",
       "\n",
       "    .dataframe thead th {\n",
       "        text-align: right;\n",
       "    }\n",
       "</style>\n",
       "<table border=\"1\" class=\"dataframe\">\n",
       "  <thead>\n",
       "    <tr style=\"text-align: right;\">\n",
       "      <th></th>\n",
       "      <th>Compound_name</th>\n",
       "      <th>Disease</th>\n",
       "      <th>Pain_rating</th>\n",
       "      <th>Concentration</th>\n",
       "    </tr>\n",
       "  </thead>\n",
       "  <tbody>\n",
       "    <tr>\n",
       "      <td>23</td>\n",
       "      <td>Tramadol</td>\n",
       "      <td>BRCA</td>\n",
       "      <td>8</td>\n",
       "      <td>35</td>\n",
       "    </tr>\n",
       "    <tr>\n",
       "      <td>59</td>\n",
       "      <td>Tramadol</td>\n",
       "      <td>GBM</td>\n",
       "      <td>7</td>\n",
       "      <td>35</td>\n",
       "    </tr>\n",
       "    <tr>\n",
       "      <td>65</td>\n",
       "      <td>Oxycodone</td>\n",
       "      <td>GBM</td>\n",
       "      <td>7</td>\n",
       "      <td>35</td>\n",
       "    </tr>\n",
       "  </tbody>\n",
       "</table>\n",
       "</div>"
      ],
      "text/plain": [
       "   Compound_name Disease  Pain_rating  Concentration\n",
       "23      Tramadol    BRCA            8             35\n",
       "59      Tramadol     GBM            7             35\n",
       "65     Oxycodone     GBM            7             35"
      ]
     },
     "metadata": {},
     "output_type": "display_data"
    }
   ],
   "source": [
    "display(df[df['Compound_name']=='Tramadol'])\n",
    "display(df[(df['Disease']=='BRCA')&(df['Compound_name']=='Tramadol')])\n",
    "display(df[(df['Disease']=='GBM')&((df['Compound_name']=='Tramadol')|(df['Compound_name']=='Fentanyl'))])\n",
    "display(df[df['Pain_rating']>6])\n",
    "display(df[(df['Pain_rating']>6)&(df['Concentration']==df['Concentration'].max())])"
   ]
  },
  {
   "cell_type": "markdown",
   "metadata": {},
   "source": [
    "Use what you learned on selecting columns and rows to identify which compound, Tramadol or Fentanyl, results in lower pain ratings:"
   ]
  },
  {
   "cell_type": "markdown",
   "metadata": {},
   "source": [
    "For this we want to know the pain ratings for Tramadol or Fentanyl:"
   ]
  },
  {
   "cell_type": "code",
   "execution_count": 25,
   "metadata": {},
   "outputs": [
    {
     "name": "stdout",
     "output_type": "stream",
     "text": [
      "18    8\n",
      "19    8\n",
      "20    8\n",
      "21    8\n",
      "22    8\n",
      "23    8\n",
      "54    7\n",
      "55    7\n",
      "56    7\n",
      "57    7\n",
      "58    7\n",
      "59    7\n",
      "Name: Pain_rating, dtype: int64\n",
      "12    3\n",
      "13    2\n",
      "14    2\n",
      "15    2\n",
      "16    1\n",
      "17    1\n",
      "48    1\n",
      "49    1\n",
      "50    1\n",
      "51    1\n",
      "52    1\n",
      "53    1\n",
      "Name: Pain_rating, dtype: int64\n"
     ]
    }
   ],
   "source": [
    "print(df[df['Compound_name']=='Tramadol']['Pain_rating'])\n",
    "print(df[df['Compound_name']=='Fentanyl']['Pain_rating'])"
   ]
  },
  {
   "cell_type": "markdown",
   "metadata": {},
   "source": [
    "Since these are more than 50 values per compound, we use `unique` to find the unique values:"
   ]
  },
  {
   "cell_type": "code",
   "execution_count": 26,
   "metadata": {},
   "outputs": [
    {
     "name": "stdout",
     "output_type": "stream",
     "text": [
      "[8 7]\n",
      "[3 2 1]\n"
     ]
    }
   ],
   "source": [
    "print(df[df['Compound_name']=='Tramadol']['Pain_rating'].unique())\n",
    "print(df[df['Compound_name']=='Fentanyl']['Pain_rating'].unique())"
   ]
  },
  {
   "cell_type": "markdown",
   "metadata": {},
   "source": [
    "Clearly, Fentanyl works much better than Tramadol"
   ]
  },
  {
   "cell_type": "markdown",
   "metadata": {},
   "source": [
    "# Using data"
   ]
  },
  {
   "cell_type": "markdown",
   "metadata": {},
   "source": [
    "You can use mathematical operation on columns of a DataFrame"
   ]
  },
  {
   "cell_type": "code",
   "execution_count": 27,
   "metadata": {},
   "outputs": [
    {
     "data": {
      "text/plain": [
       "0     10\n",
       "1     10\n",
       "2      8\n",
       "3      8\n",
       "4      8\n",
       "      ..\n",
       "67    12\n",
       "68    10\n",
       "69    10\n",
       "70     8\n",
       "71     8\n",
       "Name: Pain_rating, Length: 72, dtype: int64"
      ]
     },
     "execution_count": 27,
     "metadata": {},
     "output_type": "execute_result"
    }
   ],
   "source": [
    "2*df['Pain_rating']"
   ]
  },
  {
   "cell_type": "markdown",
   "metadata": {},
   "source": [
    "Create a copy of the DataFrame (`new = df.copy()`) and convert the compound concentration from $\\mu$M to mM:"
   ]
  },
  {
   "cell_type": "code",
   "execution_count": 28,
   "metadata": {},
   "outputs": [
    {
     "data": {
      "text/html": [
       "<div>\n",
       "<style scoped>\n",
       "    .dataframe tbody tr th:only-of-type {\n",
       "        vertical-align: middle;\n",
       "    }\n",
       "\n",
       "    .dataframe tbody tr th {\n",
       "        vertical-align: top;\n",
       "    }\n",
       "\n",
       "    .dataframe thead th {\n",
       "        text-align: right;\n",
       "    }\n",
       "</style>\n",
       "<table border=\"1\" class=\"dataframe\">\n",
       "  <thead>\n",
       "    <tr style=\"text-align: right;\">\n",
       "      <th></th>\n",
       "      <th>Compound_name</th>\n",
       "      <th>Disease</th>\n",
       "      <th>Pain_rating</th>\n",
       "      <th>Concentration</th>\n",
       "    </tr>\n",
       "  </thead>\n",
       "  <tbody>\n",
       "    <tr>\n",
       "      <td>0</td>\n",
       "      <td>Morphine</td>\n",
       "      <td>BRCA</td>\n",
       "      <td>5</td>\n",
       "      <td>0.010</td>\n",
       "    </tr>\n",
       "    <tr>\n",
       "      <td>1</td>\n",
       "      <td>Morphine</td>\n",
       "      <td>BRCA</td>\n",
       "      <td>5</td>\n",
       "      <td>0.015</td>\n",
       "    </tr>\n",
       "    <tr>\n",
       "      <td>2</td>\n",
       "      <td>Morphine</td>\n",
       "      <td>BRCA</td>\n",
       "      <td>4</td>\n",
       "      <td>0.020</td>\n",
       "    </tr>\n",
       "    <tr>\n",
       "      <td>3</td>\n",
       "      <td>Morphine</td>\n",
       "      <td>BRCA</td>\n",
       "      <td>4</td>\n",
       "      <td>0.025</td>\n",
       "    </tr>\n",
       "    <tr>\n",
       "      <td>4</td>\n",
       "      <td>Morphine</td>\n",
       "      <td>BRCA</td>\n",
       "      <td>4</td>\n",
       "      <td>0.030</td>\n",
       "    </tr>\n",
       "    <tr>\n",
       "      <td>...</td>\n",
       "      <td>...</td>\n",
       "      <td>...</td>\n",
       "      <td>...</td>\n",
       "      <td>...</td>\n",
       "    </tr>\n",
       "    <tr>\n",
       "      <td>67</td>\n",
       "      <td>Meperidine</td>\n",
       "      <td>GBM</td>\n",
       "      <td>6</td>\n",
       "      <td>0.015</td>\n",
       "    </tr>\n",
       "    <tr>\n",
       "      <td>68</td>\n",
       "      <td>Meperidine</td>\n",
       "      <td>GBM</td>\n",
       "      <td>5</td>\n",
       "      <td>0.020</td>\n",
       "    </tr>\n",
       "    <tr>\n",
       "      <td>69</td>\n",
       "      <td>Meperidine</td>\n",
       "      <td>GBM</td>\n",
       "      <td>5</td>\n",
       "      <td>0.025</td>\n",
       "    </tr>\n",
       "    <tr>\n",
       "      <td>70</td>\n",
       "      <td>Meperidine</td>\n",
       "      <td>GBM</td>\n",
       "      <td>4</td>\n",
       "      <td>0.030</td>\n",
       "    </tr>\n",
       "    <tr>\n",
       "      <td>71</td>\n",
       "      <td>Meperidine</td>\n",
       "      <td>GBM</td>\n",
       "      <td>4</td>\n",
       "      <td>0.035</td>\n",
       "    </tr>\n",
       "  </tbody>\n",
       "</table>\n",
       "<p>72 rows × 4 columns</p>\n",
       "</div>"
      ],
      "text/plain": [
       "   Compound_name Disease  Pain_rating  Concentration\n",
       "0       Morphine    BRCA            5          0.010\n",
       "1       Morphine    BRCA            5          0.015\n",
       "2       Morphine    BRCA            4          0.020\n",
       "3       Morphine    BRCA            4          0.025\n",
       "4       Morphine    BRCA            4          0.030\n",
       "..           ...     ...          ...            ...\n",
       "67    Meperidine     GBM            6          0.015\n",
       "68    Meperidine     GBM            5          0.020\n",
       "69    Meperidine     GBM            5          0.025\n",
       "70    Meperidine     GBM            4          0.030\n",
       "71    Meperidine     GBM            4          0.035\n",
       "\n",
       "[72 rows x 4 columns]"
      ]
     },
     "execution_count": 28,
     "metadata": {},
     "output_type": "execute_result"
    }
   ],
   "source": [
    "new = df.copy()\n",
    "new['Concentration'] = 1e-3*new['Concentration']\n",
    "new"
   ]
  },
  {
   "cell_type": "markdown",
   "metadata": {},
   "source": [
    "DataFrame columns can also be converted into numpy arrays that can be used for computations:"
   ]
  },
  {
   "cell_type": "code",
   "execution_count": 29,
   "metadata": {},
   "outputs": [
    {
     "data": {
      "text/plain": [
       "array([10, 10,  8,  8,  8,  6, 10, 10, 10, 10, 10, 10,  6,  4,  4,  4,  2,\n",
       "        2, 16, 16, 16, 16, 16, 16, 14, 14, 14, 12, 12, 12, 20, 18, 16, 14,\n",
       "       12, 10, 14, 12, 12, 10, 10,  8,  4,  4,  4,  2,  2,  2,  2,  2,  2,\n",
       "        2,  2,  2, 14, 14, 14, 14, 14, 14, 18, 18, 18, 16, 16, 14, 12, 12,\n",
       "       10, 10,  8,  8])"
      ]
     },
     "execution_count": 29,
     "metadata": {},
     "output_type": "execute_result"
    }
   ],
   "source": [
    "x = df['Pain_rating'].values\n",
    "2*x"
   ]
  },
  {
   "cell_type": "markdown",
   "metadata": {},
   "source": [
    "Compute the mean pain rating of BRCA patients"
   ]
  },
  {
   "cell_type": "code",
   "execution_count": 30,
   "metadata": {},
   "outputs": [
    {
     "name": "stdout",
     "output_type": "stream",
     "text": [
      "5.5\n"
     ]
    }
   ],
   "source": [
    "x = df[df['Disease']=='BRCA']['Pain_rating'].values\n",
    "s = np.sum(x)\n",
    "n = len(x)\n",
    "print(s/n)"
   ]
  },
  {
   "cell_type": "markdown",
   "metadata": {},
   "source": [
    "Because computing statistics like the mean are commonly used, this is build into Pandas:"
   ]
  },
  {
   "cell_type": "code",
   "execution_count": 31,
   "metadata": {},
   "outputs": [
    {
     "data": {
      "text/plain": [
       "Pain_rating       5.111111\n",
       "Concentration    22.500000\n",
       "dtype: float64"
      ]
     },
     "execution_count": 31,
     "metadata": {},
     "output_type": "execute_result"
    }
   ],
   "source": [
    "df.mean()"
   ]
  },
  {
   "cell_type": "markdown",
   "metadata": {},
   "source": [
    "Note that Pandas only computes the mean over columns with numerical values. \n",
    "\n",
    "You can also get the mean for a specific column:"
   ]
  },
  {
   "cell_type": "code",
   "execution_count": 32,
   "metadata": {},
   "outputs": [
    {
     "data": {
      "text/plain": [
       "5.111111111111111"
      ]
     },
     "execution_count": 32,
     "metadata": {},
     "output_type": "execute_result"
    }
   ],
   "source": [
    "df['Pain_rating'].mean()"
   ]
  },
  {
   "cell_type": "markdown",
   "metadata": {},
   "source": [
    "or"
   ]
  },
  {
   "cell_type": "code",
   "execution_count": 33,
   "metadata": {},
   "outputs": [
    {
     "data": {
      "text/plain": [
       "5.111111111111111"
      ]
     },
     "execution_count": 33,
     "metadata": {},
     "output_type": "execute_result"
    }
   ],
   "source": [
    "df.mean()['Pain_rating']"
   ]
  },
  {
   "cell_type": "markdown",
   "metadata": {},
   "source": [
    "Note that there are similar functions, such as `df.std`, `df.var`, `df.min`, `df.sum`."
   ]
  },
  {
   "cell_type": "markdown",
   "metadata": {},
   "source": [
    "Use what you have learned so far to answer the following questions:"
   ]
  },
  {
   "cell_type": "markdown",
   "metadata": {},
   "source": [
    "### Which disease, BRCA or GBM, results in the most pain?"
   ]
  },
  {
   "cell_type": "code",
   "execution_count": 34,
   "metadata": {},
   "outputs": [
    {
     "name": "stdout",
     "output_type": "stream",
     "text": [
      "5.5\n",
      "4.722222222222222\n"
     ]
    }
   ],
   "source": [
    "print(df[df['Disease']=='BRCA']['Pain_rating'].mean())\n",
    "print(df[df['Disease']=='GBM']['Pain_rating'].mean())"
   ]
  },
  {
   "cell_type": "markdown",
   "metadata": {},
   "source": [
    "### Which disease, BRCA or GBM, results in the highest pain rating?\n"
   ]
  },
  {
   "cell_type": "code",
   "execution_count": 35,
   "metadata": {},
   "outputs": [
    {
     "name": "stdout",
     "output_type": "stream",
     "text": [
      "10\n",
      "9\n"
     ]
    }
   ],
   "source": [
    "print(df[df['Disease']=='BRCA']['Pain_rating'].max())\n",
    "print(df[df['Disease']=='GBM']['Pain_rating'].max())"
   ]
  },
  {
   "cell_type": "markdown",
   "metadata": {},
   "source": [
    "### Which medication works best"
   ]
  },
  {
   "cell_type": "code",
   "execution_count": 36,
   "metadata": {},
   "outputs": [
    {
     "name": "stdout",
     "output_type": "stream",
     "text": [
      "Morphine 4.833333333333333\n",
      "Codeine 3.25\n",
      "Fentanyl 1.4166666666666667\n",
      "Tramadol 7.5\n",
      "Oxycodone 7.416666666666667\n",
      "Meperidine 6.25\n"
     ]
    }
   ],
   "source": [
    "for comp in df['Compound_name'].unique():\n",
    "    print(comp,df[df['Compound_name']==comp]['Pain_rating'].mean())"
   ]
  },
  {
   "cell_type": "markdown",
   "metadata": {},
   "source": [
    "# Grouping\n",
    "\n"
   ]
  },
  {
   "cell_type": "markdown",
   "metadata": {},
   "source": [
    "To find out which medicine works best you had to select to rows for each compound and then compute the mean, there is actually an easier way to do this:"
   ]
  },
  {
   "cell_type": "code",
   "execution_count": 37,
   "metadata": {},
   "outputs": [
    {
     "data": {
      "text/plain": [
       "Compound_name\n",
       "Codeine       3.250000\n",
       "Fentanyl      1.416667\n",
       "Meperidine    6.250000\n",
       "Morphine      4.833333\n",
       "Oxycodone     7.416667\n",
       "Tramadol      7.500000\n",
       "Name: Pain_rating, dtype: float64"
      ]
     },
     "execution_count": 37,
     "metadata": {},
     "output_type": "execute_result"
    }
   ],
   "source": [
    "df.groupby('Compound_name').mean()['Pain_rating']"
   ]
  },
  {
   "cell_type": "markdown",
   "metadata": {},
   "source": [
    "The function `groupby` can be applied on any Pandas DataFrame and only works in combination with an operator like `mean`. To help you understand how `groupby` works, we will go through its workings step by step. When you call `groupby` in a DataFrame `df` for column `Compound_name`, a bin is created for each unique value in the column and then the row numbers with matching column values are put into those bins."
   ]
  },
  {
   "cell_type": "code",
   "execution_count": 38,
   "metadata": {
    "scrolled": true
   },
   "outputs": [
    {
     "data": {
      "text/plain": [
       "{'Codeine': Int64Index([6, 7, 8, 9, 10, 11, 42, 43, 44, 45, 46, 47], dtype='int64'),\n",
       " 'Fentanyl': Int64Index([12, 13, 14, 15, 16, 17, 48, 49, 50, 51, 52, 53], dtype='int64'),\n",
       " 'Meperidine': Int64Index([30, 31, 32, 33, 34, 35, 66, 67, 68, 69, 70, 71], dtype='int64'),\n",
       " 'Morphine': Int64Index([0, 1, 2, 3, 4, 5, 36, 37, 38, 39, 40, 41], dtype='int64'),\n",
       " 'Oxycodone': Int64Index([24, 25, 26, 27, 28, 29, 60, 61, 62, 63, 64, 65], dtype='int64'),\n",
       " 'Tramadol': Int64Index([18, 19, 20, 21, 22, 23, 54, 55, 56, 57, 58, 59], dtype='int64')}"
      ]
     },
     "execution_count": 38,
     "metadata": {},
     "output_type": "execute_result"
    }
   ],
   "source": [
    "df.groupby('Compound_name').groups"
   ]
  },
  {
   "cell_type": "markdown",
   "metadata": {},
   "source": [
    "When instead of one column, a list of columns is used, there will be a bin for each unique combination of values from the used columns:"
   ]
  },
  {
   "cell_type": "code",
   "execution_count": 39,
   "metadata": {},
   "outputs": [
    {
     "data": {
      "text/plain": [
       "{('Codeine', 'BRCA'): Int64Index([6, 7, 8, 9, 10, 11], dtype='int64'),\n",
       " ('Codeine', 'GBM'): Int64Index([42, 43, 44, 45, 46, 47], dtype='int64'),\n",
       " ('Fentanyl', 'BRCA'): Int64Index([12, 13, 14, 15, 16, 17], dtype='int64'),\n",
       " ('Fentanyl', 'GBM'): Int64Index([48, 49, 50, 51, 52, 53], dtype='int64'),\n",
       " ('Meperidine', 'BRCA'): Int64Index([30, 31, 32, 33, 34, 35], dtype='int64'),\n",
       " ('Meperidine', 'GBM'): Int64Index([66, 67, 68, 69, 70, 71], dtype='int64'),\n",
       " ('Morphine', 'BRCA'): Int64Index([0, 1, 2, 3, 4, 5], dtype='int64'),\n",
       " ('Morphine', 'GBM'): Int64Index([36, 37, 38, 39, 40, 41], dtype='int64'),\n",
       " ('Oxycodone', 'BRCA'): Int64Index([24, 25, 26, 27, 28, 29], dtype='int64'),\n",
       " ('Oxycodone', 'GBM'): Int64Index([60, 61, 62, 63, 64, 65], dtype='int64'),\n",
       " ('Tramadol', 'BRCA'): Int64Index([18, 19, 20, 21, 22, 23], dtype='int64'),\n",
       " ('Tramadol', 'GBM'): Int64Index([54, 55, 56, 57, 58, 59], dtype='int64')}"
      ]
     },
     "execution_count": 39,
     "metadata": {},
     "output_type": "execute_result"
    }
   ],
   "source": [
    "df.groupby(['Compound_name','Disease']).groups"
   ]
  },
  {
   "cell_type": "markdown",
   "metadata": {},
   "source": [
    "When you have the grouping you want, you can perform operations on all groups, for example:"
   ]
  },
  {
   "cell_type": "code",
   "execution_count": 40,
   "metadata": {},
   "outputs": [
    {
     "data": {
      "text/html": [
       "<div>\n",
       "<style scoped>\n",
       "    .dataframe tbody tr th:only-of-type {\n",
       "        vertical-align: middle;\n",
       "    }\n",
       "\n",
       "    .dataframe tbody tr th {\n",
       "        vertical-align: top;\n",
       "    }\n",
       "\n",
       "    .dataframe thead th {\n",
       "        text-align: right;\n",
       "    }\n",
       "</style>\n",
       "<table border=\"1\" class=\"dataframe\">\n",
       "  <thead>\n",
       "    <tr style=\"text-align: right;\">\n",
       "      <th></th>\n",
       "      <th>Pain_rating</th>\n",
       "      <th>Concentration</th>\n",
       "    </tr>\n",
       "    <tr>\n",
       "      <th>Compound_name</th>\n",
       "      <th></th>\n",
       "      <th></th>\n",
       "    </tr>\n",
       "  </thead>\n",
       "  <tbody>\n",
       "    <tr>\n",
       "      <td>Codeine</td>\n",
       "      <td>3.250000</td>\n",
       "      <td>22.5</td>\n",
       "    </tr>\n",
       "    <tr>\n",
       "      <td>Fentanyl</td>\n",
       "      <td>1.416667</td>\n",
       "      <td>22.5</td>\n",
       "    </tr>\n",
       "    <tr>\n",
       "      <td>Meperidine</td>\n",
       "      <td>6.250000</td>\n",
       "      <td>22.5</td>\n",
       "    </tr>\n",
       "    <tr>\n",
       "      <td>Morphine</td>\n",
       "      <td>4.833333</td>\n",
       "      <td>22.5</td>\n",
       "    </tr>\n",
       "    <tr>\n",
       "      <td>Oxycodone</td>\n",
       "      <td>7.416667</td>\n",
       "      <td>22.5</td>\n",
       "    </tr>\n",
       "    <tr>\n",
       "      <td>Tramadol</td>\n",
       "      <td>7.500000</td>\n",
       "      <td>22.5</td>\n",
       "    </tr>\n",
       "  </tbody>\n",
       "</table>\n",
       "</div>"
      ],
      "text/plain": [
       "               Pain_rating  Concentration\n",
       "Compound_name                            \n",
       "Codeine           3.250000           22.5\n",
       "Fentanyl          1.416667           22.5\n",
       "Meperidine        6.250000           22.5\n",
       "Morphine          4.833333           22.5\n",
       "Oxycodone         7.416667           22.5\n",
       "Tramadol          7.500000           22.5"
      ]
     },
     "execution_count": 40,
     "metadata": {},
     "output_type": "execute_result"
    }
   ],
   "source": [
    "df.groupby('Compound_name').mean()"
   ]
  },
  {
   "cell_type": "markdown",
   "metadata": {},
   "source": [
    "But we are not interested in the mean concentration, so we next only request the `Pain_rating` column:"
   ]
  },
  {
   "cell_type": "code",
   "execution_count": 41,
   "metadata": {},
   "outputs": [
    {
     "data": {
      "text/plain": [
       "Compound_name\n",
       "Codeine       3.250000\n",
       "Fentanyl      1.416667\n",
       "Meperidine    6.250000\n",
       "Morphine      4.833333\n",
       "Oxycodone     7.416667\n",
       "Tramadol      7.500000\n",
       "Name: Pain_rating, dtype: float64"
      ]
     },
     "execution_count": 41,
     "metadata": {},
     "output_type": "execute_result"
    }
   ],
   "source": [
    "df.groupby('Compound_name').mean()['Pain_rating']"
   ]
  },
  {
   "cell_type": "markdown",
   "metadata": {},
   "source": [
    "Use the `groupby` function to see if the performance of the drugs differs between diseases."
   ]
  },
  {
   "cell_type": "code",
   "execution_count": 42,
   "metadata": {},
   "outputs": [
    {
     "data": {
      "text/html": [
       "<div>\n",
       "<style scoped>\n",
       "    .dataframe tbody tr th:only-of-type {\n",
       "        vertical-align: middle;\n",
       "    }\n",
       "\n",
       "    .dataframe tbody tr th {\n",
       "        vertical-align: top;\n",
       "    }\n",
       "\n",
       "    .dataframe thead th {\n",
       "        text-align: right;\n",
       "    }\n",
       "</style>\n",
       "<table border=\"1\" class=\"dataframe\">\n",
       "  <thead>\n",
       "    <tr style=\"text-align: right;\">\n",
       "      <th></th>\n",
       "      <th></th>\n",
       "      <th>Pain_rating</th>\n",
       "      <th>Concentration</th>\n",
       "    </tr>\n",
       "    <tr>\n",
       "      <th>Compound_name</th>\n",
       "      <th>Disease</th>\n",
       "      <th></th>\n",
       "      <th></th>\n",
       "    </tr>\n",
       "  </thead>\n",
       "  <tbody>\n",
       "    <tr>\n",
       "      <td rowspan=\"2\" valign=\"top\">Codeine</td>\n",
       "      <td>BRCA</td>\n",
       "      <td>5.000000</td>\n",
       "      <td>22.5</td>\n",
       "    </tr>\n",
       "    <tr>\n",
       "      <td>GBM</td>\n",
       "      <td>1.500000</td>\n",
       "      <td>22.5</td>\n",
       "    </tr>\n",
       "    <tr>\n",
       "      <td rowspan=\"2\" valign=\"top\">Fentanyl</td>\n",
       "      <td>BRCA</td>\n",
       "      <td>1.833333</td>\n",
       "      <td>22.5</td>\n",
       "    </tr>\n",
       "    <tr>\n",
       "      <td>GBM</td>\n",
       "      <td>1.000000</td>\n",
       "      <td>22.5</td>\n",
       "    </tr>\n",
       "    <tr>\n",
       "      <td rowspan=\"2\" valign=\"top\">Meperidine</td>\n",
       "      <td>BRCA</td>\n",
       "      <td>7.500000</td>\n",
       "      <td>22.5</td>\n",
       "    </tr>\n",
       "    <tr>\n",
       "      <td>GBM</td>\n",
       "      <td>5.000000</td>\n",
       "      <td>22.5</td>\n",
       "    </tr>\n",
       "    <tr>\n",
       "      <td rowspan=\"2\" valign=\"top\">Morphine</td>\n",
       "      <td>BRCA</td>\n",
       "      <td>4.166667</td>\n",
       "      <td>22.5</td>\n",
       "    </tr>\n",
       "    <tr>\n",
       "      <td>GBM</td>\n",
       "      <td>5.500000</td>\n",
       "      <td>22.5</td>\n",
       "    </tr>\n",
       "    <tr>\n",
       "      <td rowspan=\"2\" valign=\"top\">Oxycodone</td>\n",
       "      <td>BRCA</td>\n",
       "      <td>6.500000</td>\n",
       "      <td>22.5</td>\n",
       "    </tr>\n",
       "    <tr>\n",
       "      <td>GBM</td>\n",
       "      <td>8.333333</td>\n",
       "      <td>22.5</td>\n",
       "    </tr>\n",
       "    <tr>\n",
       "      <td rowspan=\"2\" valign=\"top\">Tramadol</td>\n",
       "      <td>BRCA</td>\n",
       "      <td>8.000000</td>\n",
       "      <td>22.5</td>\n",
       "    </tr>\n",
       "    <tr>\n",
       "      <td>GBM</td>\n",
       "      <td>7.000000</td>\n",
       "      <td>22.5</td>\n",
       "    </tr>\n",
       "  </tbody>\n",
       "</table>\n",
       "</div>"
      ],
      "text/plain": [
       "                       Pain_rating  Concentration\n",
       "Compound_name Disease                            \n",
       "Codeine       BRCA        5.000000           22.5\n",
       "              GBM         1.500000           22.5\n",
       "Fentanyl      BRCA        1.833333           22.5\n",
       "              GBM         1.000000           22.5\n",
       "Meperidine    BRCA        7.500000           22.5\n",
       "              GBM         5.000000           22.5\n",
       "Morphine      BRCA        4.166667           22.5\n",
       "              GBM         5.500000           22.5\n",
       "Oxycodone     BRCA        6.500000           22.5\n",
       "              GBM         8.333333           22.5\n",
       "Tramadol      BRCA        8.000000           22.5\n",
       "              GBM         7.000000           22.5"
      ]
     },
     "execution_count": 42,
     "metadata": {},
     "output_type": "execute_result"
    }
   ],
   "source": [
    "df.groupby(['Compound_name','Disease'],squeeze=True).mean()"
   ]
  }
 ],
 "metadata": {
  "hide_input": false,
  "kernelspec": {
   "display_name": "Python [conda env:BPiDD]",
   "language": "python",
   "name": "conda-env-BPiDD-py"
  },
  "language_info": {
   "codemirror_mode": {
    "name": "ipython",
    "version": 3
   },
   "file_extension": ".py",
   "mimetype": "text/x-python",
   "name": "python",
   "nbconvert_exporter": "python",
   "pygments_lexer": "ipython3",
   "version": "3.7.3"
  },
  "toc": {
   "base_numbering": 1,
   "nav_menu": {},
   "number_sections": false,
   "sideBar": true,
   "skip_h1_title": false,
   "title_cell": "Table of Contents",
   "title_sidebar": "Contents",
   "toc_cell": false,
   "toc_position": {},
   "toc_section_display": true,
   "toc_window_display": true
  }
 },
 "nbformat": 4,
 "nbformat_minor": 4
}
