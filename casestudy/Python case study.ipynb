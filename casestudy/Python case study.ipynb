{
 "cells": [
  {
   "cell_type": "code",
   "execution_count": 1,
   "metadata": {},
   "outputs": [],
   "source": [
    "%matplotlib inline\n",
    "import numpy as np\n",
    "import seaborn as sns\n",
    "import matplotlib.pyplot as plt\n",
    "import pandas as pd"
   ]
  },
  {
   "cell_type": "markdown",
   "metadata": {},
   "source": [
    "The excel file `data.xls` contains data for a series on experiments on cell migration and proliferation. Use what you have learned during the course to analyze the dataset. Show which treatments in which cell line have an effect on cell migratoin and/or proliferation. Collect your findings in a well organized jupyer notebook, which is the final product of this case study. The notebook should contain:\n",
    "* different kinds of plots, for example scatter plots, strip or swarm plots, histograms, and boxplots;\n",
    "* multiple plots in one figure using subplots\n",
    "* a written discussion of the plots; just code and figures is not enough\n",
    "\n",
    "Make sure that your plots contain error bars wherever that is applicable and plots are fully anotated (e.g. titles, axes labels, legends). \n",
    "\n",
    "Hints:\n",
    "* **Google is your friend**\n",
    "* Load the data from `data.xls` using `df = pd.read_excel('data.xls')`. \n",
    "* [Markdown syntax](https://daringfireball.net/projects/markdown/syntax)\n",
    "* [Jupyter notebook cheat sheet](http://datacamp-community.s3.amazonaws.com/48093c40-5303-45f4-bbf9-0c96c0133c40)\n",
    "* [Pandas cheat sheet](http://datacamp-community.s3.amazonaws.com/9f0f2ae1-8bd8-4302-a67b-e17f3059d9e8)\n",
    "* [Matplotlib plotting examples](https://matplotlib.org/gallery.html)\n",
    "* [Matplotlib cheat sheet](http://datacamp-community.s3.amazonaws.com/28b8210c-60cc-4f13-b0b4-5b4f2ad4790b)\n",
    "* [Seaborn plotting examples](https://seaborn.pydata.org/examples/index.html)\n",
    "* [Seaborn cheat sheet](http://datacamp-community.s3.amazonaws.com/f9f06e72-519a-4722-9912-b5de742dbac4)\n",
    "* If you feel up to it, have a look at running statistical tests: https://www.scipy-lectures.org/packages/statistics/index.html.\n"
   ]
  },
  {
   "cell_type": "code",
   "execution_count": null,
   "metadata": {},
   "outputs": [],
   "source": []
  }
 ],
 "metadata": {
  "hide_input": false,
  "kernelspec": {
   "display_name": "Python3 (BPiDD)",
   "language": "python",
   "name": "bpidd"
  },
  "language_info": {
   "codemirror_mode": {
    "name": "ipython",
    "version": 3
   },
   "file_extension": ".py",
   "mimetype": "text/x-python",
   "name": "python",
   "nbconvert_exporter": "python",
   "pygments_lexer": "ipython3",
   "version": "3.7.0"
  },
  "toc": {
   "base_numbering": 1,
   "nav_menu": {},
   "number_sections": false,
   "sideBar": true,
   "skip_h1_title": false,
   "title_cell": "Table of Contents",
   "title_sidebar": "Contents",
   "toc_cell": false,
   "toc_position": {},
   "toc_section_display": true,
   "toc_window_display": true
  }
 },
 "nbformat": 4,
 "nbformat_minor": 2
}
