{
 "cells": [
  {
   "cell_type": "code",
   "execution_count": null,
   "metadata": {},
   "outputs": [],
   "source": [
    "%matplotlib inline\n",
    "%config InlineBackend.figure_format = 'retina'\n",
    "import numpy as np\n",
    "import seaborn as sns\n",
    "import matplotlib.pyplot as plt\n",
    "import pandas as pd"
   ]
  },
  {
   "cell_type": "code",
   "execution_count": null,
   "metadata": {},
   "outputs": [],
   "source": [
    "x = np.linspace(0,10,11)\n",
    "y = np.exp(x)\n",
    "fig = plt.figure()\n",
    "ax = plt.gca()\n",
    "ax.plot(x,y,'o-');\n",
    "ax.set(title='a plot',xlabel='x-axis',ylabel='y-axis');"
   ]
  },
  {
   "cell_type": "markdown",
   "metadata": {},
   "source": [
    "The plot shown above was created with the default settings of matplotlib. It looks good in the notebook, but it is not suitable for all purposes. For example, in a paper you need to have a high information density, hence you want a smaller plot. For a presentation or poster, the text needs to be readable at distance, en especially for presentation you need to make sure that your lines are thick enough to be visible (always expect to present in a room with a crappy projector and a lot of daylight)."
   ]
  },
  {
   "cell_type": "markdown",
   "metadata": {},
   "source": [
    "# Making a paper ready plot"
   ]
  },
  {
   "cell_type": "markdown",
   "metadata": {},
   "source": [
    "The first step of making the figure publication ready to change it's size. Let's say that we want to have 4 square plots in a row and an a4 page is 21 cm wide and has 2.5 cm margins. \n",
    "* Compute how wide a plot should be.\n",
    "* Look in the documentation for `figsize` in the documentation of `plt.figure` and use it to change the size of your plot"
   ]
  },
  {
   "cell_type": "code",
   "execution_count": null,
   "metadata": {},
   "outputs": [],
   "source": [
    "# make plot of specific size"
   ]
  },
  {
   "cell_type": "markdown",
   "metadata": {},
   "source": [
    "Journals often have requirements for the font sizes in figures. To set the font size for specific elements, we have to replace the `ax.set` command with specific commands for each label, e.g.: `ax.set_title('title',fontsize=8)`. Similar commands exist for the xlabel (`ax.set_xlabel`) and ylabel (`ax.set_ylabel`). Create a plot according to the following guidelines:\n",
    "\n",
    "* font size title = 12pt\n",
    "* font size x and y labels = 10pt"
   ]
  },
  {
   "cell_type": "code",
   "execution_count": null,
   "metadata": {},
   "outputs": [],
   "source": [
    "# repeat previous plot and change font sizes"
   ]
  },
  {
   "cell_type": "markdown",
   "metadata": {},
   "source": [
    "Setting the font size for the tick labels (the numbers on the axes) is a bit different. For this we use the `ax.tick_params` function. This function gives you full control of the ticks and the tick labels. Look throught the documentation of `ax.tick_params` to find the parameter that changes the font size of the labels and set this to 8 points. "
   ]
  },
  {
   "cell_type": "code",
   "execution_count": null,
   "metadata": {},
   "outputs": [],
   "source": [
    "# set tick label fonts"
   ]
  },
  {
   "cell_type": "markdown",
   "metadata": {},
   "source": [
    "# Making a presentation ready plot"
   ]
  },
  {
   "cell_type": "markdown",
   "metadata": {},
   "source": [
    "In the previous section you made a tiny plot with tiny fonts. Now, use the same methods to make a plot according to the following specification:\n",
    "* size: 10x10 cm\n",
    "* font size title: 20pt\n",
    "* font size axes labels: 18pt\n",
    "* font size tick labels: 16pt\n",
    "\n",
    "And make sure to change to marker size such that the markers have a reasonable size."
   ]
  },
  {
   "cell_type": "code",
   "execution_count": null,
   "metadata": {},
   "outputs": [],
   "source": [
    "# make a presentation ready plot"
   ]
  },
  {
   "cell_type": "markdown",
   "metadata": {},
   "source": [
    "This plot and the fonts are now big, but the line is still very thin and may not be visible. The line width can be changed by changing the `linewidth` in the plot function; use this uption to make the line much thicker:"
   ]
  },
  {
   "cell_type": "code",
   "execution_count": null,
   "metadata": {},
   "outputs": [],
   "source": [
    "# make lines thinker"
   ]
  },
  {
   "cell_type": "markdown",
   "metadata": {},
   "source": [
    "# Controlling figure aesthetics with Seaborn"
   ]
  },
  {
   "cell_type": "markdown",
   "metadata": {},
   "source": [
    "As you have seen in the previous few exercises, it is possible to modify your plots, but it can be quite some work. One way to make this easier is by using seaborn *styles* and *contexts*. Seaborn styles control the overall look of a plot and seaborn contexts hold properties that should be context dependent such as font size and line width. \n",
    "\n",
    "Seaborn has 5 styles: `darkgrid`, `whitegrid`, `dark`, `white`, and `ticks` which can be set with `sns.set_style(\"style_name\")`. Add this to the code below and see how each style looks:"
   ]
  },
  {
   "cell_type": "code",
   "execution_count": null,
   "metadata": {},
   "outputs": [],
   "source": [
    "# add sns.set_style()\n",
    "x = np.linspace(0,10,11)\n",
    "y = np.exp(x)\n",
    "fig = plt.figure()\n",
    "ax = plt.gca()\n",
    "ax.plot(x,y,'o-');\n",
    "ax.set(title='a plot',xlabel='x-axis',ylabel='y-axis');"
   ]
  },
  {
   "cell_type": "markdown",
   "metadata": {},
   "source": [
    "You can further customize your plot by changing seaborn's settings. The style settings are stored in a dictionary which you can get with `sns.axes_style(\"style-name\")`. When setting the style, you can provide a custom dictionary with the elements you want to change: `sns.set_style('ticks',rc={\"property-name\":\"custom-value\"}`. Use this to achieve the following:\n",
    "* A plot with the `ticks` style and a grid in the background\n",
    "* A plot with the `ticks` style with no line (spines) on the top or on the right"
   ]
  },
  {
   "cell_type": "code",
   "execution_count": null,
   "metadata": {},
   "outputs": [],
   "source": [
    "# list options\n",
    "sns.axes_style(\"dark\").keys()"
   ]
  },
  {
   "cell_type": "code",
   "execution_count": null,
   "metadata": {},
   "outputs": [],
   "source": [
    "# plot with ticks style and grid"
   ]
  },
  {
   "cell_type": "code",
   "execution_count": null,
   "metadata": {},
   "outputs": [],
   "source": [
    "# plot with ticks style and no lines on the top and on the right"
   ]
  },
  {
   "cell_type": "markdown",
   "metadata": {},
   "source": [
    "Next, we go to seaborn contexts. With these contexts we can essentially scale our plots and make them suitable for a paper or presentation with a single command (or maybe a few). Seaborn has four contexts: `paper`, `notebook`, `talk`, and `poster` which are activated with the command `sns.set_context(\"context-name\")`. Try this out"
   ]
  },
  {
   "cell_type": "code",
   "execution_count": null,
   "metadata": {},
   "outputs": [],
   "source": [
    "# test sns.set_context()\n",
    "x = np.linspace(0,10,11)\n",
    "y = np.exp(x)\n",
    "fig = plt.figure()\n",
    "ax = plt.gca()\n",
    "ax.plot(x,y,'o-');\n",
    "ax.set(title='a plot',xlabel='x-axis',ylabel='y-axis');"
   ]
  },
  {
   "cell_type": "markdown",
   "metadata": {},
   "source": [
    "Note that your plot will have the style from the last `set_style` command; these two commands work together. \n",
    "\n",
    "Like with styles, you can customize the context settings. The context settings can be found with `sns.plotting_context(\"context-name\")` and anything from this can be customized when calling `sns.set_context`, e.g. `sns.set_context('ticks',rc={\"property-name\":\"custom-value\"}`. Use this to achieve the following:\n",
    "* A plot in the `talk` style with lines of width 1\n",
    "* A plot in the `paper` style with grid lines of with 5 (make sure to use a style that shows these!). \n",
    "* A plot in the `paper` style where all fontsizes are ~25% larger than the defaults."
   ]
  },
  {
   "cell_type": "code",
   "execution_count": null,
   "metadata": {},
   "outputs": [],
   "source": [
    "# list options\n",
    "sns.plotting_context('paper').keys()"
   ]
  },
  {
   "cell_type": "code",
   "execution_count": null,
   "metadata": {},
   "outputs": [],
   "source": [
    "# plot with talk style and lines of width 1"
   ]
  },
  {
   "cell_type": "code",
   "execution_count": null,
   "metadata": {},
   "outputs": [],
   "source": [
    "# plot with paper style, grid lines of width 5"
   ]
  },
  {
   "cell_type": "code",
   "execution_count": null,
   "metadata": {},
   "outputs": [],
   "source": [
    "# plot with paper style where all font sizes are ~25% larger than the defaults"
   ]
  },
  {
   "cell_type": "markdown",
   "metadata": {},
   "source": [
    "Changing all those font sizes is quite some work. Have a look at the documentation of `sns.set_context` to see if there is an easier way and test this."
   ]
  },
  {
   "cell_type": "code",
   "execution_count": null,
   "metadata": {},
   "outputs": [],
   "source": [
    "sns.set_style(\"white\")\n",
    "# use the option of sns.set_context to scale font\n",
    "x = np.linspace(0,10,11)\n",
    "y = np.exp(x)\n",
    "fig = plt.figure()\n",
    "ax = plt.gca()\n",
    "ax.plot(x,y,'o-');\n",
    "ax.set(title='a plot',xlabel='x-axis',ylabel='y-axis');"
   ]
  },
  {
   "cell_type": "markdown",
   "metadata": {},
   "source": [
    "# Legend positioning"
   ]
  },
  {
   "cell_type": "markdown",
   "metadata": {},
   "source": [
    "Most plots contain more than one line, and therefore they need a legend. But, as shown below, this can become hard when the plot is filled with a lot of data."
   ]
  },
  {
   "cell_type": "code",
   "execution_count": null,
   "metadata": {},
   "outputs": [],
   "source": [
    "sns.set_style(\"white\")\n",
    "# use the option font_scale\n",
    "sns.set_context(\"paper\",font_scale=1.6)\n",
    "x = np.linspace(0,10,11)\n",
    "y1 = np.exp(x)\n",
    "y2 = np.exp(1.1*x)\n",
    "y3 = 50000-np.exp(x)\n",
    "y4 = 3500*x\n",
    "fig = plt.figure(figsize=(3,2.5))\n",
    "ax = plt.gca()\n",
    "ax.plot(x,y1,'-',marker='o',label='plot1');\n",
    "ax.plot(x,y2,'-',marker='*',label='plot2');\n",
    "ax.plot(x,y3,'-',marker='s',label='plot3');\n",
    "ax.plot(x,y4,'-',marker='>',label='plot4')\n",
    "ax.set(title='a plot',xlabel='x-axis',ylabel='y-axis');\n",
    "ax.legend()"
   ]
  },
  {
   "cell_type": "markdown",
   "metadata": {},
   "source": [
    "There are two options to fix this:\n",
    "1. make the legend smaller such that it fits\n",
    "2. place the legend outside of the plot\n",
    "\n",
    "First, we try to make the legend smaller. As we do not want to reduce the font size, can only remove whitespace and remove anything unnecessary. Change the following arguments of `ax.legend()` and see what happens: `borderpad`, `labelspacing` and `handletextpad`.\n",
    "\n"
   ]
  },
  {
   "cell_type": "markdown",
   "metadata": {},
   "source": [
    "`borderpad` sets the distance between (padding) the content of the legend and the legend border:"
   ]
  },
  {
   "cell_type": "code",
   "execution_count": null,
   "metadata": {},
   "outputs": [],
   "source": [
    "fig = plt.figure(figsize=(3,2.5))\n",
    "ax = plt.gca()\n",
    "ax.plot(x,y1,'-',marker='o',label='plot1');\n",
    "ax.plot(x,y2,'-',marker='*',label='plot2');\n",
    "ax.plot(x,y3,'-',marker='s',label='plot3');\n",
    "ax.plot(x,y4,'-',marker='>',label='plot4')\n",
    "ax.set(title='a plot',xlabel='x-axis',ylabel='y-axis');\n",
    "ax.legend(borderpad=0)"
   ]
  },
  {
   "cell_type": "markdown",
   "metadata": {},
   "source": [
    "`labelspacing` sets the vertical spacing between legend elements"
   ]
  },
  {
   "cell_type": "code",
   "execution_count": null,
   "metadata": {},
   "outputs": [],
   "source": [
    "fig = plt.figure(figsize=(3,2.5))\n",
    "ax = plt.gca()\n",
    "ax.plot(x,y1,'-',marker='o',label='plot1');\n",
    "ax.plot(x,y2,'-',marker='*',label='plot2');\n",
    "ax.plot(x,y3,'-',marker='s',label='plot3');\n",
    "ax.plot(x,y4,'-',marker='>',label='plot4')\n",
    "ax.set(title='a plot',xlabel='x-axis',ylabel='y-axis');\n",
    "ax.legend(labelspacing=0)"
   ]
  },
  {
   "cell_type": "markdown",
   "metadata": {},
   "source": [
    "`handletextpad` sets the distance between (padding) the handle and the label."
   ]
  },
  {
   "cell_type": "code",
   "execution_count": null,
   "metadata": {},
   "outputs": [],
   "source": [
    "fig = plt.figure(figsize=(3,2.5))\n",
    "ax = plt.gca()\n",
    "ax.plot(x,y1,'-',marker='o',label='plot1');\n",
    "ax.plot(x,y2,'-',marker='*',label='plot2');\n",
    "ax.plot(x,y3,'-',marker='s',label='plot3');\n",
    "ax.plot(x,y4,'-',marker='>',label='plot4')\n",
    "ax.set(title='a plot',xlabel='x-axis',ylabel='y-axis');\n",
    "ax.legend(handletextpad=0)"
   ]
  },
  {
   "cell_type": "markdown",
   "metadata": {},
   "source": [
    "Another way to save some space is to make the lines in the legend a bit shorter:"
   ]
  },
  {
   "cell_type": "code",
   "execution_count": null,
   "metadata": {},
   "outputs": [],
   "source": [
    "fig = plt.figure(figsize=(3,2.5))\n",
    "ax = plt.gca()\n",
    "ax.plot(x,y1,'-',marker='o',label='plot1');\n",
    "ax.plot(x,y2,'-',marker='*',label='plot2');\n",
    "ax.plot(x,y3,'-',marker='s',label='plot3');\n",
    "ax.plot(x,y4,'-',marker='>',label='plot4')\n",
    "ax.set(title='a plot',xlabel='x-axis',ylabel='y-axis');\n",
    "ax.legend(handlelength=0)"
   ]
  },
  {
   "cell_type": "markdown",
   "metadata": {},
   "source": [
    "Use `handletextpad`, `labelspacing`, `borderpad` and `handlelength` to make the legend fit in and empty spot *inside* the plot."
   ]
  },
  {
   "cell_type": "code",
   "execution_count": null,
   "metadata": {},
   "outputs": [],
   "source": [
    "# make legend fit"
   ]
  },
  {
   "cell_type": "markdown",
   "metadata": {},
   "source": [
    "In some cases it is really impossible to fit the legend in the plot. Furthermore, when you have a subplot where the legend applies to multiple plots, it may be better to put the legend outside the plot. You have already learned that you can use the `loc` argument to set the position with a number (0 = best, 1 = upper right, etc). However, `loc` can also be used for more precise positioning; when `loc=(x,y)`, the lower-left corner of the legend will be at (x,y). Note that x and y are specified relative to the plot; (0,0) is the bottom left and (1,1) is the bottom right. \n",
    "\n",
    "Use the `loc` argument to place the plot in the lower right corner outsize of the plot and make sure that the box of the legend does not touch the border of the plot."
   ]
  },
  {
   "cell_type": "code",
   "execution_count": null,
   "metadata": {},
   "outputs": [],
   "source": [
    "# put legend next to the plot"
   ]
  },
  {
   "cell_type": "markdown",
   "metadata": {},
   "source": [
    "# Heatmaps"
   ]
  },
  {
   "cell_type": "markdown",
   "metadata": {},
   "source": [
    "Colormaps are used to map numbers to colors. What colormap is a good colormap depends on the data and the context. One type of plot in which colormaps are commonly used are heatmaps,. Below we plotted a heatmap using seaborn's `heatmap` function. A similar heatmap could also be creates using plain matplotlib for this, but the `heatmap` function makes it much easier. \n"
   ]
  },
  {
   "cell_type": "code",
   "execution_count": null,
   "metadata": {},
   "outputs": [],
   "source": [
    "uniform_data = np.random.rand(10, 12)\n",
    "ax = sns.heatmap(uniform_data)"
   ]
  },
  {
   "cell_type": "markdown",
   "metadata": {},
   "source": [
    "A single value can make the full heatmap useless."
   ]
  },
  {
   "cell_type": "code",
   "execution_count": null,
   "metadata": {},
   "outputs": [],
   "source": [
    "alt_data = np.random.rand(10, 12)\n",
    "alt_data[4,4] = 100\n",
    "ax = sns.heatmap(alt_data)"
   ]
  },
  {
   "cell_type": "markdown",
   "metadata": {},
   "source": [
    "Look for the option `vmax` in the documentation and use it to make this heatmap useful. "
   ]
  },
  {
   "cell_type": "code",
   "execution_count": null,
   "metadata": {},
   "outputs": [],
   "source": [
    "alt_data = np.random.rand(10, 12)\n",
    "alt_data[4,4] = 100\n",
    "# use option vmax to improve heatmap"
   ]
  },
  {
   "cell_type": "markdown",
   "metadata": {},
   "source": [
    "Changing the colormap of the heatmap is done with the `cmap` option: `sns.heatmap(data,cmap=\"colormap\")`, where `\"colormap\"` refers to one of the many predefined colormaps of matplotlib. Have a look at the colormaps [here](https://matplotlib.org/examples/color/colormaps_reference.html) and try a couple. If you have the time, have a look at this [article](https://matplotlib.org/tutorials/colors/colormaps.html) on how to choose the best colormap for your data. "
   ]
  },
  {
   "cell_type": "code",
   "execution_count": null,
   "metadata": {},
   "outputs": [],
   "source": [
    "# try some colormaps"
   ]
  }
 ],
 "metadata": {
  "hide_input": false,
  "kernelspec": {
   "display_name": "Python [conda env:BPiDD]",
   "language": "python",
   "name": "conda-env-BPiDD-py"
  },
  "language_info": {
   "codemirror_mode": {
    "name": "ipython",
    "version": 3
   },
   "file_extension": ".py",
   "mimetype": "text/x-python",
   "name": "python",
   "nbconvert_exporter": "python",
   "pygments_lexer": "ipython3",
   "version": "3.7.3"
  },
  "toc": {
   "base_numbering": 1,
   "nav_menu": {},
   "number_sections": false,
   "sideBar": true,
   "skip_h1_title": false,
   "title_cell": "Table of Contents",
   "title_sidebar": "Contents",
   "toc_cell": false,
   "toc_position": {},
   "toc_section_display": true,
   "toc_window_display": true
  }
 },
 "nbformat": 4,
 "nbformat_minor": 4
}
