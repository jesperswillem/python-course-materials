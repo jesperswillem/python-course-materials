{
 "cells": [
  {
   "cell_type": "code",
   "execution_count": null,
   "metadata": {},
   "outputs": [],
   "source": [
    "%matplotlib inline\n",
    "import numpy as np\n",
    "import seaborn as sns\n",
    "import matplotlib.pyplot as plt\n",
    "import pandas as pd"
   ]
  },
  {
   "cell_type": "markdown",
   "metadata": {},
   "source": [
    "In exercise 4.1 we used seaborn to control figure aesthetics, however seaborn has much more to offer. Seaborn works especially well with pandas DataFrames; in most cases seaborn will take care of extracting the data from the DataFrame. In the following exercises we will explore some of the plotting functionatity of seaborn. Most plotting functions in seaborn have a similar syntax: `sns.functionname(data=df,x='column_x',y='column_y')`, where `column_x` and `column_y` are columns in DataFrame `df`. \n",
    "\n",
    "In this exercise we will use the sample dataset *tips*. Load it with the code below and have a look at the data."
   ]
  },
  {
   "cell_type": "code",
   "execution_count": null,
   "metadata": {},
   "outputs": [],
   "source": [
    "df = sns.load_dataset(\"tips\")\n",
    "display(df)"
   ]
  },
  {
   "cell_type": "markdown",
   "metadata": {},
   "source": [
    "# Scatterplot"
   ]
  },
  {
   "cell_type": "markdown",
   "metadata": {},
   "source": [
    "Next, we use `sns.scatterplot` to make a scatter plot: "
   ]
  },
  {
   "cell_type": "code",
   "execution_count": null,
   "metadata": {},
   "outputs": [],
   "source": [
    "sns.scatterplot(data=df,x='tip',y='total_bill')"
   ]
  },
  {
   "cell_type": "markdown",
   "metadata": {},
   "source": [
    "As you can see, seaborn uses the column names to automatically set the axes labels. \n",
    "\n",
    "There is a lot more data that is not being visualized. More information could be put in the color of the dots and the shape of the dots, which can be achieved with the arguments `hue` and `style`. Both these arguments should be set to a column name. Add `hue` and `style` to the scatter plot. What do they do?"
   ]
  },
  {
   "cell_type": "code",
   "execution_count": null,
   "metadata": {},
   "outputs": [],
   "source": [
    "#sns.scatterplot(data=df,x='tip',y='total_bill',...)"
   ]
  },
  {
   "cell_type": "markdown",
   "metadata": {},
   "source": [
    "The scatterplot shown above gives you insight in the relation between tip and bill. Set up a plot that gives insight in the relation between the tip and the number of diners."
   ]
  },
  {
   "cell_type": "code",
   "execution_count": null,
   "metadata": {},
   "outputs": [],
   "source": [
    "# make plot"
   ]
  },
  {
   "cell_type": "markdown",
   "metadata": {},
   "source": [
    "Do you think this is an informative plot? Can you think of any better kinds of plots?"
   ]
  },
  {
   "cell_type": "markdown",
   "metadata": {},
   "source": [
    "# Categorical plots"
   ]
  },
  {
   "cell_type": "markdown",
   "metadata": {},
   "source": [
    "You can divide data into two categories (no pun intented): numerical data and categorical data, like the group size. Note that group size is actually both numerical and categorical. \n",
    "\n",
    "Have look at the data on tipping. Which columns do you think are categorical and which are numerical, and are there any columns that could be both?\n"
   ]
  },
  {
   "cell_type": "markdown",
   "metadata": {},
   "source": [
    "The function `sns.stripplot` is used in a similar manner as `sns.scatterplot`. Create a strip plot with the group size on the x-axis and the tip on the y-axis."
   ]
  },
  {
   "cell_type": "code",
   "execution_count": null,
   "metadata": {},
   "outputs": [],
   "source": [
    "#sns.stripplot(...)"
   ]
  },
  {
   "cell_type": "markdown",
   "metadata": {},
   "source": [
    "How does this differ from the scatter plot you made earlier?\n",
    "\n",
    "`hue` also works with `stripplot`; use this to differentiate between men and women."
   ]
  },
  {
   "cell_type": "code",
   "execution_count": null,
   "metadata": {},
   "outputs": [],
   "source": [
    "# add hue to stripplot"
   ]
  },
  {
   "cell_type": "markdown",
   "metadata": {},
   "source": [
    "There several other function to plot categorical data:\n",
    "- `sns.swarmplot`\n",
    "- `sns.boxplot`\n",
    "- `sns.violinplot`\n",
    "- `sns.barplot`\n",
    "\n",
    "Try out these functions with the tipping data"
   ]
  },
  {
   "cell_type": "code",
   "execution_count": null,
   "metadata": {},
   "outputs": [],
   "source": [
    "# try different plotting functions"
   ]
  },
  {
   "cell_type": "markdown",
   "metadata": {},
   "source": [
    "# Seaborn and matplotlib"
   ]
  },
  {
   "cell_type": "markdown",
   "metadata": {},
   "source": [
    "Seaborn is built on top of matplotlib, which means that all matplotlib functions work with seaborn plots. Before, we used the matplotlib `Axis` object (`ax`) to modify plots. In order to create a Seaborn plot on a specific matplotlib `Axis`, the `ax` argument must be used:"
   ]
  },
  {
   "cell_type": "code",
   "execution_count": null,
   "metadata": {},
   "outputs": [],
   "source": [
    "fig = plt.figure()\n",
    "ax = plt.gca()\n",
    "sns.scatterplot(data=df,x='tip',y='total_bill',ax=ax)"
   ]
  },
  {
   "cell_type": "markdown",
   "metadata": {},
   "source": [
    "Use matplotlib functions to:\n",
    "* add a title\n",
    "* change the axes labels\n",
    "* save this figure to file"
   ]
  },
  {
   "cell_type": "markdown",
   "metadata": {},
   "source": [
    "# Pair plots"
   ]
  },
  {
   "cell_type": "markdown",
   "metadata": {},
   "source": [
    "With the plotting functions above, we were only able to look at one numerical column. With `pairplot` we can inspect all numerical columns at once:"
   ]
  },
  {
   "cell_type": "code",
   "execution_count": null,
   "metadata": {},
   "outputs": [],
   "source": [
    "sns.pairplot(df)"
   ]
  },
  {
   "cell_type": "markdown",
   "metadata": {},
   "source": [
    "You can specify the columns that should be included with the `vars` argument. What column(s) do you think could be left out? Make a pairplot that does not include that column."
   ]
  },
  {
   "cell_type": "code",
   "execution_count": null,
   "metadata": {},
   "outputs": [],
   "source": [
    "# make more usefull pairplot"
   ]
  },
  {
   "cell_type": "markdown",
   "metadata": {},
   "source": [
    "`pairplot` does support `hue`; map gender on the pairplot."
   ]
  },
  {
   "cell_type": "code",
   "execution_count": null,
   "metadata": {},
   "outputs": [],
   "source": [
    "# use hue in pairplot"
   ]
  },
  {
   "cell_type": "markdown",
   "metadata": {},
   "source": [
    "Interestingly, more happens than just the mapping of the genders. This is because the kind of plot for the on-diagonal plots is set to auto. You can change this with the argument `diag_kind`. Use the documentation to figure out what values `diag_kind` can have and get the histograms back."
   ]
  },
  {
   "cell_type": "code",
   "execution_count": null,
   "metadata": {},
   "outputs": [],
   "source": [
    "# change type of plot on the diagonal"
   ]
  },
  {
   "cell_type": "markdown",
   "metadata": {},
   "source": [
    "It is also possible to draw a regression plot instead of the scatter plot on the off-diagonal plots. Look into the documentation of `pairplot` for this option and create a pariplot with regression plots."
   ]
  },
  {
   "cell_type": "code",
   "execution_count": null,
   "metadata": {},
   "outputs": [],
   "source": [
    "# put regression plot on off-diagonal"
   ]
  },
  {
   "cell_type": "markdown",
   "metadata": {},
   "source": [
    "# Advanced plot"
   ]
  },
  {
   "cell_type": "markdown",
   "metadata": {},
   "source": [
    "Reproduce this plot using `subplot`, Seaborn's function for figure aesthetics and Seaborn's categorical plot function.\n",
    "\n",
    "<img src=\"advanced_plot.svg\" width=\"70%\">\n",
    "\n"
   ]
  },
  {
   "cell_type": "code",
   "execution_count": null,
   "metadata": {},
   "outputs": [],
   "source": [
    "# use everything you learned in the previous exercises to recreate this plot"
   ]
  }
 ],
 "metadata": {
  "hide_input": false,
  "kernelspec": {
   "display_name": "Python [conda env:BPiDD]",
   "language": "python",
   "name": "conda-env-BPiDD-py"
  },
  "language_info": {
   "codemirror_mode": {
    "name": "ipython",
    "version": 3
   },
   "file_extension": ".py",
   "mimetype": "text/x-python",
   "name": "python",
   "nbconvert_exporter": "python",
   "pygments_lexer": "ipython3",
   "version": "3.7.3"
  },
  "toc": {
   "base_numbering": 1,
   "nav_menu": {},
   "number_sections": false,
   "sideBar": true,
   "skip_h1_title": false,
   "title_cell": "Table of Contents",
   "title_sidebar": "Contents",
   "toc_cell": false,
   "toc_position": {},
   "toc_section_display": true,
   "toc_window_display": true
  }
 },
 "nbformat": 4,
 "nbformat_minor": 4
}
